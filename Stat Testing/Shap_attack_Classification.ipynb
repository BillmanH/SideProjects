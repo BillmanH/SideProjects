{
 "cells": [
  {
   "cell_type": "markdown",
   "metadata": {},
   "source": [
    "# Looking closely at SHAP\n",
    "\n",
    "## KernalExplainer\n",
    "\n",
    "**A unified measure of feature importance.**\n",
    "\n",
    "William Harding william.harding@avanade.com </br>\n",
    "Manager, Advanced Analytics</br>\n",
    "Data and AI COE</br>"
   ]
  },
  {
   "cell_type": "code",
   "execution_count": 1,
   "metadata": {},
   "outputs": [
    {
     "ename": "ImportError",
     "evalue": "Can't determine version for bottleneck",
     "output_type": "error",
     "traceback": [
      "\u001b[1;31m---------------------------------------------------------------------------\u001b[0m",
      "\u001b[1;31mImportError\u001b[0m                               Traceback (most recent call last)",
      "\u001b[1;32m<ipython-input-1-0d02cc3ab0e1>\u001b[0m in \u001b[0;36m<module>\u001b[1;34m\u001b[0m\n\u001b[0;32m      1\u001b[0m \u001b[1;31m#standards\u001b[0m\u001b[1;33m\u001b[0m\u001b[1;33m\u001b[0m\u001b[0m\n\u001b[1;32m----> 2\u001b[1;33m \u001b[1;32mimport\u001b[0m \u001b[0mpandas\u001b[0m \u001b[1;32mas\u001b[0m \u001b[0mpd\u001b[0m\u001b[1;33m\u001b[0m\u001b[0m\n\u001b[0m\u001b[0;32m      3\u001b[0m \u001b[1;32mimport\u001b[0m \u001b[0mnumpy\u001b[0m \u001b[1;32mas\u001b[0m \u001b[0mnp\u001b[0m\u001b[1;33m\u001b[0m\u001b[0m\n\u001b[0;32m      4\u001b[0m \u001b[1;32mimport\u001b[0m \u001b[0maltair\u001b[0m \u001b[1;32mas\u001b[0m \u001b[0malt\u001b[0m\u001b[1;33m\u001b[0m\u001b[0m\n\u001b[0;32m      5\u001b[0m \u001b[1;32mimport\u001b[0m \u001b[0mIPython\u001b[0m\u001b[1;33m\u001b[0m\u001b[0m\n",
      "\u001b[1;32m~\\AppData\\Local\\Continuum\\anaconda3\\envs\\env-projectx_c\\lib\\site-packages\\pandas\\__init__.py\u001b[0m in \u001b[0;36m<module>\u001b[1;34m\u001b[0m\n\u001b[0;32m     52\u001b[0m \u001b[1;32mimport\u001b[0m \u001b[0mpandas\u001b[0m\u001b[1;33m.\u001b[0m\u001b[0mcore\u001b[0m\u001b[1;33m.\u001b[0m\u001b[0mconfig_init\u001b[0m\u001b[1;33m\u001b[0m\u001b[0m\n\u001b[0;32m     53\u001b[0m \u001b[1;33m\u001b[0m\u001b[0m\n\u001b[1;32m---> 54\u001b[1;33m from pandas.core.api import (\n\u001b[0m\u001b[0;32m     55\u001b[0m     \u001b[1;31m# dtype\u001b[0m\u001b[1;33m\u001b[0m\u001b[1;33m\u001b[0m\u001b[0m\n\u001b[0;32m     56\u001b[0m     \u001b[0mInt8Dtype\u001b[0m\u001b[1;33m,\u001b[0m\u001b[1;33m\u001b[0m\u001b[0m\n",
      "\u001b[1;32m~\\AppData\\Local\\Continuum\\anaconda3\\envs\\env-projectx_c\\lib\\site-packages\\pandas\\core\\api.py\u001b[0m in \u001b[0;36m<module>\u001b[1;34m\u001b[0m\n\u001b[0;32m     13\u001b[0m \u001b[1;33m\u001b[0m\u001b[0m\n\u001b[0;32m     14\u001b[0m \u001b[1;32mfrom\u001b[0m \u001b[0mpandas\u001b[0m\u001b[1;33m.\u001b[0m\u001b[0mcore\u001b[0m\u001b[1;33m.\u001b[0m\u001b[0malgorithms\u001b[0m \u001b[1;32mimport\u001b[0m \u001b[0mfactorize\u001b[0m\u001b[1;33m,\u001b[0m \u001b[0munique\u001b[0m\u001b[1;33m,\u001b[0m \u001b[0mvalue_counts\u001b[0m\u001b[1;33m\u001b[0m\u001b[0m\n\u001b[1;32m---> 15\u001b[1;33m \u001b[1;32mfrom\u001b[0m \u001b[0mpandas\u001b[0m\u001b[1;33m.\u001b[0m\u001b[0mcore\u001b[0m\u001b[1;33m.\u001b[0m\u001b[0marrays\u001b[0m \u001b[1;32mimport\u001b[0m \u001b[0mCategorical\u001b[0m\u001b[1;33m\u001b[0m\u001b[0m\n\u001b[0m\u001b[0;32m     16\u001b[0m \u001b[1;32mfrom\u001b[0m \u001b[0mpandas\u001b[0m\u001b[1;33m.\u001b[0m\u001b[0mcore\u001b[0m\u001b[1;33m.\u001b[0m\u001b[0marrays\u001b[0m\u001b[1;33m.\u001b[0m\u001b[0mboolean\u001b[0m \u001b[1;32mimport\u001b[0m \u001b[0mBooleanDtype\u001b[0m\u001b[1;33m\u001b[0m\u001b[0m\n\u001b[0;32m     17\u001b[0m from pandas.core.arrays.integer import (\n",
      "\u001b[1;32m~\\AppData\\Local\\Continuum\\anaconda3\\envs\\env-projectx_c\\lib\\site-packages\\pandas\\core\\arrays\\__init__.py\u001b[0m in \u001b[0;36m<module>\u001b[1;34m\u001b[0m\n\u001b[0;32m      5\u001b[0m     \u001b[0mtry_cast_to_ea\u001b[0m\u001b[1;33m,\u001b[0m\u001b[1;33m\u001b[0m\u001b[0m\n\u001b[0;32m      6\u001b[0m )\n\u001b[1;32m----> 7\u001b[1;33m \u001b[1;32mfrom\u001b[0m \u001b[0mpandas\u001b[0m\u001b[1;33m.\u001b[0m\u001b[0mcore\u001b[0m\u001b[1;33m.\u001b[0m\u001b[0marrays\u001b[0m\u001b[1;33m.\u001b[0m\u001b[0mboolean\u001b[0m \u001b[1;32mimport\u001b[0m \u001b[0mBooleanArray\u001b[0m\u001b[1;33m\u001b[0m\u001b[0m\n\u001b[0m\u001b[0;32m      8\u001b[0m \u001b[1;32mfrom\u001b[0m \u001b[0mpandas\u001b[0m\u001b[1;33m.\u001b[0m\u001b[0mcore\u001b[0m\u001b[1;33m.\u001b[0m\u001b[0marrays\u001b[0m\u001b[1;33m.\u001b[0m\u001b[0mcategorical\u001b[0m \u001b[1;32mimport\u001b[0m \u001b[0mCategorical\u001b[0m\u001b[1;33m\u001b[0m\u001b[0m\n\u001b[0;32m      9\u001b[0m \u001b[1;32mfrom\u001b[0m \u001b[0mpandas\u001b[0m\u001b[1;33m.\u001b[0m\u001b[0mcore\u001b[0m\u001b[1;33m.\u001b[0m\u001b[0marrays\u001b[0m\u001b[1;33m.\u001b[0m\u001b[0mdatetimes\u001b[0m \u001b[1;32mimport\u001b[0m \u001b[0mDatetimeArray\u001b[0m\u001b[1;33m\u001b[0m\u001b[0m\n",
      "\u001b[1;32m~\\AppData\\Local\\Continuum\\anaconda3\\envs\\env-projectx_c\\lib\\site-packages\\pandas\\core\\arrays\\boolean.py\u001b[0m in \u001b[0;36m<module>\u001b[1;34m\u001b[0m\n\u001b[0;32m     26\u001b[0m \u001b[1;32mfrom\u001b[0m \u001b[0mpandas\u001b[0m\u001b[1;33m.\u001b[0m\u001b[0mcore\u001b[0m\u001b[1;33m.\u001b[0m\u001b[0mdtypes\u001b[0m\u001b[1;33m.\u001b[0m\u001b[0mmissing\u001b[0m \u001b[1;32mimport\u001b[0m \u001b[0misna\u001b[0m\u001b[1;33m,\u001b[0m \u001b[0mnotna\u001b[0m\u001b[1;33m\u001b[0m\u001b[0m\n\u001b[0;32m     27\u001b[0m \u001b[1;33m\u001b[0m\u001b[0m\n\u001b[1;32m---> 28\u001b[1;33m \u001b[1;32mfrom\u001b[0m \u001b[0mpandas\u001b[0m\u001b[1;33m.\u001b[0m\u001b[0mcore\u001b[0m \u001b[1;32mimport\u001b[0m \u001b[0mnanops\u001b[0m\u001b[1;33m,\u001b[0m \u001b[0mops\u001b[0m\u001b[1;33m\u001b[0m\u001b[0m\n\u001b[0m\u001b[0;32m     29\u001b[0m \u001b[1;33m\u001b[0m\u001b[0m\n\u001b[0;32m     30\u001b[0m \u001b[1;32mfrom\u001b[0m \u001b[1;33m.\u001b[0m\u001b[0mmasked\u001b[0m \u001b[1;32mimport\u001b[0m \u001b[0mBaseMaskedArray\u001b[0m\u001b[1;33m\u001b[0m\u001b[0m\n",
      "\u001b[1;32m~\\AppData\\Local\\Continuum\\anaconda3\\envs\\env-projectx_c\\lib\\site-packages\\pandas\\core\\nanops.py\u001b[0m in \u001b[0;36m<module>\u001b[1;34m\u001b[0m\n\u001b[0;32m     33\u001b[0m \u001b[1;32mfrom\u001b[0m \u001b[0mpandas\u001b[0m\u001b[1;33m.\u001b[0m\u001b[0mcore\u001b[0m\u001b[1;33m.\u001b[0m\u001b[0mdtypes\u001b[0m\u001b[1;33m.\u001b[0m\u001b[0mmissing\u001b[0m \u001b[1;32mimport\u001b[0m \u001b[0misna\u001b[0m\u001b[1;33m,\u001b[0m \u001b[0mna_value_for_dtype\u001b[0m\u001b[1;33m,\u001b[0m \u001b[0mnotna\u001b[0m\u001b[1;33m\u001b[0m\u001b[0m\n\u001b[0;32m     34\u001b[0m \u001b[1;33m\u001b[0m\u001b[0m\n\u001b[1;32m---> 35\u001b[1;33m \u001b[0mbn\u001b[0m \u001b[1;33m=\u001b[0m \u001b[0mimport_optional_dependency\u001b[0m\u001b[1;33m(\u001b[0m\u001b[1;34m\"bottleneck\"\u001b[0m\u001b[1;33m,\u001b[0m \u001b[0mraise_on_missing\u001b[0m\u001b[1;33m=\u001b[0m\u001b[1;32mFalse\u001b[0m\u001b[1;33m,\u001b[0m \u001b[0mon_version\u001b[0m\u001b[1;33m=\u001b[0m\u001b[1;34m\"warn\"\u001b[0m\u001b[1;33m)\u001b[0m\u001b[1;33m\u001b[0m\u001b[0m\n\u001b[0m\u001b[0;32m     36\u001b[0m \u001b[0m_BOTTLENECK_INSTALLED\u001b[0m \u001b[1;33m=\u001b[0m \u001b[0mbn\u001b[0m \u001b[1;32mis\u001b[0m \u001b[1;32mnot\u001b[0m \u001b[1;32mNone\u001b[0m\u001b[1;33m\u001b[0m\u001b[0m\n\u001b[0;32m     37\u001b[0m \u001b[0m_USE_BOTTLENECK\u001b[0m \u001b[1;33m=\u001b[0m \u001b[1;32mFalse\u001b[0m\u001b[1;33m\u001b[0m\u001b[0m\n",
      "\u001b[1;32m~\\AppData\\Local\\Continuum\\anaconda3\\envs\\env-projectx_c\\lib\\site-packages\\pandas\\compat\\_optional.py\u001b[0m in \u001b[0;36mimport_optional_dependency\u001b[1;34m(name, extra, raise_on_missing, on_version)\u001b[0m\n\u001b[0;32m     96\u001b[0m     \u001b[0mminimum_version\u001b[0m \u001b[1;33m=\u001b[0m \u001b[0mVERSIONS\u001b[0m\u001b[1;33m.\u001b[0m\u001b[0mget\u001b[0m\u001b[1;33m(\u001b[0m\u001b[0mname\u001b[0m\u001b[1;33m)\u001b[0m\u001b[1;33m\u001b[0m\u001b[0m\n\u001b[0;32m     97\u001b[0m     \u001b[1;32mif\u001b[0m \u001b[0mminimum_version\u001b[0m\u001b[1;33m:\u001b[0m\u001b[1;33m\u001b[0m\u001b[0m\n\u001b[1;32m---> 98\u001b[1;33m         \u001b[0mversion\u001b[0m \u001b[1;33m=\u001b[0m \u001b[0m_get_version\u001b[0m\u001b[1;33m(\u001b[0m\u001b[0mmodule\u001b[0m\u001b[1;33m)\u001b[0m\u001b[1;33m\u001b[0m\u001b[0m\n\u001b[0m\u001b[0;32m     99\u001b[0m         \u001b[1;32mif\u001b[0m \u001b[0mdistutils\u001b[0m\u001b[1;33m.\u001b[0m\u001b[0mversion\u001b[0m\u001b[1;33m.\u001b[0m\u001b[0mLooseVersion\u001b[0m\u001b[1;33m(\u001b[0m\u001b[0mversion\u001b[0m\u001b[1;33m)\u001b[0m \u001b[1;33m<\u001b[0m \u001b[0mminimum_version\u001b[0m\u001b[1;33m:\u001b[0m\u001b[1;33m\u001b[0m\u001b[0m\n\u001b[0;32m    100\u001b[0m             \u001b[1;32massert\u001b[0m \u001b[0mon_version\u001b[0m \u001b[1;32min\u001b[0m \u001b[1;33m{\u001b[0m\u001b[1;34m\"warn\"\u001b[0m\u001b[1;33m,\u001b[0m \u001b[1;34m\"raise\"\u001b[0m\u001b[1;33m,\u001b[0m \u001b[1;34m\"ignore\"\u001b[0m\u001b[1;33m}\u001b[0m\u001b[1;33m\u001b[0m\u001b[0m\n",
      "\u001b[1;32m~\\AppData\\Local\\Continuum\\anaconda3\\envs\\env-projectx_c\\lib\\site-packages\\pandas\\compat\\_optional.py\u001b[0m in \u001b[0;36m_get_version\u001b[1;34m(module)\u001b[0m\n\u001b[0;32m     41\u001b[0m \u001b[1;33m\u001b[0m\u001b[0m\n\u001b[0;32m     42\u001b[0m     \u001b[1;32mif\u001b[0m \u001b[0mversion\u001b[0m \u001b[1;32mis\u001b[0m \u001b[1;32mNone\u001b[0m\u001b[1;33m:\u001b[0m\u001b[1;33m\u001b[0m\u001b[0m\n\u001b[1;32m---> 43\u001b[1;33m         \u001b[1;32mraise\u001b[0m \u001b[0mImportError\u001b[0m\u001b[1;33m(\u001b[0m\u001b[1;34mf\"Can't determine version for {module.__name__}\"\u001b[0m\u001b[1;33m)\u001b[0m\u001b[1;33m\u001b[0m\u001b[0m\n\u001b[0m\u001b[0;32m     44\u001b[0m     \u001b[1;32mreturn\u001b[0m \u001b[0mversion\u001b[0m\u001b[1;33m\u001b[0m\u001b[0m\n\u001b[0;32m     45\u001b[0m \u001b[1;33m\u001b[0m\u001b[0m\n",
      "\u001b[1;31mImportError\u001b[0m: Can't determine version for bottleneck"
     ]
    }
   ],
   "source": [
    "#standards\n",
    "import pandas as pd\n",
    "import numpy as np\n",
    "import altair as alt\n",
    "import IPython\n",
    "\n",
    "#warnings\n",
    "import warnings\n",
    "warnings.filterwarnings(\"ignore\", category=UserWarning)\n",
    "\n",
    "#stats\n",
    "from scipy.stats import pearsonr\n",
    "from sklearn.linear_model import LinearRegression\n",
    "from sklearn.preprocessing import MinMaxScaler\n",
    "from sklearn.tree import DecisionTreeClassifier\n",
    "\n",
    "#Shap\n",
    "import shap\n",
    "shap.initjs()\n",
    "\n",
    "#datasets\n",
    "from sklearn import datasets\n",
    "iris = datasets.load_iris()"
   ]
  },
  {
   "cell_type": "code",
   "execution_count": 2,
   "metadata": {},
   "outputs": [
    {
     "data": {
      "image/png": "[encoded data removed]",
      "text/plain": [
       "<IPython.core.display.Image object>"
      ]
     },
     "execution_count": 2,
     "metadata": {},
     "output_type": "execute_result"
    }
   ],
   "source": [
    "IPython.display.Image(filename='images/shap_diagram.png')"
   ]
  },
  {
   "cell_type": "markdown",
   "metadata": {},
   "source": [
    "# Looking at the IRIS Dataset"
   ]
  },
  {
   "cell_type": "code",
   "execution_count": 3,
   "metadata": {},
   "outputs": [
    {
     "name": "stdout",
     "output_type": "stream",
     "text": [
      ".. _iris_dataset:\n",
      "\n",
      "Iris plants dataset\n",
      "--------------------\n",
      "\n",
      "**Data Set Characteristics:**\n",
      "\n",
      "    :Number of Instances: 150 (50 in each of three classes)\n",
      "    :Number of Attributes: 4 numeric, predictive attributes and the class\n",
      "    :Attribute Information:\n",
      "        - sepal length in cm\n",
      "        - sepal width in cm\n",
      "        - petal length in cm\n",
      "        - petal width in cm\n",
      "        - class:\n",
      "                - Iris-Setosa\n",
      "                - Iris-Versicolour\n",
      "                - Iris-Virginica\n",
      "                \n",
      "    :Summary Statistics:\n",
      "\n",
      "    ============== ==== ==== ======= ===== ====================\n",
      "                    Min  Max   Mean    SD   Class Correlation\n",
      "    ============== ==== ==== ======= ===== ====================\n",
      "    sepal length:   4.3  7.9   5.84   0.83    0.7826\n",
      "    sepal width:    2.0  4.4   3.05   0.43   -0.4194\n",
      "    petal length:   1.0  6.9   3.76   1.76    0.9490  (high!)\n",
      "    petal width:    0.1  2.5   1.20   0.76    0.9565  (high!)\n",
      "    ============== ==== ==== ======= ===== ====================\n",
      "\n",
      "    :Missing Attribute Values: None\n",
      "    :Class Distribution: 33.3% for each of 3 classes.\n",
      "    :Creator: R.A. Fisher\n",
      "    :Donor: Michael Marshall (MARSHALL%PLU@io.arc.nasa.gov)\n",
      "    :Date: July, 1988\n",
      "\n",
      "The famous Iris database, first used by Sir R.A. Fisher. The dataset is taken\n",
      "from Fisher's paper. Note that it's the same as in R, but not as in the UCI\n",
      "Machine Learning Repository, which has two wrong data points.\n",
      "\n",
      "This is perhaps the best known database to be found in the\n",
      "pattern recognition literature.  Fisher's paper is a classic in the field and\n",
      "is referenced frequently to this day.  (See Duda & Hart, for example.)  The\n",
      "data set contains 3 classes of 50 instances each, where each class refers to a\n",
      "type of iris plant.  One class is linearly separable from the other 2; the\n",
      "latter are NOT linearly separable from each other.\n",
      "\n",
      ".. topic:: References\n",
      "\n",
      "   - Fisher, R.A. \"The use of multiple measurements in taxonomic problems\"\n",
      "     Annual Eugenics, 7, Part II, 179-188 (1936); also in \"Contributions to\n",
      "     Mathematical Statistics\" (John Wiley, NY, 1950).\n",
      "   - Duda, R.O., & Hart, P.E. (1973) Pattern Classification and Scene Analysis.\n",
      "     (Q327.D83) John Wiley & Sons.  ISBN 0-471-22361-1.  See page 218.\n",
      "   - Dasarathy, B.V. (1980) \"Nosing Around the Neighborhood: A New System\n",
      "     Structure and Classification Rule for Recognition in Partially Exposed\n",
      "     Environments\".  IEEE Transactions on Pattern Analysis and Machine\n",
      "     Intelligence, Vol. PAMI-2, No. 1, 67-71.\n",
      "   - Gates, G.W. (1972) \"The Reduced Nearest Neighbor Rule\".  IEEE Transactions\n",
      "     on Information Theory, May 1972, 431-433.\n",
      "   - See also: 1988 MLC Proceedings, 54-64.  Cheeseman et al\"s AUTOCLASS II\n",
      "     conceptual clustering system finds 3 classes in the data.\n",
      "   - Many, many more ...\n"
     ]
    }
   ],
   "source": [
    "print(datasets.load_iris()['DESCR'])"
   ]
  },
  {
   "cell_type": "code",
   "execution_count": 4,
   "metadata": {},
   "outputs": [],
   "source": [
    "b_x = pd.DataFrame(iris['data'],\n",
    "                columns=iris['feature_names'])\n",
    "\n",
    "b_y = pd.DataFrame(iris['target'],\n",
    "                  columns=['class'])\n",
    "b = pd.concat([b_x,b_y],axis=1)"
   ]
  },
  {
   "cell_type": "code",
   "execution_count": 5,
   "metadata": {},
   "outputs": [],
   "source": [
    "b['class'] = b['class'].apply(lambda x: iris['target_names'][x])"
   ]
  },
  {
   "cell_type": "code",
   "execution_count": 6,
   "metadata": {},
   "outputs": [
    {
     "data": {
      "text/html": [
       "<div>\n",
       "<style scoped>\n",
       "    .dataframe tbody tr th:only-of-type {\n",
       "        vertical-align: middle;\n",
       "    }\n",
       "\n",
       "    .dataframe tbody tr th {\n",
       "        vertical-align: top;\n",
       "    }\n",
       "\n",
       "    .dataframe thead th {\n",
       "        text-align: right;\n",
       "    }\n",
       "</style>\n",
       "<table border=\"1\" class=\"dataframe\">\n",
       "  <thead>\n",
       "    <tr style=\"text-align: right;\">\n",
       "      <th></th>\n",
       "      <th>sepal length (cm)</th>\n",
       "      <th>sepal width (cm)</th>\n",
       "      <th>petal length (cm)</th>\n",
       "      <th>petal width (cm)</th>\n",
       "      <th>class</th>\n",
       "    </tr>\n",
       "  </thead>\n",
       "  <tbody>\n",
       "    <tr>\n",
       "      <th>0</th>\n",
       "      <td>5.1</td>\n",
       "      <td>3.5</td>\n",
       "      <td>1.4</td>\n",
       "      <td>0.2</td>\n",
       "      <td>setosa</td>\n",
       "    </tr>\n",
       "    <tr>\n",
       "      <th>1</th>\n",
       "      <td>4.9</td>\n",
       "      <td>3.0</td>\n",
       "      <td>1.4</td>\n",
       "      <td>0.2</td>\n",
       "      <td>setosa</td>\n",
       "    </tr>\n",
       "    <tr>\n",
       "      <th>2</th>\n",
       "      <td>4.7</td>\n",
       "      <td>3.2</td>\n",
       "      <td>1.3</td>\n",
       "      <td>0.2</td>\n",
       "      <td>setosa</td>\n",
       "    </tr>\n",
       "    <tr>\n",
       "      <th>3</th>\n",
       "      <td>4.6</td>\n",
       "      <td>3.1</td>\n",
       "      <td>1.5</td>\n",
       "      <td>0.2</td>\n",
       "      <td>setosa</td>\n",
       "    </tr>\n",
       "    <tr>\n",
       "      <th>4</th>\n",
       "      <td>5.0</td>\n",
       "      <td>3.6</td>\n",
       "      <td>1.4</td>\n",
       "      <td>0.2</td>\n",
       "      <td>setosa</td>\n",
       "    </tr>\n",
       "  </tbody>\n",
       "</table>\n",
       "</div>"
      ],
      "text/plain": [
       "   sepal length (cm)  sepal width (cm)  petal length (cm)  petal width (cm)  \\\n",
       "0                5.1               3.5                1.4               0.2   \n",
       "1                4.9               3.0                1.4               0.2   \n",
       "2                4.7               3.2                1.3               0.2   \n",
       "3                4.6               3.1                1.5               0.2   \n",
       "4                5.0               3.6                1.4               0.2   \n",
       "\n",
       "    class  \n",
       "0  setosa  \n",
       "1  setosa  \n",
       "2  setosa  \n",
       "3  setosa  \n",
       "4  setosa  "
      ]
     },
     "execution_count": 6,
     "metadata": {},
     "output_type": "execute_result"
    }
   ],
   "source": [
    "b.head()"
   ]
  },
  {
   "cell_type": "code",
   "execution_count": 7,
   "metadata": {},
   "outputs": [
    {
     "data": {
      "application/vnd.vegalite.v3+json": {
       "$schema": "https://vega.github.io/schema/vega-lite/v3.3.0.json",
       "config": {
        "mark": {
         "tooltip": null
        },
        "view": {
         "height": 300,
         "width": 400
        }
       },
       "datasets": {
        "data-de0d7d471f6a9b923f58ecd819a57ffa": [
         {
          "class": "setosa",
          "petal length (cm)": 1.4,
          "petal width (cm)": 0.2,
          "sepal length (cm)": 5.1,
          "sepal width (cm)": 3.5
         },
         {
          "class": "setosa",
          "petal length (cm)": 1.4,
          "petal width (cm)": 0.2,
          "sepal length (cm)": 4.9,
          "sepal width (cm)": 3
         },
         {
          "class": "setosa",
          "petal length (cm)": 1.3,
          "petal width (cm)": 0.2,
          "sepal length (cm)": 4.7,
          "sepal width (cm)": 3.2
         },
         {
          "class": "setosa",
          "petal length (cm)": 1.5,
          "petal width (cm)": 0.2,
          "sepal length (cm)": 4.6,
          "sepal width (cm)": 3.1
         },
         {
          "class": "setosa",
          "petal length (cm)": 1.4,
          "petal width (cm)": 0.2,
          "sepal length (cm)": 5,
          "sepal width (cm)": 3.6
         },
         {
          "class": "setosa",
          "petal length (cm)": 1.7,
          "petal width (cm)": 0.4,
          "sepal length (cm)": 5.4,
          "sepal width (cm)": 3.9
         },
         {
          "class": "setosa",
          "petal length (cm)": 1.4,
          "petal width (cm)": 0.3,
          "sepal length (cm)": 4.6,
          "sepal width (cm)": 3.4
         },
         {
          "class": "setosa",
          "petal length (cm)": 1.5,
          "petal width (cm)": 0.2,
          "sepal length (cm)": 5,
          "sepal width (cm)": 3.4
         },
         {
          "class": "setosa",
          "petal length (cm)": 1.4,
          "petal width (cm)": 0.2,
          "sepal length (cm)": 4.4,
          "sepal width (cm)": 2.9
         },
         {
          "class": "setosa",
          "petal length (cm)": 1.5,
          "petal width (cm)": 0.1,
          "sepal length (cm)": 4.9,
          "sepal width (cm)": 3.1
         },
         {
          "class": "setosa",
          "petal length (cm)": 1.5,
          "petal width (cm)": 0.2,
          "sepal length (cm)": 5.4,
          "sepal width (cm)": 3.7
         },
         {
          "class": "setosa",
          "petal length (cm)": 1.6,
          "petal width (cm)": 0.2,
          "sepal length (cm)": 4.8,
          "sepal width (cm)": 3.4
         },
         {
          "class": "setosa",
          "petal length (cm)": 1.4,
          "petal width (cm)": 0.1,
          "sepal length (cm)": 4.8,
          "sepal width (cm)": 3
         },
         {
          "class": "setosa",
          "petal length (cm)": 1.1,
          "petal width (cm)": 0.1,
          "sepal length (cm)": 4.3,
          "sepal width (cm)": 3
         },
         {
          "class": "setosa",
          "petal length (cm)": 1.2,
          "petal width (cm)": 0.2,
          "sepal length (cm)": 5.8,
          "sepal width (cm)": 4
         },
         {
          "class": "setosa",
          "petal length (cm)": 1.5,
          "petal width (cm)": 0.4,
          "sepal length (cm)": 5.7,
          "sepal width (cm)": 4.4
         },
         {
          "class": "setosa",
          "petal length (cm)": 1.3,
          "petal width (cm)": 0.4,
          "sepal length (cm)": 5.4,
          "sepal width (cm)": 3.9
         },
         {
          "class": "setosa",
          "petal length (cm)": 1.4,
          "petal width (cm)": 0.3,
          "sepal length (cm)": 5.1,
          "sepal width (cm)": 3.5
         },
         {
          "class": "setosa",
          "petal length (cm)": 1.7,
          "petal width (cm)": 0.3,
          "sepal length (cm)": 5.7,
          "sepal width (cm)": 3.8
         },
         {
          "class": "setosa",
          "petal length (cm)": 1.5,
          "petal width (cm)": 0.3,
          "sepal length (cm)": 5.1,
          "sepal width (cm)": 3.8
         },
         {
          "class": "setosa",
          "petal length (cm)": 1.7,
          "petal width (cm)": 0.2,
          "sepal length (cm)": 5.4,
          "sepal width (cm)": 3.4
         },
         {
          "class": "setosa",
          "petal length (cm)": 1.5,
          "petal width (cm)": 0.4,
          "sepal length (cm)": 5.1,
          "sepal width (cm)": 3.7
         },
         {
          "class": "setosa",
          "petal length (cm)": 1,
          "petal width (cm)": 0.2,
          "sepal length (cm)": 4.6,
          "sepal width (cm)": 3.6
         },
         {
          "class": "setosa",
          "petal length (cm)": 1.7,
          "petal width (cm)": 0.5,
          "sepal length (cm)": 5.1,
          "sepal width (cm)": 3.3
         },
         {
          "class": "setosa",
          "petal length (cm)": 1.9,
          "petal width (cm)": 0.2,
          "sepal length (cm)": 4.8,
          "sepal width (cm)": 3.4
         },
         {
          "class": "setosa",
          "petal length (cm)": 1.6,
          "petal width (cm)": 0.2,
          "sepal length (cm)": 5,
          "sepal width (cm)": 3
         },
         {
          "class": "setosa",
          "petal length (cm)": 1.6,
          "petal width (cm)": 0.4,
          "sepal length (cm)": 5,
          "sepal width (cm)": 3.4
         },
         {
          "class": "setosa",
          "petal length (cm)": 1.5,
          "petal width (cm)": 0.2,
          "sepal length (cm)": 5.2,
          "sepal width (cm)": 3.5
         },
         {
          "class": "setosa",
          "petal length (cm)": 1.4,
          "petal width (cm)": 0.2,
          "sepal length (cm)": 5.2,
          "sepal width (cm)": 3.4
         },
         {
          "class": "setosa",
          "petal length (cm)": 1.6,
          "petal width (cm)": 0.2,
          "sepal length (cm)": 4.7,
          "sepal width (cm)": 3.2
         },
         {
          "class": "setosa",
          "petal length (cm)": 1.6,
          "petal width (cm)": 0.2,
          "sepal length (cm)": 4.8,
          "sepal width (cm)": 3.1
         },
         {
          "class": "setosa",
          "petal length (cm)": 1.5,
          "petal width (cm)": 0.4,
          "sepal length (cm)": 5.4,
          "sepal width (cm)": 3.4
         },
         {
          "class": "setosa",
          "petal length (cm)": 1.5,
          "petal width (cm)": 0.1,
          "sepal length (cm)": 5.2,
          "sepal width (cm)": 4.1
         },
         {
          "class": "setosa",
          "petal length (cm)": 1.4,
          "petal width (cm)": 0.2,
          "sepal length (cm)": 5.5,
          "sepal width (cm)": 4.2
         },
         {
          "class": "setosa",
          "petal length (cm)": 1.5,
          "petal width (cm)": 0.2,
          "sepal length (cm)": 4.9,
          "sepal width (cm)": 3.1
         },
         {
          "class": "setosa",
          "petal length (cm)": 1.2,
          "petal width (cm)": 0.2,
          "sepal length (cm)": 5,
          "sepal width (cm)": 3.2
         },
         {
          "class": "setosa",
          "petal length (cm)": 1.3,
          "petal width (cm)": 0.2,
          "sepal length (cm)": 5.5,
          "sepal width (cm)": 3.5
         },
         {
          "class": "setosa",
          "petal length (cm)": 1.4,
          "petal width (cm)": 0.1,
          "sepal length (cm)": 4.9,
          "sepal width (cm)": 3.6
         },
         {
          "class": "setosa",
          "petal length (cm)": 1.3,
          "petal width (cm)": 0.2,
          "sepal length (cm)": 4.4,
          "sepal width (cm)": 3
         },
         {
          "class": "setosa",
          "petal length (cm)": 1.5,
          "petal width (cm)": 0.2,
          "sepal length (cm)": 5.1,
          "sepal width (cm)": 3.4
         },
         {
          "class": "setosa",
          "petal length (cm)": 1.3,
          "petal width (cm)": 0.3,
          "sepal length (cm)": 5,
          "sepal width (cm)": 3.5
         },
         {
          "class": "setosa",
          "petal length (cm)": 1.3,
          "petal width (cm)": 0.3,
          "sepal length (cm)": 4.5,
          "sepal width (cm)": 2.3
         },
         {
          "class": "setosa",
          "petal length (cm)": 1.3,
          "petal width (cm)": 0.2,
          "sepal length (cm)": 4.4,
          "sepal width (cm)": 3.2
         },
         {
          "class": "setosa",
          "petal length (cm)": 1.6,
          "petal width (cm)": 0.6,
          "sepal length (cm)": 5,
          "sepal width (cm)": 3.5
         },
         {
          "class": "setosa",
          "petal length (cm)": 1.9,
          "petal width (cm)": 0.4,
          "sepal length (cm)": 5.1,
          "sepal width (cm)": 3.8
         },
         {
          "class": "setosa",
          "petal length (cm)": 1.4,
          "petal width (cm)": 0.3,
          "sepal length (cm)": 4.8,
          "sepal width (cm)": 3
         },
         {
          "class": "setosa",
          "petal length (cm)": 1.6,
          "petal width (cm)": 0.2,
          "sepal length (cm)": 5.1,
          "sepal width (cm)": 3.8
         },
         {
          "class": "setosa",
          "petal length (cm)": 1.4,
          "petal width (cm)": 0.2,
          "sepal length (cm)": 4.6,
          "sepal width (cm)": 3.2
         },
         {
          "class": "setosa",
          "petal length (cm)": 1.5,
          "petal width (cm)": 0.2,
          "sepal length (cm)": 5.3,
          "sepal width (cm)": 3.7
         },
         {
          "class": "setosa",
          "petal length (cm)": 1.4,
          "petal width (cm)": 0.2,
          "sepal length (cm)": 5,
          "sepal width (cm)": 3.3
         },
         {
          "class": "versicolor",
          "petal length (cm)": 4.7,
          "petal width (cm)": 1.4,
          "sepal length (cm)": 7,
          "sepal width (cm)": 3.2
         },
         {
          "class": "versicolor",
          "petal length (cm)": 4.5,
          "petal width (cm)": 1.5,
          "sepal length (cm)": 6.4,
          "sepal width (cm)": 3.2
         },
         {
          "class": "versicolor",
          "petal length (cm)": 4.9,
          "petal width (cm)": 1.5,
          "sepal length (cm)": 6.9,
          "sepal width (cm)": 3.1
         },
         {
          "class": "versicolor",
          "petal length (cm)": 4,
          "petal width (cm)": 1.3,
          "sepal length (cm)": 5.5,
          "sepal width (cm)": 2.3
         },
         {
          "class": "versicolor",
          "petal length (cm)": 4.6,
          "petal width (cm)": 1.5,
          "sepal length (cm)": 6.5,
          "sepal width (cm)": 2.8
         },
         {
          "class": "versicolor",
          "petal length (cm)": 4.5,
          "petal width (cm)": 1.3,
          "sepal length (cm)": 5.7,
          "sepal width (cm)": 2.8
         },
         {
          "class": "versicolor",
          "petal length (cm)": 4.7,
          "petal width (cm)": 1.6,
          "sepal length (cm)": 6.3,
          "sepal width (cm)": 3.3
         },
         {
          "class": "versicolor",
          "petal length (cm)": 3.3,
          "petal width (cm)": 1,
          "sepal length (cm)": 4.9,
          "sepal width (cm)": 2.4
         },
         {
          "class": "versicolor",
          "petal length (cm)": 4.6,
          "petal width (cm)": 1.3,
          "sepal length (cm)": 6.6,
          "sepal width (cm)": 2.9
         },
         {
          "class": "versicolor",
          "petal length (cm)": 3.9,
          "petal width (cm)": 1.4,
          "sepal length (cm)": 5.2,
          "sepal width (cm)": 2.7
         },
         {
          "class": "versicolor",
          "petal length (cm)": 3.5,
          "petal width (cm)": 1,
          "sepal length (cm)": 5,
          "sepal width (cm)": 2
         },
         {
          "class": "versicolor",
          "petal length (cm)": 4.2,
          "petal width (cm)": 1.5,
          "sepal length (cm)": 5.9,
          "sepal width (cm)": 3
         },
         {
          "class": "versicolor",
          "petal length (cm)": 4,
          "petal width (cm)": 1,
          "sepal length (cm)": 6,
          "sepal width (cm)": 2.2
         },
         {
          "class": "versicolor",
          "petal length (cm)": 4.7,
          "petal width (cm)": 1.4,
          "sepal length (cm)": 6.1,
          "sepal width (cm)": 2.9
         },
         {
          "class": "versicolor",
          "petal length (cm)": 3.6,
          "petal width (cm)": 1.3,
          "sepal length (cm)": 5.6,
          "sepal width (cm)": 2.9
         },
         {
          "class": "versicolor",
          "petal length (cm)": 4.4,
          "petal width (cm)": 1.4,
          "sepal length (cm)": 6.7,
          "sepal width (cm)": 3.1
         },
         {
          "class": "versicolor",
          "petal length (cm)": 4.5,
          "petal width (cm)": 1.5,
          "sepal length (cm)": 5.6,
          "sepal width (cm)": 3
         },
         {
          "class": "versicolor",
          "petal length (cm)": 4.1,
          "petal width (cm)": 1,
          "sepal length (cm)": 5.8,
          "sepal width (cm)": 2.7
         },
         {
          "class": "versicolor",
          "petal length (cm)": 4.5,
          "petal width (cm)": 1.5,
          "sepal length (cm)": 6.2,
          "sepal width (cm)": 2.2
         },
         {
          "class": "versicolor",
          "petal length (cm)": 3.9,
          "petal width (cm)": 1.1,
          "sepal length (cm)": 5.6,
          "sepal width (cm)": 2.5
         },
         {
          "class": "versicolor",
          "petal length (cm)": 4.8,
          "petal width (cm)": 1.8,
          "sepal length (cm)": 5.9,
          "sepal width (cm)": 3.2
         },
         {
          "class": "versicolor",
          "petal length (cm)": 4,
          "petal width (cm)": 1.3,
          "sepal length (cm)": 6.1,
          "sepal width (cm)": 2.8
         },
         {
          "class": "versicolor",
          "petal length (cm)": 4.9,
          "petal width (cm)": 1.5,
          "sepal length (cm)": 6.3,
          "sepal width (cm)": 2.5
         },
         {
          "class": "versicolor",
          "petal length (cm)": 4.7,
          "petal width (cm)": 1.2,
          "sepal length (cm)": 6.1,
          "sepal width (cm)": 2.8
         },
         {
          "class": "versicolor",
          "petal length (cm)": 4.3,
          "petal width (cm)": 1.3,
          "sepal length (cm)": 6.4,
          "sepal width (cm)": 2.9
         },
         {
          "class": "versicolor",
          "petal length (cm)": 4.4,
          "petal width (cm)": 1.4,
          "sepal length (cm)": 6.6,
          "sepal width (cm)": 3
         },
         {
          "class": "versicolor",
          "petal length (cm)": 4.8,
          "petal width (cm)": 1.4,
          "sepal length (cm)": 6.8,
          "sepal width (cm)": 2.8
         },
         {
          "class": "versicolor",
          "petal length (cm)": 5,
          "petal width (cm)": 1.7,
          "sepal length (cm)": 6.7,
          "sepal width (cm)": 3
         },
         {
          "class": "versicolor",
          "petal length (cm)": 4.5,
          "petal width (cm)": 1.5,
          "sepal length (cm)": 6,
          "sepal width (cm)": 2.9
         },
         {
          "class": "versicolor",
          "petal length (cm)": 3.5,
          "petal width (cm)": 1,
          "sepal length (cm)": 5.7,
          "sepal width (cm)": 2.6
         },
         {
          "class": "versicolor",
          "petal length (cm)": 3.8,
          "petal width (cm)": 1.1,
          "sepal length (cm)": 5.5,
          "sepal width (cm)": 2.4
         },
         {
          "class": "versicolor",
          "petal length (cm)": 3.7,
          "petal width (cm)": 1,
          "sepal length (cm)": 5.5,
          "sepal width (cm)": 2.4
         },
         {
          "class": "versicolor",
          "petal length (cm)": 3.9,
          "petal width (cm)": 1.2,
          "sepal length (cm)": 5.8,
          "sepal width (cm)": 2.7
         },
         {
          "class": "versicolor",
          "petal length (cm)": 5.1,
          "petal width (cm)": 1.6,
          "sepal length (cm)": 6,
          "sepal width (cm)": 2.7
         },
         {
          "class": "versicolor",
          "petal length (cm)": 4.5,
          "petal width (cm)": 1.5,
          "sepal length (cm)": 5.4,
          "sepal width (cm)": 3
         },
         {
          "class": "versicolor",
          "petal length (cm)": 4.5,
          "petal width (cm)": 1.6,
          "sepal length (cm)": 6,
          "sepal width (cm)": 3.4
         },
         {
          "class": "versicolor",
          "petal length (cm)": 4.7,
          "petal width (cm)": 1.5,
          "sepal length (cm)": 6.7,
          "sepal width (cm)": 3.1
         },
         {
          "class": "versicolor",
          "petal length (cm)": 4.4,
          "petal width (cm)": 1.3,
          "sepal length (cm)": 6.3,
          "sepal width (cm)": 2.3
         },
         {
          "class": "versicolor",
          "petal length (cm)": 4.1,
          "petal width (cm)": 1.3,
          "sepal length (cm)": 5.6,
          "sepal width (cm)": 3
         },
         {
          "class": "versicolor",
          "petal length (cm)": 4,
          "petal width (cm)": 1.3,
          "sepal length (cm)": 5.5,
          "sepal width (cm)": 2.5
         },
         {
          "class": "versicolor",
          "petal length (cm)": 4.4,
          "petal width (cm)": 1.2,
          "sepal length (cm)": 5.5,
          "sepal width (cm)": 2.6
         },
         {
          "class": "versicolor",
          "petal length (cm)": 4.6,
          "petal width (cm)": 1.4,
          "sepal length (cm)": 6.1,
          "sepal width (cm)": 3
         },
         {
          "class": "versicolor",
          "petal length (cm)": 4,
          "petal width (cm)": 1.2,
          "sepal length (cm)": 5.8,
          "sepal width (cm)": 2.6
         },
         {
          "class": "versicolor",
          "petal length (cm)": 3.3,
          "petal width (cm)": 1,
          "sepal length (cm)": 5,
          "sepal width (cm)": 2.3
         },
         {
          "class": "versicolor",
          "petal length (cm)": 4.2,
          "petal width (cm)": 1.3,
          "sepal length (cm)": 5.6,
          "sepal width (cm)": 2.7
         },
         {
          "class": "versicolor",
          "petal length (cm)": 4.2,
          "petal width (cm)": 1.2,
          "sepal length (cm)": 5.7,
          "sepal width (cm)": 3
         },
         {
          "class": "versicolor",
          "petal length (cm)": 4.2,
          "petal width (cm)": 1.3,
          "sepal length (cm)": 5.7,
          "sepal width (cm)": 2.9
         },
         {
          "class": "versicolor",
          "petal length (cm)": 4.3,
          "petal width (cm)": 1.3,
          "sepal length (cm)": 6.2,
          "sepal width (cm)": 2.9
         },
         {
          "class": "versicolor",
          "petal length (cm)": 3,
          "petal width (cm)": 1.1,
          "sepal length (cm)": 5.1,
          "sepal width (cm)": 2.5
         },
         {
          "class": "versicolor",
          "petal length (cm)": 4.1,
          "petal width (cm)": 1.3,
          "sepal length (cm)": 5.7,
          "sepal width (cm)": 2.8
         },
         {
          "class": "virginica",
          "petal length (cm)": 6,
          "petal width (cm)": 2.5,
          "sepal length (cm)": 6.3,
          "sepal width (cm)": 3.3
         },
         {
          "class": "virginica",
          "petal length (cm)": 5.1,
          "petal width (cm)": 1.9,
          "sepal length (cm)": 5.8,
          "sepal width (cm)": 2.7
         },
         {
          "class": "virginica",
          "petal length (cm)": 5.9,
          "petal width (cm)": 2.1,
          "sepal length (cm)": 7.1,
          "sepal width (cm)": 3
         },
         {
          "class": "virginica",
          "petal length (cm)": 5.6,
          "petal width (cm)": 1.8,
          "sepal length (cm)": 6.3,
          "sepal width (cm)": 2.9
         },
         {
          "class": "virginica",
          "petal length (cm)": 5.8,
          "petal width (cm)": 2.2,
          "sepal length (cm)": 6.5,
          "sepal width (cm)": 3
         },
         {
          "class": "virginica",
          "petal length (cm)": 6.6,
          "petal width (cm)": 2.1,
          "sepal length (cm)": 7.6,
          "sepal width (cm)": 3
         },
         {
          "class": "virginica",
          "petal length (cm)": 4.5,
          "petal width (cm)": 1.7,
          "sepal length (cm)": 4.9,
          "sepal width (cm)": 2.5
         },
         {
          "class": "virginica",
          "petal length (cm)": 6.3,
          "petal width (cm)": 1.8,
          "sepal length (cm)": 7.3,
          "sepal width (cm)": 2.9
         },
         {
          "class": "virginica",
          "petal length (cm)": 5.8,
          "petal width (cm)": 1.8,
          "sepal length (cm)": 6.7,
          "sepal width (cm)": 2.5
         },
         {
          "class": "virginica",
          "petal length (cm)": 6.1,
          "petal width (cm)": 2.5,
          "sepal length (cm)": 7.2,
          "sepal width (cm)": 3.6
         },
         {
          "class": "virginica",
          "petal length (cm)": 5.1,
          "petal width (cm)": 2,
          "sepal length (cm)": 6.5,
          "sepal width (cm)": 3.2
         },
         {
          "class": "virginica",
          "petal length (cm)": 5.3,
          "petal width (cm)": 1.9,
          "sepal length (cm)": 6.4,
          "sepal width (cm)": 2.7
         },
         {
          "class": "virginica",
          "petal length (cm)": 5.5,
          "petal width (cm)": 2.1,
          "sepal length (cm)": 6.8,
          "sepal width (cm)": 3
         },
         {
          "class": "virginica",
          "petal length (cm)": 5,
          "petal width (cm)": 2,
          "sepal length (cm)": 5.7,
          "sepal width (cm)": 2.5
         },
         {
          "class": "virginica",
          "petal length (cm)": 5.1,
          "petal width (cm)": 2.4,
          "sepal length (cm)": 5.8,
          "sepal width (cm)": 2.8
         },
         {
          "class": "virginica",
          "petal length (cm)": 5.3,
          "petal width (cm)": 2.3,
          "sepal length (cm)": 6.4,
          "sepal width (cm)": 3.2
         },
         {
          "class": "virginica",
          "petal length (cm)": 5.5,
          "petal width (cm)": 1.8,
          "sepal length (cm)": 6.5,
          "sepal width (cm)": 3
         },
         {
          "class": "virginica",
          "petal length (cm)": 6.7,
          "petal width (cm)": 2.2,
          "sepal length (cm)": 7.7,
          "sepal width (cm)": 3.8
         },
         {
          "class": "virginica",
          "petal length (cm)": 6.9,
          "petal width (cm)": 2.3,
          "sepal length (cm)": 7.7,
          "sepal width (cm)": 2.6
         },
         {
          "class": "virginica",
          "petal length (cm)": 5,
          "petal width (cm)": 1.5,
          "sepal length (cm)": 6,
          "sepal width (cm)": 2.2
         },
         {
          "class": "virginica",
          "petal length (cm)": 5.7,
          "petal width (cm)": 2.3,
          "sepal length (cm)": 6.9,
          "sepal width (cm)": 3.2
         },
         {
          "class": "virginica",
          "petal length (cm)": 4.9,
          "petal width (cm)": 2,
          "sepal length (cm)": 5.6,
          "sepal width (cm)": 2.8
         },
         {
          "class": "virginica",
          "petal length (cm)": 6.7,
          "petal width (cm)": 2,
          "sepal length (cm)": 7.7,
          "sepal width (cm)": 2.8
         },
         {
          "class": "virginica",
          "petal length (cm)": 4.9,
          "petal width (cm)": 1.8,
          "sepal length (cm)": 6.3,
          "sepal width (cm)": 2.7
         },
         {
          "class": "virginica",
          "petal length (cm)": 5.7,
          "petal width (cm)": 2.1,
          "sepal length (cm)": 6.7,
          "sepal width (cm)": 3.3
         },
         {
          "class": "virginica",
          "petal length (cm)": 6,
          "petal width (cm)": 1.8,
          "sepal length (cm)": 7.2,
          "sepal width (cm)": 3.2
         },
         {
          "class": "virginica",
          "petal length (cm)": 4.8,
          "petal width (cm)": 1.8,
          "sepal length (cm)": 6.2,
          "sepal width (cm)": 2.8
         },
         {
          "class": "virginica",
          "petal length (cm)": 4.9,
          "petal width (cm)": 1.8,
          "sepal length (cm)": 6.1,
          "sepal width (cm)": 3
         },
         {
          "class": "virginica",
          "petal length (cm)": 5.6,
          "petal width (cm)": 2.1,
          "sepal length (cm)": 6.4,
          "sepal width (cm)": 2.8
         },
         {
          "class": "virginica",
          "petal length (cm)": 5.8,
          "petal width (cm)": 1.6,
          "sepal length (cm)": 7.2,
          "sepal width (cm)": 3
         },
         {
          "class": "virginica",
          "petal length (cm)": 6.1,
          "petal width (cm)": 1.9,
          "sepal length (cm)": 7.4,
          "sepal width (cm)": 2.8
         },
         {
          "class": "virginica",
          "petal length (cm)": 6.4,
          "petal width (cm)": 2,
          "sepal length (cm)": 7.9,
          "sepal width (cm)": 3.8
         },
         {
          "class": "virginica",
          "petal length (cm)": 5.6,
          "petal width (cm)": 2.2,
          "sepal length (cm)": 6.4,
          "sepal width (cm)": 2.8
         },
         {
          "class": "virginica",
          "petal length (cm)": 5.1,
          "petal width (cm)": 1.5,
          "sepal length (cm)": 6.3,
          "sepal width (cm)": 2.8
         },
         {
          "class": "virginica",
          "petal length (cm)": 5.6,
          "petal width (cm)": 1.4,
          "sepal length (cm)": 6.1,
          "sepal width (cm)": 2.6
         },
         {
          "class": "virginica",
          "petal length (cm)": 6.1,
          "petal width (cm)": 2.3,
          "sepal length (cm)": 7.7,
          "sepal width (cm)": 3
         },
         {
          "class": "virginica",
          "petal length (cm)": 5.6,
          "petal width (cm)": 2.4,
          "sepal length (cm)": 6.3,
          "sepal width (cm)": 3.4
         },
         {
          "class": "virginica",
          "petal length (cm)": 5.5,
          "petal width (cm)": 1.8,
          "sepal length (cm)": 6.4,
          "sepal width (cm)": 3.1
         },
         {
          "class": "virginica",
          "petal length (cm)": 4.8,
          "petal width (cm)": 1.8,
          "sepal length (cm)": 6,
          "sepal width (cm)": 3
         },
         {
          "class": "virginica",
          "petal length (cm)": 5.4,
          "petal width (cm)": 2.1,
          "sepal length (cm)": 6.9,
          "sepal width (cm)": 3.1
         },
         {
          "class": "virginica",
          "petal length (cm)": 5.6,
          "petal width (cm)": 2.4,
          "sepal length (cm)": 6.7,
          "sepal width (cm)": 3.1
         },
         {
          "class": "virginica",
          "petal length (cm)": 5.1,
          "petal width (cm)": 2.3,
          "sepal length (cm)": 6.9,
          "sepal width (cm)": 3.1
         },
         {
          "class": "virginica",
          "petal length (cm)": 5.1,
          "petal width (cm)": 1.9,
          "sepal length (cm)": 5.8,
          "sepal width (cm)": 2.7
         },
         {
          "class": "virginica",
          "petal length (cm)": 5.9,
          "petal width (cm)": 2.3,
          "sepal length (cm)": 6.8,
          "sepal width (cm)": 3.2
         },
         {
          "class": "virginica",
          "petal length (cm)": 5.7,
          "petal width (cm)": 2.5,
          "sepal length (cm)": 6.7,
          "sepal width (cm)": 3.3
         },
         {
          "class": "virginica",
          "petal length (cm)": 5.2,
          "petal width (cm)": 2.3,
          "sepal length (cm)": 6.7,
          "sepal width (cm)": 3
         },
         {
          "class": "virginica",
          "petal length (cm)": 5,
          "petal width (cm)": 1.9,
          "sepal length (cm)": 6.3,
          "sepal width (cm)": 2.5
         },
         {
          "class": "virginica",
          "petal length (cm)": 5.2,
          "petal width (cm)": 2,
          "sepal length (cm)": 6.5,
          "sepal width (cm)": 3
         },
         {
          "class": "virginica",
          "petal length (cm)": 5.4,
          "petal width (cm)": 2.3,
          "sepal length (cm)": 6.2,
          "sepal width (cm)": 3.4
         },
         {
          "class": "virginica",
          "petal length (cm)": 5.1,
          "petal width (cm)": 1.8,
          "sepal length (cm)": 5.9,
          "sepal width (cm)": 3
         }
        ]
       },
       "repeat": {
        "column": [
         "sepal length (cm)",
         "sepal width (cm)",
         "petal length (cm)",
         "petal width (cm)"
        ],
        "row": [
         "sepal length (cm)",
         "sepal width (cm)",
         "petal length (cm)",
         "petal width (cm)"
        ]
       },
       "spec": {
        "data": {
         "name": "data-de0d7d471f6a9b923f58ecd819a57ffa"
        },
        "encoding": {
         "color": {
          "field": "class",
          "type": "nominal"
         },
         "x": {
          "field": {
           "repeat": "column"
          },
          "type": "quantitative"
         },
         "y": {
          "field": {
           "repeat": "row"
          },
          "type": "quantitative"
         }
        },
        "height": 100,
        "mark": "circle",
        "width": 100
       }
      },
      "image/png": "[encoded data removed]",
      "text/plain": [
       "<VegaLite 3 object>\n",
       "\n",
       "If you see this message, it means the renderer has not been properly enabled\n",
       "for the frontend that you are using. For more information, see\n",
       "https://altair-viz.github.io/user_guide/troubleshooting.html\n"
      ]
     },
     "execution_count": 7,
     "metadata": {},
     "output_type": "execute_result"
    }
   ],
   "source": [
    "alt.Chart(b).mark_circle().encode(\n",
    "    alt.X(alt.repeat(\"column\"), type='quantitative'),\n",
    "    alt.Y(alt.repeat(\"row\"), type='quantitative'),\n",
    "    color='class'\n",
    ").properties(\n",
    "    width=100,\n",
    "    height=100\n",
    ").repeat(\n",
    "    row=list(b_x.columns),\n",
    "    column=list(b_x.columns)\n",
    ")"
   ]
  },
  {
   "cell_type": "code",
   "execution_count": 8,
   "metadata": {},
   "outputs": [
    {
     "name": "stdout",
     "output_type": "stream",
     "text": [
      "the coefficient of determination R^2 of the prediction:  1.0\n"
     ]
    }
   ],
   "source": [
    "dec = DecisionTreeClassifier().fit(b_x, b_y)\n",
    "print(\"the coefficient of determination R^2 of the prediction: \",dec.score(b_x, b_y))"
   ]
  },
  {
   "cell_type": "markdown",
   "metadata": {},
   "source": [
    "## SHAP Values"
   ]
  },
  {
   "cell_type": "markdown",
   "metadata": {},
   "source": [
    "Kernel SHAP [KernalExplainer](https://github.com/slundberg/shap/blob/5b2b749afbcde74e50eba0c8cc1983c35b331e53/shap/explainers/kernel.py) uses a specially-weighted local linear regression to estimate SHAP values for any model."
   ]
  },
  {
   "cell_type": "code",
   "execution_count": 9,
   "metadata": {},
   "outputs": [
    {
     "name": "stderr",
     "output_type": "stream",
     "text": [
      "Using 150 background data samples could cause slower run times. Consider using shap.kmeans(data, K) to summarize the background as K weighted samples.\n"
     ]
    },
    {
     "data": {
      "application/vnd.jupyter.widget-view+json": {
       "model_id": "558971acc81d4c76a75cb3978f312e07",
       "version_major": 2,
       "version_minor": 0
      },
      "text/plain": [
       "HBox(children=(IntProgress(value=0, max=150), HTML(value='')))"
      ]
     },
     "metadata": {},
     "output_type": "display_data"
    },
    {
     "name": "stdout",
     "output_type": "stream",
     "text": [
      "\n"
     ]
    }
   ],
   "source": [
    "explainer = shap.KernelExplainer(dec.predict_proba, b_x, feature_dependence=\"independent\")\n",
    "shap_values = explainer.shap_values(b_x)"
   ]
  },
  {
   "cell_type": "code",
   "execution_count": 10,
   "metadata": {},
   "outputs": [
    {
     "data": {
      "image/png": "[encoded data removed]",
      "text/plain": [
       "<Figure size 576x223.2 with 1 Axes>"
      ]
     },
     "metadata": {
      "needs_background": "light"
     },
     "output_type": "display_data"
    }
   ],
   "source": [
    "shap.summary_plot(shap_values, b_x)"
   ]
  },
  {
   "cell_type": "code",
   "execution_count": 11,
   "metadata": {},
   "outputs": [
    {
     "data": {
      "text/html": [
       "<div>\n",
       "<style scoped>\n",
       "    .dataframe tbody tr th:only-of-type {\n",
       "        vertical-align: middle;\n",
       "    }\n",
       "\n",
       "    .dataframe tbody tr th {\n",
       "        vertical-align: top;\n",
       "    }\n",
       "\n",
       "    .dataframe thead th {\n",
       "        text-align: right;\n",
       "    }\n",
       "</style>\n",
       "<table border=\"1\" class=\"dataframe\">\n",
       "  <thead>\n",
       "    <tr style=\"text-align: right;\">\n",
       "      <th></th>\n",
       "      <th>sepal length (cm)</th>\n",
       "      <th>sepal width (cm)</th>\n",
       "      <th>petal length (cm)</th>\n",
       "      <th>petal width (cm)</th>\n",
       "    </tr>\n",
       "    <tr>\n",
       "      <th>class</th>\n",
       "      <th></th>\n",
       "      <th></th>\n",
       "      <th></th>\n",
       "      <th></th>\n",
       "    </tr>\n",
       "  </thead>\n",
       "  <tbody>\n",
       "    <tr>\n",
       "      <th>0</th>\n",
       "      <td>6.262</td>\n",
       "      <td>2.872</td>\n",
       "      <td>4.906</td>\n",
       "      <td>1.676</td>\n",
       "    </tr>\n",
       "    <tr>\n",
       "      <th>1</th>\n",
       "      <td>5.006</td>\n",
       "      <td>3.428</td>\n",
       "      <td>1.462</td>\n",
       "      <td>0.246</td>\n",
       "    </tr>\n",
       "  </tbody>\n",
       "</table>\n",
       "</div>"
      ],
      "text/plain": [
       "       sepal length (cm)  sepal width (cm)  petal length (cm)  \\\n",
       "class                                                           \n",
       "0                  6.262             2.872              4.906   \n",
       "1                  5.006             3.428              1.462   \n",
       "\n",
       "       petal width (cm)  \n",
       "class                    \n",
       "0                 1.676  \n",
       "1                 0.246  "
      ]
     },
     "execution_count": 11,
     "metadata": {},
     "output_type": "execute_result"
    }
   ],
   "source": [
    "def f(x):\n",
    "    if x=='setosa':\n",
    "        return 1\n",
    "    else:\n",
    "        return 0\n",
    "\n",
    "b_x1 = b_x.copy()\n",
    "b_x1['class'] = b['class'].apply(f)\n",
    "b_x1.groupby('class').mean()"
   ]
  },
  {
   "cell_type": "code",
   "execution_count": 12,
   "metadata": {},
   "outputs": [
    {
     "data": {
      "application/vnd.jupyter.widget-view+json": {
       "model_id": "68699a149ec1444db30ce90ce159dd55",
       "version_major": 2,
       "version_minor": 0
      },
      "text/plain": [
       "HBox(children=(IntProgress(value=0, max=150), HTML(value='')))"
      ]
     },
     "metadata": {},
     "output_type": "display_data"
    },
    {
     "name": "stdout",
     "output_type": "stream",
     "text": [
      "\n"
     ]
    }
   ],
   "source": [
    "shaps = [pd.DataFrame(i,columns=b_x.columns) for i in explainer.attributions(b_x)]"
   ]
  },
  {
   "cell_type": "code",
   "execution_count": 13,
   "metadata": {},
   "outputs": [
    {
     "name": "stdout",
     "output_type": "stream",
     "text": [
      "[(0, 'setosa'), (1, 'versicolor'), (2, 'virginica')]\n"
     ]
    }
   ],
   "source": [
    "print([(i,iris['target_names'][i]) for i in range(3)])"
   ]
  },
  {
   "cell_type": "code",
   "execution_count": 14,
   "metadata": {},
   "outputs": [
    {
     "data": {
      "text/html": [
       "<div>\n",
       "<style scoped>\n",
       "    .dataframe tbody tr th:only-of-type {\n",
       "        vertical-align: middle;\n",
       "    }\n",
       "\n",
       "    .dataframe tbody tr th {\n",
       "        vertical-align: top;\n",
       "    }\n",
       "\n",
       "    .dataframe thead th {\n",
       "        text-align: right;\n",
       "    }\n",
       "</style>\n",
       "<table border=\"1\" class=\"dataframe\">\n",
       "  <thead>\n",
       "    <tr style=\"text-align: right;\">\n",
       "      <th></th>\n",
       "      <th>sepal length (cm)</th>\n",
       "      <th>sepal width (cm)</th>\n",
       "      <th>petal length (cm)</th>\n",
       "      <th>petal width (cm)</th>\n",
       "    </tr>\n",
       "  </thead>\n",
       "  <tbody>\n",
       "    <tr>\n",
       "      <th>0</th>\n",
       "      <td>0.0</td>\n",
       "      <td>0.0</td>\n",
       "      <td>0.666667</td>\n",
       "      <td>0.0</td>\n",
       "    </tr>\n",
       "    <tr>\n",
       "      <th>1</th>\n",
       "      <td>0.0</td>\n",
       "      <td>0.0</td>\n",
       "      <td>0.666667</td>\n",
       "      <td>0.0</td>\n",
       "    </tr>\n",
       "    <tr>\n",
       "      <th>2</th>\n",
       "      <td>0.0</td>\n",
       "      <td>0.0</td>\n",
       "      <td>0.666667</td>\n",
       "      <td>0.0</td>\n",
       "    </tr>\n",
       "    <tr>\n",
       "      <th>3</th>\n",
       "      <td>0.0</td>\n",
       "      <td>0.0</td>\n",
       "      <td>0.666667</td>\n",
       "      <td>0.0</td>\n",
       "    </tr>\n",
       "    <tr>\n",
       "      <th>4</th>\n",
       "      <td>0.0</td>\n",
       "      <td>0.0</td>\n",
       "      <td>0.666667</td>\n",
       "      <td>0.0</td>\n",
       "    </tr>\n",
       "  </tbody>\n",
       "</table>\n",
       "</div>"
      ],
      "text/plain": [
       "   sepal length (cm)  sepal width (cm)  petal length (cm)  petal width (cm)\n",
       "0                0.0               0.0           0.666667               0.0\n",
       "1                0.0               0.0           0.666667               0.0\n",
       "2                0.0               0.0           0.666667               0.0\n",
       "3                0.0               0.0           0.666667               0.0\n",
       "4                0.0               0.0           0.666667               0.0"
      ]
     },
     "execution_count": 14,
     "metadata": {},
     "output_type": "execute_result"
    }
   ],
   "source": [
    "shaps[0].head()"
   ]
  },
  {
   "cell_type": "code",
   "execution_count": 15,
   "metadata": {},
   "outputs": [
    {
     "data": {
      "text/html": [
       "<div>\n",
       "<style scoped>\n",
       "    .dataframe tbody tr th:only-of-type {\n",
       "        vertical-align: middle;\n",
       "    }\n",
       "\n",
       "    .dataframe tbody tr th {\n",
       "        vertical-align: top;\n",
       "    }\n",
       "\n",
       "    .dataframe thead th {\n",
       "        text-align: right;\n",
       "    }\n",
       "</style>\n",
       "<table border=\"1\" class=\"dataframe\">\n",
       "  <thead>\n",
       "    <tr style=\"text-align: right;\">\n",
       "      <th></th>\n",
       "      <th>sepal length (cm)</th>\n",
       "      <th>sepal width (cm)</th>\n",
       "      <th>petal length (cm)</th>\n",
       "      <th>petal width (cm)</th>\n",
       "    </tr>\n",
       "  </thead>\n",
       "  <tbody>\n",
       "    <tr>\n",
       "      <th>0</th>\n",
       "      <td>0.004444</td>\n",
       "      <td>0.0</td>\n",
       "      <td>-0.348889</td>\n",
       "      <td>0.011111</td>\n",
       "    </tr>\n",
       "    <tr>\n",
       "      <th>1</th>\n",
       "      <td>0.004444</td>\n",
       "      <td>0.0</td>\n",
       "      <td>-0.348889</td>\n",
       "      <td>0.011111</td>\n",
       "    </tr>\n",
       "    <tr>\n",
       "      <th>2</th>\n",
       "      <td>0.004444</td>\n",
       "      <td>0.0</td>\n",
       "      <td>-0.348889</td>\n",
       "      <td>0.011111</td>\n",
       "    </tr>\n",
       "    <tr>\n",
       "      <th>3</th>\n",
       "      <td>0.004444</td>\n",
       "      <td>0.0</td>\n",
       "      <td>-0.348889</td>\n",
       "      <td>0.011111</td>\n",
       "    </tr>\n",
       "    <tr>\n",
       "      <th>4</th>\n",
       "      <td>0.004444</td>\n",
       "      <td>0.0</td>\n",
       "      <td>-0.348889</td>\n",
       "      <td>0.011111</td>\n",
       "    </tr>\n",
       "  </tbody>\n",
       "</table>\n",
       "</div>"
      ],
      "text/plain": [
       "   sepal length (cm)  sepal width (cm)  petal length (cm)  petal width (cm)\n",
       "0           0.004444               0.0          -0.348889          0.011111\n",
       "1           0.004444               0.0          -0.348889          0.011111\n",
       "2           0.004444               0.0          -0.348889          0.011111\n",
       "3           0.004444               0.0          -0.348889          0.011111\n",
       "4           0.004444               0.0          -0.348889          0.011111"
      ]
     },
     "execution_count": 15,
     "metadata": {},
     "output_type": "execute_result"
    }
   ],
   "source": [
    "shaps[1].head()"
   ]
  },
  {
   "cell_type": "code",
   "execution_count": 16,
   "metadata": {},
   "outputs": [
    {
     "data": {
      "text/plain": [
       "sepal length (cm)    0.000000\n",
       "sepal width (cm)     0.000000\n",
       "petal length (cm)    0.666667\n",
       "petal width (cm)     0.000000\n",
       "dtype: float64"
      ]
     },
     "execution_count": 16,
     "metadata": {},
     "output_type": "execute_result"
    }
   ],
   "source": [
    "shaps[0].head().mean()"
   ]
  },
  {
   "cell_type": "code",
   "execution_count": 17,
   "metadata": {},
   "outputs": [
    {
     "data": {
      "text/plain": [
       "sepal length (cm)    0.004444\n",
       "sepal width (cm)     0.000000\n",
       "petal length (cm)   -0.348889\n",
       "petal width (cm)     0.011111\n",
       "dtype: float64"
      ]
     },
     "execution_count": 17,
     "metadata": {},
     "output_type": "execute_result"
    }
   ],
   "source": [
    "shaps[1].head().mean()"
   ]
  },
  {
   "cell_type": "code",
   "execution_count": 18,
   "metadata": {},
   "outputs": [
    {
     "data": {
      "text/plain": [
       "-0.3333333333333331"
      ]
     },
     "execution_count": 18,
     "metadata": {},
     "output_type": "execute_result"
    }
   ],
   "source": [
    "shaps[1].head().mean().sum()"
   ]
  },
  {
   "cell_type": "code",
   "execution_count": 19,
   "metadata": {},
   "outputs": [
    {
     "data": {
      "text/plain": [
       "-0.333333333333333"
      ]
     },
     "execution_count": 19,
     "metadata": {},
     "output_type": "execute_result"
    }
   ],
   "source": [
    "shaps[2].head().mean().sum()"
   ]
  },
  {
   "cell_type": "code",
   "execution_count": 20,
   "metadata": {},
   "outputs": [
    {
     "data": {
      "text/html": [
       "<div>\n",
       "<style scoped>\n",
       "    .dataframe tbody tr th:only-of-type {\n",
       "        vertical-align: middle;\n",
       "    }\n",
       "\n",
       "    .dataframe tbody tr th {\n",
       "        vertical-align: top;\n",
       "    }\n",
       "\n",
       "    .dataframe thead th {\n",
       "        text-align: right;\n",
       "    }\n",
       "</style>\n",
       "<table border=\"1\" class=\"dataframe\">\n",
       "  <thead>\n",
       "    <tr style=\"text-align: right;\">\n",
       "      <th></th>\n",
       "      <th>v_sepal length (cm)</th>\n",
       "      <th>v_sepal width (cm)</th>\n",
       "      <th>v_petal length (cm)</th>\n",
       "      <th>v_petal width (cm)</th>\n",
       "      <th>s_sepal length (cm)</th>\n",
       "      <th>s_sepal width (cm)</th>\n",
       "      <th>s_petal length (cm)</th>\n",
       "      <th>s_petal width (cm)</th>\n",
       "      <th>class</th>\n",
       "    </tr>\n",
       "  </thead>\n",
       "  <tbody>\n",
       "    <tr>\n",
       "      <th>0</th>\n",
       "      <td>5.1</td>\n",
       "      <td>3.5</td>\n",
       "      <td>1.4</td>\n",
       "      <td>0.2</td>\n",
       "      <td>0.0</td>\n",
       "      <td>0.0</td>\n",
       "      <td>0.666667</td>\n",
       "      <td>0.0</td>\n",
       "      <td>setosa</td>\n",
       "    </tr>\n",
       "    <tr>\n",
       "      <th>1</th>\n",
       "      <td>4.9</td>\n",
       "      <td>3.0</td>\n",
       "      <td>1.4</td>\n",
       "      <td>0.2</td>\n",
       "      <td>0.0</td>\n",
       "      <td>0.0</td>\n",
       "      <td>0.666667</td>\n",
       "      <td>0.0</td>\n",
       "      <td>setosa</td>\n",
       "    </tr>\n",
       "    <tr>\n",
       "      <th>2</th>\n",
       "      <td>4.7</td>\n",
       "      <td>3.2</td>\n",
       "      <td>1.3</td>\n",
       "      <td>0.2</td>\n",
       "      <td>0.0</td>\n",
       "      <td>0.0</td>\n",
       "      <td>0.666667</td>\n",
       "      <td>0.0</td>\n",
       "      <td>setosa</td>\n",
       "    </tr>\n",
       "    <tr>\n",
       "      <th>3</th>\n",
       "      <td>4.6</td>\n",
       "      <td>3.1</td>\n",
       "      <td>1.5</td>\n",
       "      <td>0.2</td>\n",
       "      <td>0.0</td>\n",
       "      <td>0.0</td>\n",
       "      <td>0.666667</td>\n",
       "      <td>0.0</td>\n",
       "      <td>setosa</td>\n",
       "    </tr>\n",
       "    <tr>\n",
       "      <th>4</th>\n",
       "      <td>5.0</td>\n",
       "      <td>3.6</td>\n",
       "      <td>1.4</td>\n",
       "      <td>0.2</td>\n",
       "      <td>0.0</td>\n",
       "      <td>0.0</td>\n",
       "      <td>0.666667</td>\n",
       "      <td>0.0</td>\n",
       "      <td>setosa</td>\n",
       "    </tr>\n",
       "  </tbody>\n",
       "</table>\n",
       "</div>"
      ],
      "text/plain": [
       "   v_sepal length (cm)  v_sepal width (cm)  v_petal length (cm)  \\\n",
       "0                  5.1                 3.5                  1.4   \n",
       "1                  4.9                 3.0                  1.4   \n",
       "2                  4.7                 3.2                  1.3   \n",
       "3                  4.6                 3.1                  1.5   \n",
       "4                  5.0                 3.6                  1.4   \n",
       "\n",
       "   v_petal width (cm)  s_sepal length (cm)  s_sepal width (cm)  \\\n",
       "0                 0.2                  0.0                 0.0   \n",
       "1                 0.2                  0.0                 0.0   \n",
       "2                 0.2                  0.0                 0.0   \n",
       "3                 0.2                  0.0                 0.0   \n",
       "4                 0.2                  0.0                 0.0   \n",
       "\n",
       "   s_petal length (cm)  s_petal width (cm)   class  \n",
       "0             0.666667                 0.0  setosa  \n",
       "1             0.666667                 0.0  setosa  \n",
       "2             0.666667                 0.0  setosa  \n",
       "3             0.666667                 0.0  setosa  \n",
       "4             0.666667                 0.0  setosa  "
      ]
     },
     "execution_count": 20,
     "metadata": {},
     "output_type": "execute_result"
    }
   ],
   "source": [
    "b_x2 = b_x.copy().rename(\n",
    "    columns={c: \"v_\"+c for c in b_x.columns}\n",
    ").merge(\n",
    "    shaps[0].copy().rename(columns={c: \"s_\"+c for c in shaps[0].columns}),\n",
    "    left_index=True,right_index=True\n",
    ")\n",
    "b_x2['class'] = b['class']\n",
    "\n",
    "b_x2.head()"
   ]
  },
  {
   "cell_type": "code",
   "execution_count": 21,
   "metadata": {},
   "outputs": [
    {
     "data": {
      "application/vnd.vegalite.v3+json": {
       "$schema": "https://vega.github.io/schema/vega-lite/v3.3.0.json",
       "config": {
        "mark": {
         "tooltip": null
        },
        "view": {
         "height": 300,
         "width": 400
        }
       },
       "data": {
        "name": "data-e4c80273f73257dbf9fb5d99ec820c66"
       },
       "datasets": {
        "data-e4c80273f73257dbf9fb5d99ec820c66": [
         {
          "class": "setosa",
          "s_petal length (cm)": 0.666666666666669,
          "s_petal width (cm)": 0,
          "s_sepal length (cm)": 0,
          "s_sepal width (cm)": 0,
          "v_petal length (cm)": 1.4,
          "v_petal width (cm)": 0.2,
          "v_sepal length (cm)": 5.1,
          "v_sepal width (cm)": 3.5
         },
         {
          "class": "setosa",
          "s_petal length (cm)": 0.666666666666669,
          "s_petal width (cm)": 0,
          "s_sepal length (cm)": 0,
          "s_sepal width (cm)": 0,
          "v_petal length (cm)": 1.4,
          "v_petal width (cm)": 0.2,
          "v_sepal length (cm)": 4.9,
          "v_sepal width (cm)": 3
         },
         {
          "class": "setosa",
          "s_petal length (cm)": 0.666666666666669,
          "s_petal width (cm)": 0,
          "s_sepal length (cm)": 0,
          "s_sepal width (cm)": 0,
          "v_petal length (cm)": 1.3,
          "v_petal width (cm)": 0.2,
          "v_sepal length (cm)": 4.7,
          "v_sepal width (cm)": 3.2
         },
         {
          "class": "setosa",
          "s_petal length (cm)": 0.666666666666669,
          "s_petal width (cm)": 0,
          "s_sepal length (cm)": 0,
          "s_sepal width (cm)": 0,
          "v_petal length (cm)": 1.5,
          "v_petal width (cm)": 0.2,
          "v_sepal length (cm)": 4.6,
          "v_sepal width (cm)": 3.1
         },
         {
          "class": "setosa",
          "s_petal length (cm)": 0.666666666666669,
          "s_petal width (cm)": 0,
          "s_sepal length (cm)": 0,
          "s_sepal width (cm)": 0,
          "v_petal length (cm)": 1.4,
          "v_petal width (cm)": 0.2,
          "v_sepal length (cm)": 5,
          "v_sepal width (cm)": 3.6
         },
         {
          "class": "setosa",
          "s_petal length (cm)": 0.666666666666669,
          "s_petal width (cm)": 0,
          "s_sepal length (cm)": 0,
          "s_sepal width (cm)": 0,
          "v_petal length (cm)": 1.7,
          "v_petal width (cm)": 0.4,
          "v_sepal length (cm)": 5.4,
          "v_sepal width (cm)": 3.9
         },
         {
          "class": "setosa",
          "s_petal length (cm)": 0.666666666666669,
          "s_petal width (cm)": 0,
          "s_sepal length (cm)": 0,
          "s_sepal width (cm)": 0,
          "v_petal length (cm)": 1.4,
          "v_petal width (cm)": 0.3,
          "v_sepal length (cm)": 4.6,
          "v_sepal width (cm)": 3.4
         },
         {
          "class": "setosa",
          "s_petal length (cm)": 0.666666666666669,
          "s_petal width (cm)": 0,
          "s_sepal length (cm)": 0,
          "s_sepal width (cm)": 0,
          "v_petal length (cm)": 1.5,
          "v_petal width (cm)": 0.2,
          "v_sepal length (cm)": 5,
          "v_sepal width (cm)": 3.4
         },
         {
          "class": "setosa",
          "s_petal length (cm)": 0.666666666666669,
          "s_petal width (cm)": 0,
          "s_sepal length (cm)": 0,
          "s_sepal width (cm)": 0,
          "v_petal length (cm)": 1.4,
          "v_petal width (cm)": 0.2,
          "v_sepal length (cm)": 4.4,
          "v_sepal width (cm)": 2.9
         },
         {
          "class": "setosa",
          "s_petal length (cm)": 0.666666666666669,
          "s_petal width (cm)": 0,
          "s_sepal length (cm)": 0,
          "s_sepal width (cm)": 0,
          "v_petal length (cm)": 1.5,
          "v_petal width (cm)": 0.1,
          "v_sepal length (cm)": 4.9,
          "v_sepal width (cm)": 3.1
         },
         {
          "class": "setosa",
          "s_petal length (cm)": 0.666666666666669,
          "s_petal width (cm)": 0,
          "s_sepal length (cm)": 0,
          "s_sepal width (cm)": 0,
          "v_petal length (cm)": 1.5,
          "v_petal width (cm)": 0.2,
          "v_sepal length (cm)": 5.4,
          "v_sepal width (cm)": 3.7
         },
         {
          "class": "setosa",
          "s_petal length (cm)": 0.666666666666669,
          "s_petal width (cm)": 0,
          "s_sepal length (cm)": 0,
          "s_sepal width (cm)": 0,
          "v_petal length (cm)": 1.6,
          "v_petal width (cm)": 0.2,
          "v_sepal length (cm)": 4.8,
          "v_sepal width (cm)": 3.4
         },
         {
          "class": "setosa",
          "s_petal length (cm)": 0.666666666666669,
          "s_petal width (cm)": 0,
          "s_sepal length (cm)": 0,
          "s_sepal width (cm)": 0,
          "v_petal length (cm)": 1.4,
          "v_petal width (cm)": 0.1,
          "v_sepal length (cm)": 4.8,
          "v_sepal width (cm)": 3
         },
         {
          "class": "setosa",
          "s_petal length (cm)": 0.666666666666669,
          "s_petal width (cm)": 0,
          "s_sepal length (cm)": 0,
          "s_sepal width (cm)": 0,
          "v_petal length (cm)": 1.1,
          "v_petal width (cm)": 0.1,
          "v_sepal length (cm)": 4.3,
          "v_sepal width (cm)": 3
         },
         {
          "class": "setosa",
          "s_petal length (cm)": 0.666666666666669,
          "s_petal width (cm)": 0,
          "s_sepal length (cm)": 0,
          "s_sepal width (cm)": 0,
          "v_petal length (cm)": 1.2,
          "v_petal width (cm)": 0.2,
          "v_sepal length (cm)": 5.8,
          "v_sepal width (cm)": 4
         },
         {
          "class": "setosa",
          "s_petal length (cm)": 0.666666666666669,
          "s_petal width (cm)": 0,
          "s_sepal length (cm)": 0,
          "s_sepal width (cm)": 0,
          "v_petal length (cm)": 1.5,
          "v_petal width (cm)": 0.4,
          "v_sepal length (cm)": 5.7,
          "v_sepal width (cm)": 4.4
         },
         {
          "class": "setosa",
          "s_petal length (cm)": 0.666666666666669,
          "s_petal width (cm)": 0,
          "s_sepal length (cm)": 0,
          "s_sepal width (cm)": 0,
          "v_petal length (cm)": 1.3,
          "v_petal width (cm)": 0.4,
          "v_sepal length (cm)": 5.4,
          "v_sepal width (cm)": 3.9
         },
         {
          "class": "setosa",
          "s_petal length (cm)": 0.666666666666669,
          "s_petal width (cm)": 0,
          "s_sepal length (cm)": 0,
          "s_sepal width (cm)": 0,
          "v_petal length (cm)": 1.4,
          "v_petal width (cm)": 0.3,
          "v_sepal length (cm)": 5.1,
          "v_sepal width (cm)": 3.5
         },
         {
          "class": "setosa",
          "s_petal length (cm)": 0.666666666666669,
          "s_petal width (cm)": 0,
          "s_sepal length (cm)": 0,
          "s_sepal width (cm)": 0,
          "v_petal length (cm)": 1.7,
          "v_petal width (cm)": 0.3,
          "v_sepal length (cm)": 5.7,
          "v_sepal width (cm)": 3.8
         },
         {
          "class": "setosa",
          "s_petal length (cm)": 0.666666666666669,
          "s_petal width (cm)": 0,
          "s_sepal length (cm)": 0,
          "s_sepal width (cm)": 0,
          "v_petal length (cm)": 1.5,
          "v_petal width (cm)": 0.3,
          "v_sepal length (cm)": 5.1,
          "v_sepal width (cm)": 3.8
         },
         {
          "class": "setosa",
          "s_petal length (cm)": 0.666666666666669,
          "s_petal width (cm)": 0,
          "s_sepal length (cm)": 0,
          "s_sepal width (cm)": 0,
          "v_petal length (cm)": 1.7,
          "v_petal width (cm)": 0.2,
          "v_sepal length (cm)": 5.4,
          "v_sepal width (cm)": 3.4
         },
         {
          "class": "setosa",
          "s_petal length (cm)": 0.666666666666669,
          "s_petal width (cm)": 0,
          "s_sepal length (cm)": 0,
          "s_sepal width (cm)": 0,
          "v_petal length (cm)": 1.5,
          "v_petal width (cm)": 0.4,
          "v_sepal length (cm)": 5.1,
          "v_sepal width (cm)": 3.7
         },
         {
          "class": "setosa",
          "s_petal length (cm)": 0.666666666666669,
          "s_petal width (cm)": 0,
          "s_sepal length (cm)": 0,
          "s_sepal width (cm)": 0,
          "v_petal length (cm)": 1,
          "v_petal width (cm)": 0.2,
          "v_sepal length (cm)": 4.6,
          "v_sepal width (cm)": 3.6
         },
         {
          "class": "setosa",
          "s_petal length (cm)": 0.666666666666669,
          "s_petal width (cm)": 0,
          "s_sepal length (cm)": 0,
          "s_sepal width (cm)": 0,
          "v_petal length (cm)": 1.7,
          "v_petal width (cm)": 0.5,
          "v_sepal length (cm)": 5.1,
          "v_sepal width (cm)": 3.3
         },
         {
          "class": "setosa",
          "s_petal length (cm)": 0.666666666666669,
          "s_petal width (cm)": 0,
          "s_sepal length (cm)": 0,
          "s_sepal width (cm)": 0,
          "v_petal length (cm)": 1.9,
          "v_petal width (cm)": 0.2,
          "v_sepal length (cm)": 4.8,
          "v_sepal width (cm)": 3.4
         },
         {
          "class": "setosa",
          "s_petal length (cm)": 0.666666666666669,
          "s_petal width (cm)": 0,
          "s_sepal length (cm)": 0,
          "s_sepal width (cm)": 0,
          "v_petal length (cm)": 1.6,
          "v_petal width (cm)": 0.2,
          "v_sepal length (cm)": 5,
          "v_sepal width (cm)": 3
         },
         {
          "class": "setosa",
          "s_petal length (cm)": 0.666666666666669,
          "s_petal width (cm)": 0,
          "s_sepal length (cm)": 0,
          "s_sepal width (cm)": 0,
          "v_petal length (cm)": 1.6,
          "v_petal width (cm)": 0.4,
          "v_sepal length (cm)": 5,
          "v_sepal width (cm)": 3.4
         },
         {
          "class": "setosa",
          "s_petal length (cm)": 0.666666666666669,
          "s_petal width (cm)": 0,
          "s_sepal length (cm)": 0,
          "s_sepal width (cm)": 0,
          "v_petal length (cm)": 1.5,
          "v_petal width (cm)": 0.2,
          "v_sepal length (cm)": 5.2,
          "v_sepal width (cm)": 3.5
         },
         {
          "class": "setosa",
          "s_petal length (cm)": 0.666666666666669,
          "s_petal width (cm)": 0,
          "s_sepal length (cm)": 0,
          "s_sepal width (cm)": 0,
          "v_petal length (cm)": 1.4,
          "v_petal width (cm)": 0.2,
          "v_sepal length (cm)": 5.2,
          "v_sepal width (cm)": 3.4
         },
         {
          "class": "setosa",
          "s_petal length (cm)": 0.666666666666669,
          "s_petal width (cm)": 0,
          "s_sepal length (cm)": 0,
          "s_sepal width (cm)": 0,
          "v_petal length (cm)": 1.6,
          "v_petal width (cm)": 0.2,
          "v_sepal length (cm)": 4.7,
          "v_sepal width (cm)": 3.2
         },
         {
          "class": "setosa",
          "s_petal length (cm)": 0.666666666666669,
          "s_petal width (cm)": 0,
          "s_sepal length (cm)": 0,
          "s_sepal width (cm)": 0,
          "v_petal length (cm)": 1.6,
          "v_petal width (cm)": 0.2,
          "v_sepal length (cm)": 4.8,
          "v_sepal width (cm)": 3.1
         },
         {
          "class": "setosa",
          "s_petal length (cm)": 0.666666666666669,
          "s_petal width (cm)": 0,
          "s_sepal length (cm)": 0,
          "s_sepal width (cm)": 0,
          "v_petal length (cm)": 1.5,
          "v_petal width (cm)": 0.4,
          "v_sepal length (cm)": 5.4,
          "v_sepal width (cm)": 3.4
         },
         {
          "class": "setosa",
          "s_petal length (cm)": 0.666666666666669,
          "s_petal width (cm)": 0,
          "s_sepal length (cm)": 0,
          "s_sepal width (cm)": 0,
          "v_petal length (cm)": 1.5,
          "v_petal width (cm)": 0.1,
          "v_sepal length (cm)": 5.2,
          "v_sepal width (cm)": 4.1
         },
         {
          "class": "setosa",
          "s_petal length (cm)": 0.666666666666669,
          "s_petal width (cm)": 0,
          "s_sepal length (cm)": 0,
          "s_sepal width (cm)": 0,
          "v_petal length (cm)": 1.4,
          "v_petal width (cm)": 0.2,
          "v_sepal length (cm)": 5.5,
          "v_sepal width (cm)": 4.2
         },
         {
          "class": "setosa",
          "s_petal length (cm)": 0.666666666666669,
          "s_petal width (cm)": 0,
          "s_sepal length (cm)": 0,
          "s_sepal width (cm)": 0,
          "v_petal length (cm)": 1.5,
          "v_petal width (cm)": 0.2,
          "v_sepal length (cm)": 4.9,
          "v_sepal width (cm)": 3.1
         },
         {
          "class": "setosa",
          "s_petal length (cm)": 0.666666666666669,
          "s_petal width (cm)": 0,
          "s_sepal length (cm)": 0,
          "s_sepal width (cm)": 0,
          "v_petal length (cm)": 1.2,
          "v_petal width (cm)": 0.2,
          "v_sepal length (cm)": 5,
          "v_sepal width (cm)": 3.2
         },
         {
          "class": "setosa",
          "s_petal length (cm)": 0.666666666666669,
          "s_petal width (cm)": 0,
          "s_sepal length (cm)": 0,
          "s_sepal width (cm)": 0,
          "v_petal length (cm)": 1.3,
          "v_petal width (cm)": 0.2,
          "v_sepal length (cm)": 5.5,
          "v_sepal width (cm)": 3.5
         },
         {
          "class": "setosa",
          "s_petal length (cm)": 0.666666666666669,
          "s_petal width (cm)": 0,
          "s_sepal length (cm)": 0,
          "s_sepal width (cm)": 0,
          "v_petal length (cm)": 1.4,
          "v_petal width (cm)": 0.1,
          "v_sepal length (cm)": 4.9,
          "v_sepal width (cm)": 3.6
         },
         {
          "class": "setosa",
          "s_petal length (cm)": 0.666666666666669,
          "s_petal width (cm)": 0,
          "s_sepal length (cm)": 0,
          "s_sepal width (cm)": 0,
          "v_petal length (cm)": 1.3,
          "v_petal width (cm)": 0.2,
          "v_sepal length (cm)": 4.4,
          "v_sepal width (cm)": 3
         },
         {
          "class": "setosa",
          "s_petal length (cm)": 0.666666666666669,
          "s_petal width (cm)": 0,
          "s_sepal length (cm)": 0,
          "s_sepal width (cm)": 0,
          "v_petal length (cm)": 1.5,
          "v_petal width (cm)": 0.2,
          "v_sepal length (cm)": 5.1,
          "v_sepal width (cm)": 3.4
         },
         {
          "class": "setosa",
          "s_petal length (cm)": 0.666666666666669,
          "s_petal width (cm)": 0,
          "s_sepal length (cm)": 0,
          "s_sepal width (cm)": 0,
          "v_petal length (cm)": 1.3,
          "v_petal width (cm)": 0.3,
          "v_sepal length (cm)": 5,
          "v_sepal width (cm)": 3.5
         },
         {
          "class": "setosa",
          "s_petal length (cm)": 0.666666666666669,
          "s_petal width (cm)": 0,
          "s_sepal length (cm)": 0,
          "s_sepal width (cm)": 0,
          "v_petal length (cm)": 1.3,
          "v_petal width (cm)": 0.3,
          "v_sepal length (cm)": 4.5,
          "v_sepal width (cm)": 2.3
         },
         {
          "class": "setosa",
          "s_petal length (cm)": 0.666666666666669,
          "s_petal width (cm)": 0,
          "s_sepal length (cm)": 0,
          "s_sepal width (cm)": 0,
          "v_petal length (cm)": 1.3,
          "v_petal width (cm)": 0.2,
          "v_sepal length (cm)": 4.4,
          "v_sepal width (cm)": 3.2
         },
         {
          "class": "setosa",
          "s_petal length (cm)": 0.666666666666669,
          "s_petal width (cm)": 0,
          "s_sepal length (cm)": 0,
          "s_sepal width (cm)": 0,
          "v_petal length (cm)": 1.6,
          "v_petal width (cm)": 0.6,
          "v_sepal length (cm)": 5,
          "v_sepal width (cm)": 3.5
         },
         {
          "class": "setosa",
          "s_petal length (cm)": 0.666666666666669,
          "s_petal width (cm)": 0,
          "s_sepal length (cm)": 0,
          "s_sepal width (cm)": 0,
          "v_petal length (cm)": 1.9,
          "v_petal width (cm)": 0.4,
          "v_sepal length (cm)": 5.1,
          "v_sepal width (cm)": 3.8
         },
         {
          "class": "setosa",
          "s_petal length (cm)": 0.666666666666669,
          "s_petal width (cm)": 0,
          "s_sepal length (cm)": 0,
          "s_sepal width (cm)": 0,
          "v_petal length (cm)": 1.4,
          "v_petal width (cm)": 0.3,
          "v_sepal length (cm)": 4.8,
          "v_sepal width (cm)": 3
         },
         {
          "class": "setosa",
          "s_petal length (cm)": 0.666666666666669,
          "s_petal width (cm)": 0,
          "s_sepal length (cm)": 0,
          "s_sepal width (cm)": 0,
          "v_petal length (cm)": 1.6,
          "v_petal width (cm)": 0.2,
          "v_sepal length (cm)": 5.1,
          "v_sepal width (cm)": 3.8
         },
         {
          "class": "setosa",
          "s_petal length (cm)": 0.666666666666669,
          "s_petal width (cm)": 0,
          "s_sepal length (cm)": 0,
          "s_sepal width (cm)": 0,
          "v_petal length (cm)": 1.4,
          "v_petal width (cm)": 0.2,
          "v_sepal length (cm)": 4.6,
          "v_sepal width (cm)": 3.2
         },
         {
          "class": "setosa",
          "s_petal length (cm)": 0.666666666666669,
          "s_petal width (cm)": 0,
          "s_sepal length (cm)": 0,
          "s_sepal width (cm)": 0,
          "v_petal length (cm)": 1.5,
          "v_petal width (cm)": 0.2,
          "v_sepal length (cm)": 5.3,
          "v_sepal width (cm)": 3.7
         },
         {
          "class": "setosa",
          "s_petal length (cm)": 0.666666666666669,
          "s_petal width (cm)": 0,
          "s_sepal length (cm)": 0,
          "s_sepal width (cm)": 0,
          "v_petal length (cm)": 1.4,
          "v_petal width (cm)": 0.2,
          "v_sepal length (cm)": 5,
          "v_sepal width (cm)": 3.3
         },
         {
          "class": "versicolor",
          "s_petal length (cm)": -0.33333333333333304,
          "s_petal width (cm)": 0,
          "s_sepal length (cm)": 0,
          "s_sepal width (cm)": 0,
          "v_petal length (cm)": 4.7,
          "v_petal width (cm)": 1.4,
          "v_sepal length (cm)": 7,
          "v_sepal width (cm)": 3.2
         },
         {
          "class": "versicolor",
          "s_petal length (cm)": -0.33333333333333304,
          "s_petal width (cm)": 0,
          "s_sepal length (cm)": 0,
          "s_sepal width (cm)": 0,
          "v_petal length (cm)": 4.5,
          "v_petal width (cm)": 1.5,
          "v_sepal length (cm)": 6.4,
          "v_sepal width (cm)": 3.2
         },
         {
          "class": "versicolor",
          "s_petal length (cm)": -0.33333333333333304,
          "s_petal width (cm)": 0,
          "s_sepal length (cm)": 0,
          "s_sepal width (cm)": 0,
          "v_petal length (cm)": 4.9,
          "v_petal width (cm)": 1.5,
          "v_sepal length (cm)": 6.9,
          "v_sepal width (cm)": 3.1
         },
         {
          "class": "versicolor",
          "s_petal length (cm)": -0.33333333333333304,
          "s_petal width (cm)": 0,
          "s_sepal length (cm)": 0,
          "s_sepal width (cm)": 0,
          "v_petal length (cm)": 4,
          "v_petal width (cm)": 1.3,
          "v_sepal length (cm)": 5.5,
          "v_sepal width (cm)": 2.3
         },
         {
          "class": "versicolor",
          "s_petal length (cm)": -0.33333333333333304,
          "s_petal width (cm)": 0,
          "s_sepal length (cm)": 0,
          "s_sepal width (cm)": 0,
          "v_petal length (cm)": 4.6,
          "v_petal width (cm)": 1.5,
          "v_sepal length (cm)": 6.5,
          "v_sepal width (cm)": 2.8
         },
         {
          "class": "versicolor",
          "s_petal length (cm)": -0.33333333333333304,
          "s_petal width (cm)": 0,
          "s_sepal length (cm)": 0,
          "s_sepal width (cm)": 0,
          "v_petal length (cm)": 4.5,
          "v_petal width (cm)": 1.3,
          "v_sepal length (cm)": 5.7,
          "v_sepal width (cm)": 2.8
         },
         {
          "class": "versicolor",
          "s_petal length (cm)": -0.33333333333333304,
          "s_petal width (cm)": 0,
          "s_sepal length (cm)": 0,
          "s_sepal width (cm)": 0,
          "v_petal length (cm)": 4.7,
          "v_petal width (cm)": 1.6,
          "v_sepal length (cm)": 6.3,
          "v_sepal width (cm)": 3.3
         },
         {
          "class": "versicolor",
          "s_petal length (cm)": -0.33333333333333304,
          "s_petal width (cm)": 0,
          "s_sepal length (cm)": 0,
          "s_sepal width (cm)": 0,
          "v_petal length (cm)": 3.3,
          "v_petal width (cm)": 1,
          "v_sepal length (cm)": 4.9,
          "v_sepal width (cm)": 2.4
         },
         {
          "class": "versicolor",
          "s_petal length (cm)": -0.33333333333333304,
          "s_petal width (cm)": 0,
          "s_sepal length (cm)": 0,
          "s_sepal width (cm)": 0,
          "v_petal length (cm)": 4.6,
          "v_petal width (cm)": 1.3,
          "v_sepal length (cm)": 6.6,
          "v_sepal width (cm)": 2.9
         },
         {
          "class": "versicolor",
          "s_petal length (cm)": -0.33333333333333304,
          "s_petal width (cm)": 0,
          "s_sepal length (cm)": 0,
          "s_sepal width (cm)": 0,
          "v_petal length (cm)": 3.9,
          "v_petal width (cm)": 1.4,
          "v_sepal length (cm)": 5.2,
          "v_sepal width (cm)": 2.7
         },
         {
          "class": "versicolor",
          "s_petal length (cm)": -0.33333333333333304,
          "s_petal width (cm)": 0,
          "s_sepal length (cm)": 0,
          "s_sepal width (cm)": 0,
          "v_petal length (cm)": 3.5,
          "v_petal width (cm)": 1,
          "v_sepal length (cm)": 5,
          "v_sepal width (cm)": 2
         },
         {
          "class": "versicolor",
          "s_petal length (cm)": -0.33333333333333304,
          "s_petal width (cm)": 0,
          "s_sepal length (cm)": 0,
          "s_sepal width (cm)": 0,
          "v_petal length (cm)": 4.2,
          "v_petal width (cm)": 1.5,
          "v_sepal length (cm)": 5.9,
          "v_sepal width (cm)": 3
         },
         {
          "class": "versicolor",
          "s_petal length (cm)": -0.33333333333333304,
          "s_petal width (cm)": 0,
          "s_sepal length (cm)": 0,
          "s_sepal width (cm)": 0,
          "v_petal length (cm)": 4,
          "v_petal width (cm)": 1,
          "v_sepal length (cm)": 6,
          "v_sepal width (cm)": 2.2
         },
         {
          "class": "versicolor",
          "s_petal length (cm)": -0.33333333333333304,
          "s_petal width (cm)": 0,
          "s_sepal length (cm)": 0,
          "s_sepal width (cm)": 0,
          "v_petal length (cm)": 4.7,
          "v_petal width (cm)": 1.4,
          "v_sepal length (cm)": 6.1,
          "v_sepal width (cm)": 2.9
         },
         {
          "class": "versicolor",
          "s_petal length (cm)": -0.33333333333333304,
          "s_petal width (cm)": 0,
          "s_sepal length (cm)": 0,
          "s_sepal width (cm)": 0,
          "v_petal length (cm)": 3.6,
          "v_petal width (cm)": 1.3,
          "v_sepal length (cm)": 5.6,
          "v_sepal width (cm)": 2.9
         },
         {
          "class": "versicolor",
          "s_petal length (cm)": -0.33333333333333304,
          "s_petal width (cm)": 0,
          "s_sepal length (cm)": 0,
          "s_sepal width (cm)": 0,
          "v_petal length (cm)": 4.4,
          "v_petal width (cm)": 1.4,
          "v_sepal length (cm)": 6.7,
          "v_sepal width (cm)": 3.1
         },
         {
          "class": "versicolor",
          "s_petal length (cm)": -0.33333333333333304,
          "s_petal width (cm)": 0,
          "s_sepal length (cm)": 0,
          "s_sepal width (cm)": 0,
          "v_petal length (cm)": 4.5,
          "v_petal width (cm)": 1.5,
          "v_sepal length (cm)": 5.6,
          "v_sepal width (cm)": 3
         },
         {
          "class": "versicolor",
          "s_petal length (cm)": -0.33333333333333304,
          "s_petal width (cm)": 0,
          "s_sepal length (cm)": 0,
          "s_sepal width (cm)": 0,
          "v_petal length (cm)": 4.1,
          "v_petal width (cm)": 1,
          "v_sepal length (cm)": 5.8,
          "v_sepal width (cm)": 2.7
         },
         {
          "class": "versicolor",
          "s_petal length (cm)": -0.33333333333333304,
          "s_petal width (cm)": 0,
          "s_sepal length (cm)": 0,
          "s_sepal width (cm)": 0,
          "v_petal length (cm)": 4.5,
          "v_petal width (cm)": 1.5,
          "v_sepal length (cm)": 6.2,
          "v_sepal width (cm)": 2.2
         },
         {
          "class": "versicolor",
          "s_petal length (cm)": -0.33333333333333304,
          "s_petal width (cm)": 0,
          "s_sepal length (cm)": 0,
          "s_sepal width (cm)": 0,
          "v_petal length (cm)": 3.9,
          "v_petal width (cm)": 1.1,
          "v_sepal length (cm)": 5.6,
          "v_sepal width (cm)": 2.5
         },
         {
          "class": "versicolor",
          "s_petal length (cm)": -0.33333333333333304,
          "s_petal width (cm)": 0,
          "s_sepal length (cm)": 0,
          "s_sepal width (cm)": 0,
          "v_petal length (cm)": 4.8,
          "v_petal width (cm)": 1.8,
          "v_sepal length (cm)": 5.9,
          "v_sepal width (cm)": 3.2
         },
         {
          "class": "versicolor",
          "s_petal length (cm)": -0.33333333333333304,
          "s_petal width (cm)": 0,
          "s_sepal length (cm)": 0,
          "s_sepal width (cm)": 0,
          "v_petal length (cm)": 4,
          "v_petal width (cm)": 1.3,
          "v_sepal length (cm)": 6.1,
          "v_sepal width (cm)": 2.8
         },
         {
          "class": "versicolor",
          "s_petal length (cm)": -0.33333333333333304,
          "s_petal width (cm)": 0,
          "s_sepal length (cm)": 0,
          "s_sepal width (cm)": 0,
          "v_petal length (cm)": 4.9,
          "v_petal width (cm)": 1.5,
          "v_sepal length (cm)": 6.3,
          "v_sepal width (cm)": 2.5
         },
         {
          "class": "versicolor",
          "s_petal length (cm)": -0.33333333333333304,
          "s_petal width (cm)": 0,
          "s_sepal length (cm)": 0,
          "s_sepal width (cm)": 0,
          "v_petal length (cm)": 4.7,
          "v_petal width (cm)": 1.2,
          "v_sepal length (cm)": 6.1,
          "v_sepal width (cm)": 2.8
         },
         {
          "class": "versicolor",
          "s_petal length (cm)": -0.33333333333333304,
          "s_petal width (cm)": 0,
          "s_sepal length (cm)": 0,
          "s_sepal width (cm)": 0,
          "v_petal length (cm)": 4.3,
          "v_petal width (cm)": 1.3,
          "v_sepal length (cm)": 6.4,
          "v_sepal width (cm)": 2.9
         },
         {
          "class": "versicolor",
          "s_petal length (cm)": -0.33333333333333304,
          "s_petal width (cm)": 0,
          "s_sepal length (cm)": 0,
          "s_sepal width (cm)": 0,
          "v_petal length (cm)": 4.4,
          "v_petal width (cm)": 1.4,
          "v_sepal length (cm)": 6.6,
          "v_sepal width (cm)": 3
         },
         {
          "class": "versicolor",
          "s_petal length (cm)": -0.33333333333333304,
          "s_petal width (cm)": 0,
          "s_sepal length (cm)": 0,
          "s_sepal width (cm)": 0,
          "v_petal length (cm)": 4.8,
          "v_petal width (cm)": 1.4,
          "v_sepal length (cm)": 6.8,
          "v_sepal width (cm)": 2.8
         },
         {
          "class": "versicolor",
          "s_petal length (cm)": -0.33333333333333304,
          "s_petal width (cm)": 0,
          "s_sepal length (cm)": 0,
          "s_sepal width (cm)": 0,
          "v_petal length (cm)": 5,
          "v_petal width (cm)": 1.7,
          "v_sepal length (cm)": 6.7,
          "v_sepal width (cm)": 3
         },
         {
          "class": "versicolor",
          "s_petal length (cm)": -0.33333333333333304,
          "s_petal width (cm)": 0,
          "s_sepal length (cm)": 0,
          "s_sepal width (cm)": 0,
          "v_petal length (cm)": 4.5,
          "v_petal width (cm)": 1.5,
          "v_sepal length (cm)": 6,
          "v_sepal width (cm)": 2.9
         },
         {
          "class": "versicolor",
          "s_petal length (cm)": -0.33333333333333304,
          "s_petal width (cm)": 0,
          "s_sepal length (cm)": 0,
          "s_sepal width (cm)": 0,
          "v_petal length (cm)": 3.5,
          "v_petal width (cm)": 1,
          "v_sepal length (cm)": 5.7,
          "v_sepal width (cm)": 2.6
         },
         {
          "class": "versicolor",
          "s_petal length (cm)": -0.33333333333333304,
          "s_petal width (cm)": 0,
          "s_sepal length (cm)": 0,
          "s_sepal width (cm)": 0,
          "v_petal length (cm)": 3.8,
          "v_petal width (cm)": 1.1,
          "v_sepal length (cm)": 5.5,
          "v_sepal width (cm)": 2.4
         },
         {
          "class": "versicolor",
          "s_petal length (cm)": -0.33333333333333304,
          "s_petal width (cm)": 0,
          "s_sepal length (cm)": 0,
          "s_sepal width (cm)": 0,
          "v_petal length (cm)": 3.7,
          "v_petal width (cm)": 1,
          "v_sepal length (cm)": 5.5,
          "v_sepal width (cm)": 2.4
         },
         {
          "class": "versicolor",
          "s_petal length (cm)": -0.33333333333333304,
          "s_petal width (cm)": 0,
          "s_sepal length (cm)": 0,
          "s_sepal width (cm)": 0,
          "v_petal length (cm)": 3.9,
          "v_petal width (cm)": 1.2,
          "v_sepal length (cm)": 5.8,
          "v_sepal width (cm)": 2.7
         },
         {
          "class": "versicolor",
          "s_petal length (cm)": -0.33333333333333304,
          "s_petal width (cm)": 0,
          "s_sepal length (cm)": 0,
          "s_sepal width (cm)": 0,
          "v_petal length (cm)": 5.1,
          "v_petal width (cm)": 1.6,
          "v_sepal length (cm)": 6,
          "v_sepal width (cm)": 2.7
         },
         {
          "class": "versicolor",
          "s_petal length (cm)": -0.33333333333333304,
          "s_petal width (cm)": 0,
          "s_sepal length (cm)": 0,
          "s_sepal width (cm)": 0,
          "v_petal length (cm)": 4.5,
          "v_petal width (cm)": 1.5,
          "v_sepal length (cm)": 5.4,
          "v_sepal width (cm)": 3
         },
         {
          "class": "versicolor",
          "s_petal length (cm)": -0.33333333333333304,
          "s_petal width (cm)": 0,
          "s_sepal length (cm)": 0,
          "s_sepal width (cm)": 0,
          "v_petal length (cm)": 4.5,
          "v_petal width (cm)": 1.6,
          "v_sepal length (cm)": 6,
          "v_sepal width (cm)": 3.4
         },
         {
          "class": "versicolor",
          "s_petal length (cm)": -0.33333333333333304,
          "s_petal width (cm)": 0,
          "s_sepal length (cm)": 0,
          "s_sepal width (cm)": 0,
          "v_petal length (cm)": 4.7,
          "v_petal width (cm)": 1.5,
          "v_sepal length (cm)": 6.7,
          "v_sepal width (cm)": 3.1
         },
         {
          "class": "versicolor",
          "s_petal length (cm)": -0.33333333333333304,
          "s_petal width (cm)": 0,
          "s_sepal length (cm)": 0,
          "s_sepal width (cm)": 0,
          "v_petal length (cm)": 4.4,
          "v_petal width (cm)": 1.3,
          "v_sepal length (cm)": 6.3,
          "v_sepal width (cm)": 2.3
         },
         {
          "class": "versicolor",
          "s_petal length (cm)": -0.33333333333333304,
          "s_petal width (cm)": 0,
          "s_sepal length (cm)": 0,
          "s_sepal width (cm)": 0,
          "v_petal length (cm)": 4.1,
          "v_petal width (cm)": 1.3,
          "v_sepal length (cm)": 5.6,
          "v_sepal width (cm)": 3
         },
         {
          "class": "versicolor",
          "s_petal length (cm)": -0.33333333333333304,
          "s_petal width (cm)": 0,
          "s_sepal length (cm)": 0,
          "s_sepal width (cm)": 0,
          "v_petal length (cm)": 4,
          "v_petal width (cm)": 1.3,
          "v_sepal length (cm)": 5.5,
          "v_sepal width (cm)": 2.5
         },
         {
          "class": "versicolor",
          "s_petal length (cm)": -0.33333333333333304,
          "s_petal width (cm)": 0,
          "s_sepal length (cm)": 0,
          "s_sepal width (cm)": 0,
          "v_petal length (cm)": 4.4,
          "v_petal width (cm)": 1.2,
          "v_sepal length (cm)": 5.5,
          "v_sepal width (cm)": 2.6
         },
         {
          "class": "versicolor",
          "s_petal length (cm)": -0.33333333333333304,
          "s_petal width (cm)": 0,
          "s_sepal length (cm)": 0,
          "s_sepal width (cm)": 0,
          "v_petal length (cm)": 4.6,
          "v_petal width (cm)": 1.4,
          "v_sepal length (cm)": 6.1,
          "v_sepal width (cm)": 3
         },
         {
          "class": "versicolor",
          "s_petal length (cm)": -0.33333333333333304,
          "s_petal width (cm)": 0,
          "s_sepal length (cm)": 0,
          "s_sepal width (cm)": 0,
          "v_petal length (cm)": 4,
          "v_petal width (cm)": 1.2,
          "v_sepal length (cm)": 5.8,
          "v_sepal width (cm)": 2.6
         },
         {
          "class": "versicolor",
          "s_petal length (cm)": -0.33333333333333304,
          "s_petal width (cm)": 0,
          "s_sepal length (cm)": 0,
          "s_sepal width (cm)": 0,
          "v_petal length (cm)": 3.3,
          "v_petal width (cm)": 1,
          "v_sepal length (cm)": 5,
          "v_sepal width (cm)": 2.3
         },
         {
          "class": "versicolor",
          "s_petal length (cm)": -0.33333333333333304,
          "s_petal width (cm)": 0,
          "s_sepal length (cm)": 0,
          "s_sepal width (cm)": 0,
          "v_petal length (cm)": 4.2,
          "v_petal width (cm)": 1.3,
          "v_sepal length (cm)": 5.6,
          "v_sepal width (cm)": 2.7
         },
         {
          "class": "versicolor",
          "s_petal length (cm)": -0.33333333333333304,
          "s_petal width (cm)": 0,
          "s_sepal length (cm)": 0,
          "s_sepal width (cm)": 0,
          "v_petal length (cm)": 4.2,
          "v_petal width (cm)": 1.2,
          "v_sepal length (cm)": 5.7,
          "v_sepal width (cm)": 3
         },
         {
          "class": "versicolor",
          "s_petal length (cm)": -0.33333333333333304,
          "s_petal width (cm)": 0,
          "s_sepal length (cm)": 0,
          "s_sepal width (cm)": 0,
          "v_petal length (cm)": 4.2,
          "v_petal width (cm)": 1.3,
          "v_sepal length (cm)": 5.7,
          "v_sepal width (cm)": 2.9
         },
         {
          "class": "versicolor",
          "s_petal length (cm)": -0.33333333333333304,
          "s_petal width (cm)": 0,
          "s_sepal length (cm)": 0,
          "s_sepal width (cm)": 0,
          "v_petal length (cm)": 4.3,
          "v_petal width (cm)": 1.3,
          "v_sepal length (cm)": 6.2,
          "v_sepal width (cm)": 2.9
         },
         {
          "class": "versicolor",
          "s_petal length (cm)": -0.33333333333333304,
          "s_petal width (cm)": 0,
          "s_sepal length (cm)": 0,
          "s_sepal width (cm)": 0,
          "v_petal length (cm)": 3,
          "v_petal width (cm)": 1.1,
          "v_sepal length (cm)": 5.1,
          "v_sepal width (cm)": 2.5
         },
         {
          "class": "versicolor",
          "s_petal length (cm)": -0.33333333333333304,
          "s_petal width (cm)": 0,
          "s_sepal length (cm)": 0,
          "s_sepal width (cm)": 0,
          "v_petal length (cm)": 4.1,
          "v_petal width (cm)": 1.3,
          "v_sepal length (cm)": 5.7,
          "v_sepal width (cm)": 2.8
         },
         {
          "class": "virginica",
          "s_petal length (cm)": -0.33333333333333304,
          "s_petal width (cm)": 0,
          "s_sepal length (cm)": 0,
          "s_sepal width (cm)": 0,
          "v_petal length (cm)": 6,
          "v_petal width (cm)": 2.5,
          "v_sepal length (cm)": 6.3,
          "v_sepal width (cm)": 3.3
         },
         {
          "class": "virginica",
          "s_petal length (cm)": -0.33333333333333304,
          "s_petal width (cm)": 0,
          "s_sepal length (cm)": 0,
          "s_sepal width (cm)": 0,
          "v_petal length (cm)": 5.1,
          "v_petal width (cm)": 1.9,
          "v_sepal length (cm)": 5.8,
          "v_sepal width (cm)": 2.7
         },
         {
          "class": "virginica",
          "s_petal length (cm)": -0.33333333333333304,
          "s_petal width (cm)": 0,
          "s_sepal length (cm)": 0,
          "s_sepal width (cm)": 0,
          "v_petal length (cm)": 5.9,
          "v_petal width (cm)": 2.1,
          "v_sepal length (cm)": 7.1,
          "v_sepal width (cm)": 3
         },
         {
          "class": "virginica",
          "s_petal length (cm)": -0.33333333333333304,
          "s_petal width (cm)": 0,
          "s_sepal length (cm)": 0,
          "s_sepal width (cm)": 0,
          "v_petal length (cm)": 5.6,
          "v_petal width (cm)": 1.8,
          "v_sepal length (cm)": 6.3,
          "v_sepal width (cm)": 2.9
         },
         {
          "class": "virginica",
          "s_petal length (cm)": -0.33333333333333304,
          "s_petal width (cm)": 0,
          "s_sepal length (cm)": 0,
          "s_sepal width (cm)": 0,
          "v_petal length (cm)": 5.8,
          "v_petal width (cm)": 2.2,
          "v_sepal length (cm)": 6.5,
          "v_sepal width (cm)": 3
         },
         {
          "class": "virginica",
          "s_petal length (cm)": -0.33333333333333304,
          "s_petal width (cm)": 0,
          "s_sepal length (cm)": 0,
          "s_sepal width (cm)": 0,
          "v_petal length (cm)": 6.6,
          "v_petal width (cm)": 2.1,
          "v_sepal length (cm)": 7.6,
          "v_sepal width (cm)": 3
         },
         {
          "class": "virginica",
          "s_petal length (cm)": -0.33333333333333304,
          "s_petal width (cm)": 0,
          "s_sepal length (cm)": 0,
          "s_sepal width (cm)": 0,
          "v_petal length (cm)": 4.5,
          "v_petal width (cm)": 1.7,
          "v_sepal length (cm)": 4.9,
          "v_sepal width (cm)": 2.5
         },
         {
          "class": "virginica",
          "s_petal length (cm)": -0.33333333333333304,
          "s_petal width (cm)": 0,
          "s_sepal length (cm)": 0,
          "s_sepal width (cm)": 0,
          "v_petal length (cm)": 6.3,
          "v_petal width (cm)": 1.8,
          "v_sepal length (cm)": 7.3,
          "v_sepal width (cm)": 2.9
         },
         {
          "class": "virginica",
          "s_petal length (cm)": -0.33333333333333304,
          "s_petal width (cm)": 0,
          "s_sepal length (cm)": 0,
          "s_sepal width (cm)": 0,
          "v_petal length (cm)": 5.8,
          "v_petal width (cm)": 1.8,
          "v_sepal length (cm)": 6.7,
          "v_sepal width (cm)": 2.5
         },
         {
          "class": "virginica",
          "s_petal length (cm)": -0.33333333333333304,
          "s_petal width (cm)": 0,
          "s_sepal length (cm)": 0,
          "s_sepal width (cm)": 0,
          "v_petal length (cm)": 6.1,
          "v_petal width (cm)": 2.5,
          "v_sepal length (cm)": 7.2,
          "v_sepal width (cm)": 3.6
         },
         {
          "class": "virginica",
          "s_petal length (cm)": -0.33333333333333304,
          "s_petal width (cm)": 0,
          "s_sepal length (cm)": 0,
          "s_sepal width (cm)": 0,
          "v_petal length (cm)": 5.1,
          "v_petal width (cm)": 2,
          "v_sepal length (cm)": 6.5,
          "v_sepal width (cm)": 3.2
         },
         {
          "class": "virginica",
          "s_petal length (cm)": -0.33333333333333304,
          "s_petal width (cm)": 0,
          "s_sepal length (cm)": 0,
          "s_sepal width (cm)": 0,
          "v_petal length (cm)": 5.3,
          "v_petal width (cm)": 1.9,
          "v_sepal length (cm)": 6.4,
          "v_sepal width (cm)": 2.7
         },
         {
          "class": "virginica",
          "s_petal length (cm)": -0.33333333333333304,
          "s_petal width (cm)": 0,
          "s_sepal length (cm)": 0,
          "s_sepal width (cm)": 0,
          "v_petal length (cm)": 5.5,
          "v_petal width (cm)": 2.1,
          "v_sepal length (cm)": 6.8,
          "v_sepal width (cm)": 3
         },
         {
          "class": "virginica",
          "s_petal length (cm)": -0.33333333333333304,
          "s_petal width (cm)": 0,
          "s_sepal length (cm)": 0,
          "s_sepal width (cm)": 0,
          "v_petal length (cm)": 5,
          "v_petal width (cm)": 2,
          "v_sepal length (cm)": 5.7,
          "v_sepal width (cm)": 2.5
         },
         {
          "class": "virginica",
          "s_petal length (cm)": -0.33333333333333304,
          "s_petal width (cm)": 0,
          "s_sepal length (cm)": 0,
          "s_sepal width (cm)": 0,
          "v_petal length (cm)": 5.1,
          "v_petal width (cm)": 2.4,
          "v_sepal length (cm)": 5.8,
          "v_sepal width (cm)": 2.8
         },
         {
          "class": "virginica",
          "s_petal length (cm)": -0.33333333333333304,
          "s_petal width (cm)": 0,
          "s_sepal length (cm)": 0,
          "s_sepal width (cm)": 0,
          "v_petal length (cm)": 5.3,
          "v_petal width (cm)": 2.3,
          "v_sepal length (cm)": 6.4,
          "v_sepal width (cm)": 3.2
         },
         {
          "class": "virginica",
          "s_petal length (cm)": -0.33333333333333304,
          "s_petal width (cm)": 0,
          "s_sepal length (cm)": 0,
          "s_sepal width (cm)": 0,
          "v_petal length (cm)": 5.5,
          "v_petal width (cm)": 1.8,
          "v_sepal length (cm)": 6.5,
          "v_sepal width (cm)": 3
         },
         {
          "class": "virginica",
          "s_petal length (cm)": -0.33333333333333304,
          "s_petal width (cm)": 0,
          "s_sepal length (cm)": 0,
          "s_sepal width (cm)": 0,
          "v_petal length (cm)": 6.7,
          "v_petal width (cm)": 2.2,
          "v_sepal length (cm)": 7.7,
          "v_sepal width (cm)": 3.8
         },
         {
          "class": "virginica",
          "s_petal length (cm)": -0.33333333333333304,
          "s_petal width (cm)": 0,
          "s_sepal length (cm)": 0,
          "s_sepal width (cm)": 0,
          "v_petal length (cm)": 6.9,
          "v_petal width (cm)": 2.3,
          "v_sepal length (cm)": 7.7,
          "v_sepal width (cm)": 2.6
         },
         {
          "class": "virginica",
          "s_petal length (cm)": -0.33333333333333304,
          "s_petal width (cm)": 0,
          "s_sepal length (cm)": 0,
          "s_sepal width (cm)": 0,
          "v_petal length (cm)": 5,
          "v_petal width (cm)": 1.5,
          "v_sepal length (cm)": 6,
          "v_sepal width (cm)": 2.2
         },
         {
          "class": "virginica",
          "s_petal length (cm)": -0.33333333333333304,
          "s_petal width (cm)": 0,
          "s_sepal length (cm)": 0,
          "s_sepal width (cm)": 0,
          "v_petal length (cm)": 5.7,
          "v_petal width (cm)": 2.3,
          "v_sepal length (cm)": 6.9,
          "v_sepal width (cm)": 3.2
         },
         {
          "class": "virginica",
          "s_petal length (cm)": -0.33333333333333304,
          "s_petal width (cm)": 0,
          "s_sepal length (cm)": 0,
          "s_sepal width (cm)": 0,
          "v_petal length (cm)": 4.9,
          "v_petal width (cm)": 2,
          "v_sepal length (cm)": 5.6,
          "v_sepal width (cm)": 2.8
         },
         {
          "class": "virginica",
          "s_petal length (cm)": -0.33333333333333304,
          "s_petal width (cm)": 0,
          "s_sepal length (cm)": 0,
          "s_sepal width (cm)": 0,
          "v_petal length (cm)": 6.7,
          "v_petal width (cm)": 2,
          "v_sepal length (cm)": 7.7,
          "v_sepal width (cm)": 2.8
         },
         {
          "class": "virginica",
          "s_petal length (cm)": -0.33333333333333304,
          "s_petal width (cm)": 0,
          "s_sepal length (cm)": 0,
          "s_sepal width (cm)": 0,
          "v_petal length (cm)": 4.9,
          "v_petal width (cm)": 1.8,
          "v_sepal length (cm)": 6.3,
          "v_sepal width (cm)": 2.7
         },
         {
          "class": "virginica",
          "s_petal length (cm)": -0.33333333333333304,
          "s_petal width (cm)": 0,
          "s_sepal length (cm)": 0,
          "s_sepal width (cm)": 0,
          "v_petal length (cm)": 5.7,
          "v_petal width (cm)": 2.1,
          "v_sepal length (cm)": 6.7,
          "v_sepal width (cm)": 3.3
         },
         {
          "class": "virginica",
          "s_petal length (cm)": -0.33333333333333304,
          "s_petal width (cm)": 0,
          "s_sepal length (cm)": 0,
          "s_sepal width (cm)": 0,
          "v_petal length (cm)": 6,
          "v_petal width (cm)": 1.8,
          "v_sepal length (cm)": 7.2,
          "v_sepal width (cm)": 3.2
         },
         {
          "class": "virginica",
          "s_petal length (cm)": -0.33333333333333304,
          "s_petal width (cm)": 0,
          "s_sepal length (cm)": 0,
          "s_sepal width (cm)": 0,
          "v_petal length (cm)": 4.8,
          "v_petal width (cm)": 1.8,
          "v_sepal length (cm)": 6.2,
          "v_sepal width (cm)": 2.8
         },
         {
          "class": "virginica",
          "s_petal length (cm)": -0.33333333333333304,
          "s_petal width (cm)": 0,
          "s_sepal length (cm)": 0,
          "s_sepal width (cm)": 0,
          "v_petal length (cm)": 4.9,
          "v_petal width (cm)": 1.8,
          "v_sepal length (cm)": 6.1,
          "v_sepal width (cm)": 3
         },
         {
          "class": "virginica",
          "s_petal length (cm)": -0.33333333333333304,
          "s_petal width (cm)": 0,
          "s_sepal length (cm)": 0,
          "s_sepal width (cm)": 0,
          "v_petal length (cm)": 5.6,
          "v_petal width (cm)": 2.1,
          "v_sepal length (cm)": 6.4,
          "v_sepal width (cm)": 2.8
         },
         {
          "class": "virginica",
          "s_petal length (cm)": -0.33333333333333304,
          "s_petal width (cm)": 0,
          "s_sepal length (cm)": 0,
          "s_sepal width (cm)": 0,
          "v_petal length (cm)": 5.8,
          "v_petal width (cm)": 1.6,
          "v_sepal length (cm)": 7.2,
          "v_sepal width (cm)": 3
         },
         {
          "class": "virginica",
          "s_petal length (cm)": -0.33333333333333304,
          "s_petal width (cm)": 0,
          "s_sepal length (cm)": 0,
          "s_sepal width (cm)": 0,
          "v_petal length (cm)": 6.1,
          "v_petal width (cm)": 1.9,
          "v_sepal length (cm)": 7.4,
          "v_sepal width (cm)": 2.8
         },
         {
          "class": "virginica",
          "s_petal length (cm)": -0.33333333333333304,
          "s_petal width (cm)": 0,
          "s_sepal length (cm)": 0,
          "s_sepal width (cm)": 0,
          "v_petal length (cm)": 6.4,
          "v_petal width (cm)": 2,
          "v_sepal length (cm)": 7.9,
          "v_sepal width (cm)": 3.8
         },
         {
          "class": "virginica",
          "s_petal length (cm)": -0.33333333333333304,
          "s_petal width (cm)": 0,
          "s_sepal length (cm)": 0,
          "s_sepal width (cm)": 0,
          "v_petal length (cm)": 5.6,
          "v_petal width (cm)": 2.2,
          "v_sepal length (cm)": 6.4,
          "v_sepal width (cm)": 2.8
         },
         {
          "class": "virginica",
          "s_petal length (cm)": -0.33333333333333304,
          "s_petal width (cm)": 0,
          "s_sepal length (cm)": 0,
          "s_sepal width (cm)": 0,
          "v_petal length (cm)": 5.1,
          "v_petal width (cm)": 1.5,
          "v_sepal length (cm)": 6.3,
          "v_sepal width (cm)": 2.8
         },
         {
          "class": "virginica",
          "s_petal length (cm)": -0.33333333333333304,
          "s_petal width (cm)": 0,
          "s_sepal length (cm)": 0,
          "s_sepal width (cm)": 0,
          "v_petal length (cm)": 5.6,
          "v_petal width (cm)": 1.4,
          "v_sepal length (cm)": 6.1,
          "v_sepal width (cm)": 2.6
         },
         {
          "class": "virginica",
          "s_petal length (cm)": -0.33333333333333304,
          "s_petal width (cm)": 0,
          "s_sepal length (cm)": 0,
          "s_sepal width (cm)": 0,
          "v_petal length (cm)": 6.1,
          "v_petal width (cm)": 2.3,
          "v_sepal length (cm)": 7.7,
          "v_sepal width (cm)": 3
         },
         {
          "class": "virginica",
          "s_petal length (cm)": -0.33333333333333304,
          "s_petal width (cm)": 0,
          "s_sepal length (cm)": 0,
          "s_sepal width (cm)": 0,
          "v_petal length (cm)": 5.6,
          "v_petal width (cm)": 2.4,
          "v_sepal length (cm)": 6.3,
          "v_sepal width (cm)": 3.4
         },
         {
          "class": "virginica",
          "s_petal length (cm)": -0.33333333333333304,
          "s_petal width (cm)": 0,
          "s_sepal length (cm)": 0,
          "s_sepal width (cm)": 0,
          "v_petal length (cm)": 5.5,
          "v_petal width (cm)": 1.8,
          "v_sepal length (cm)": 6.4,
          "v_sepal width (cm)": 3.1
         },
         {
          "class": "virginica",
          "s_petal length (cm)": -0.33333333333333304,
          "s_petal width (cm)": 0,
          "s_sepal length (cm)": 0,
          "s_sepal width (cm)": 0,
          "v_petal length (cm)": 4.8,
          "v_petal width (cm)": 1.8,
          "v_sepal length (cm)": 6,
          "v_sepal width (cm)": 3
         },
         {
          "class": "virginica",
          "s_petal length (cm)": -0.33333333333333304,
          "s_petal width (cm)": 0,
          "s_sepal length (cm)": 0,
          "s_sepal width (cm)": 0,
          "v_petal length (cm)": 5.4,
          "v_petal width (cm)": 2.1,
          "v_sepal length (cm)": 6.9,
          "v_sepal width (cm)": 3.1
         },
         {
          "class": "virginica",
          "s_petal length (cm)": -0.33333333333333304,
          "s_petal width (cm)": 0,
          "s_sepal length (cm)": 0,
          "s_sepal width (cm)": 0,
          "v_petal length (cm)": 5.6,
          "v_petal width (cm)": 2.4,
          "v_sepal length (cm)": 6.7,
          "v_sepal width (cm)": 3.1
         },
         {
          "class": "virginica",
          "s_petal length (cm)": -0.33333333333333304,
          "s_petal width (cm)": 0,
          "s_sepal length (cm)": 0,
          "s_sepal width (cm)": 0,
          "v_petal length (cm)": 5.1,
          "v_petal width (cm)": 2.3,
          "v_sepal length (cm)": 6.9,
          "v_sepal width (cm)": 3.1
         },
         {
          "class": "virginica",
          "s_petal length (cm)": -0.33333333333333304,
          "s_petal width (cm)": 0,
          "s_sepal length (cm)": 0,
          "s_sepal width (cm)": 0,
          "v_petal length (cm)": 5.1,
          "v_petal width (cm)": 1.9,
          "v_sepal length (cm)": 5.8,
          "v_sepal width (cm)": 2.7
         },
         {
          "class": "virginica",
          "s_petal length (cm)": -0.33333333333333304,
          "s_petal width (cm)": 0,
          "s_sepal length (cm)": 0,
          "s_sepal width (cm)": 0,
          "v_petal length (cm)": 5.9,
          "v_petal width (cm)": 2.3,
          "v_sepal length (cm)": 6.8,
          "v_sepal width (cm)": 3.2
         },
         {
          "class": "virginica",
          "s_petal length (cm)": -0.33333333333333304,
          "s_petal width (cm)": 0,
          "s_sepal length (cm)": 0,
          "s_sepal width (cm)": 0,
          "v_petal length (cm)": 5.7,
          "v_petal width (cm)": 2.5,
          "v_sepal length (cm)": 6.7,
          "v_sepal width (cm)": 3.3
         },
         {
          "class": "virginica",
          "s_petal length (cm)": -0.33333333333333304,
          "s_petal width (cm)": 0,
          "s_sepal length (cm)": 0,
          "s_sepal width (cm)": 0,
          "v_petal length (cm)": 5.2,
          "v_petal width (cm)": 2.3,
          "v_sepal length (cm)": 6.7,
          "v_sepal width (cm)": 3
         },
         {
          "class": "virginica",
          "s_petal length (cm)": -0.33333333333333304,
          "s_petal width (cm)": 0,
          "s_sepal length (cm)": 0,
          "s_sepal width (cm)": 0,
          "v_petal length (cm)": 5,
          "v_petal width (cm)": 1.9,
          "v_sepal length (cm)": 6.3,
          "v_sepal width (cm)": 2.5
         },
         {
          "class": "virginica",
          "s_petal length (cm)": -0.33333333333333304,
          "s_petal width (cm)": 0,
          "s_sepal length (cm)": 0,
          "s_sepal width (cm)": 0,
          "v_petal length (cm)": 5.2,
          "v_petal width (cm)": 2,
          "v_sepal length (cm)": 6.5,
          "v_sepal width (cm)": 3
         },
         {
          "class": "virginica",
          "s_petal length (cm)": -0.33333333333333304,
          "s_petal width (cm)": 0,
          "s_sepal length (cm)": 0,
          "s_sepal width (cm)": 0,
          "v_petal length (cm)": 5.4,
          "v_petal width (cm)": 2.3,
          "v_sepal length (cm)": 6.2,
          "v_sepal width (cm)": 3.4
         },
         {
          "class": "virginica",
          "s_petal length (cm)": -0.33333333333333304,
          "s_petal width (cm)": 0,
          "s_sepal length (cm)": 0,
          "s_sepal width (cm)": 0,
          "v_petal length (cm)": 5.1,
          "v_petal width (cm)": 1.8,
          "v_sepal length (cm)": 5.9,
          "v_sepal width (cm)": 3
         }
        ]
       },
       "encoding": {
        "color": {
         "field": "class",
         "type": "nominal"
        },
        "x": {
         "field": "v_petal width (cm)",
         "type": "quantitative"
        },
        "y": {
         "field": "s_petal width (cm)",
         "type": "quantitative"
        }
       },
       "mark": {
        "size": 60,
        "type": "circle"
       },
       "selection": {
        "selector001": {
         "bind": "scales",
         "encodings": [
          "x",
          "y"
         ],
         "type": "interval"
        }
       }
      },
      "image/png": "[encoded data removed]",
      "text/plain": [
       "<VegaLite 3 object>\n",
       "\n",
       "If you see this message, it means the renderer has not been properly enabled\n",
       "for the frontend that you are using. For more information, see\n",
       "https://altair-viz.github.io/user_guide/troubleshooting.html\n"
      ]
     },
     "execution_count": 21,
     "metadata": {},
     "output_type": "execute_result"
    }
   ],
   "source": [
    "alt.Chart(b_x2).mark_circle(size=60).encode(\n",
    "    x='v_petal width (cm)',\n",
    "    y='s_petal width (cm)',\n",
    "        color='class'\n",
    ").interactive()"
   ]
  },
  {
   "cell_type": "code",
   "execution_count": 22,
   "metadata": {},
   "outputs": [
    {
     "data": {
      "text/html": [
       "<div>\n",
       "<style scoped>\n",
       "    .dataframe tbody tr th:only-of-type {\n",
       "        vertical-align: middle;\n",
       "    }\n",
       "\n",
       "    .dataframe tbody tr th {\n",
       "        vertical-align: top;\n",
       "    }\n",
       "\n",
       "    .dataframe thead th {\n",
       "        text-align: right;\n",
       "    }\n",
       "</style>\n",
       "<table border=\"1\" class=\"dataframe\">\n",
       "  <thead>\n",
       "    <tr style=\"text-align: right;\">\n",
       "      <th></th>\n",
       "      <th>v_sepal length (cm)</th>\n",
       "      <th>v_sepal width (cm)</th>\n",
       "      <th>v_petal length (cm)</th>\n",
       "      <th>v_petal width (cm)</th>\n",
       "      <th>s_sepal length (cm)</th>\n",
       "      <th>s_sepal width (cm)</th>\n",
       "      <th>s_petal length (cm)</th>\n",
       "      <th>s_petal width (cm)</th>\n",
       "      <th>class</th>\n",
       "    </tr>\n",
       "  </thead>\n",
       "  <tbody>\n",
       "    <tr>\n",
       "      <th>0</th>\n",
       "      <td>5.1</td>\n",
       "      <td>3.5</td>\n",
       "      <td>1.4</td>\n",
       "      <td>0.2</td>\n",
       "      <td>0.004444</td>\n",
       "      <td>0.0</td>\n",
       "      <td>-0.348889</td>\n",
       "      <td>0.011111</td>\n",
       "      <td>setosa</td>\n",
       "    </tr>\n",
       "    <tr>\n",
       "      <th>1</th>\n",
       "      <td>4.9</td>\n",
       "      <td>3.0</td>\n",
       "      <td>1.4</td>\n",
       "      <td>0.2</td>\n",
       "      <td>0.004444</td>\n",
       "      <td>0.0</td>\n",
       "      <td>-0.348889</td>\n",
       "      <td>0.011111</td>\n",
       "      <td>setosa</td>\n",
       "    </tr>\n",
       "    <tr>\n",
       "      <th>2</th>\n",
       "      <td>4.7</td>\n",
       "      <td>3.2</td>\n",
       "      <td>1.3</td>\n",
       "      <td>0.2</td>\n",
       "      <td>0.004444</td>\n",
       "      <td>0.0</td>\n",
       "      <td>-0.348889</td>\n",
       "      <td>0.011111</td>\n",
       "      <td>setosa</td>\n",
       "    </tr>\n",
       "    <tr>\n",
       "      <th>3</th>\n",
       "      <td>4.6</td>\n",
       "      <td>3.1</td>\n",
       "      <td>1.5</td>\n",
       "      <td>0.2</td>\n",
       "      <td>0.004444</td>\n",
       "      <td>0.0</td>\n",
       "      <td>-0.348889</td>\n",
       "      <td>0.011111</td>\n",
       "      <td>setosa</td>\n",
       "    </tr>\n",
       "    <tr>\n",
       "      <th>4</th>\n",
       "      <td>5.0</td>\n",
       "      <td>3.6</td>\n",
       "      <td>1.4</td>\n",
       "      <td>0.2</td>\n",
       "      <td>0.004444</td>\n",
       "      <td>0.0</td>\n",
       "      <td>-0.348889</td>\n",
       "      <td>0.011111</td>\n",
       "      <td>setosa</td>\n",
       "    </tr>\n",
       "  </tbody>\n",
       "</table>\n",
       "</div>"
      ],
      "text/plain": [
       "   v_sepal length (cm)  v_sepal width (cm)  v_petal length (cm)  \\\n",
       "0                  5.1                 3.5                  1.4   \n",
       "1                  4.9                 3.0                  1.4   \n",
       "2                  4.7                 3.2                  1.3   \n",
       "3                  4.6                 3.1                  1.5   \n",
       "4                  5.0                 3.6                  1.4   \n",
       "\n",
       "   v_petal width (cm)  s_sepal length (cm)  s_sepal width (cm)  \\\n",
       "0                 0.2             0.004444                 0.0   \n",
       "1                 0.2             0.004444                 0.0   \n",
       "2                 0.2             0.004444                 0.0   \n",
       "3                 0.2             0.004444                 0.0   \n",
       "4                 0.2             0.004444                 0.0   \n",
       "\n",
       "   s_petal length (cm)  s_petal width (cm)   class  \n",
       "0            -0.348889            0.011111  setosa  \n",
       "1            -0.348889            0.011111  setosa  \n",
       "2            -0.348889            0.011111  setosa  \n",
       "3            -0.348889            0.011111  setosa  \n",
       "4            -0.348889            0.011111  setosa  "
      ]
     },
     "execution_count": 22,
     "metadata": {},
     "output_type": "execute_result"
    }
   ],
   "source": [
    "b_x3 = b_x.copy().rename(\n",
    "    columns={c: \"v_\"+c for c in b_x.columns}\n",
    ").merge(\n",
    "    shaps[1].copy().rename(columns={c: \"s_\"+c for c in shaps[1].columns}),\n",
    "    left_index=True,right_index=True\n",
    ")\n",
    "b_x3['class'] = b['class']\n",
    "\n",
    "b_x3.head()"
   ]
  },
  {
   "cell_type": "code",
   "execution_count": 23,
   "metadata": {},
   "outputs": [
    {
     "data": {
      "application/vnd.vegalite.v3+json": {
       "$schema": "https://vega.github.io/schema/vega-lite/v3.3.0.json",
       "config": {
        "mark": {
         "tooltip": null
        },
        "view": {
         "height": 300,
         "width": 400
        }
       },
       "data": {
        "name": "data-d65dfe2ab0df24f82031004a09bb3757"
       },
       "datasets": {
        "data-d65dfe2ab0df24f82031004a09bb3757": [
         {
          "class": "setosa",
          "s_petal length (cm)": -0.3488888888888885,
          "s_petal width (cm)": 0.011111111111111016,
          "s_sepal length (cm)": 0.004444444444444445,
          "s_sepal width (cm)": 0,
          "v_petal length (cm)": 1.4,
          "v_petal width (cm)": 0.2,
          "v_sepal length (cm)": 5.1,
          "v_sepal width (cm)": 3.5
         },
         {
          "class": "setosa",
          "s_petal length (cm)": -0.3488888888888885,
          "s_petal width (cm)": 0.011111111111111016,
          "s_sepal length (cm)": 0.004444444444444445,
          "s_sepal width (cm)": 0,
          "v_petal length (cm)": 1.4,
          "v_petal width (cm)": 0.2,
          "v_sepal length (cm)": 4.9,
          "v_sepal width (cm)": 3
         },
         {
          "class": "setosa",
          "s_petal length (cm)": -0.3488888888888885,
          "s_petal width (cm)": 0.011111111111111016,
          "s_sepal length (cm)": 0.004444444444444445,
          "s_sepal width (cm)": 0,
          "v_petal length (cm)": 1.3,
          "v_petal width (cm)": 0.2,
          "v_sepal length (cm)": 4.7,
          "v_sepal width (cm)": 3.2
         },
         {
          "class": "setosa",
          "s_petal length (cm)": -0.3488888888888885,
          "s_petal width (cm)": 0.011111111111111016,
          "s_sepal length (cm)": 0.004444444444444445,
          "s_sepal width (cm)": 0,
          "v_petal length (cm)": 1.5,
          "v_petal width (cm)": 0.2,
          "v_sepal length (cm)": 4.6,
          "v_sepal width (cm)": 3.1
         },
         {
          "class": "setosa",
          "s_petal length (cm)": -0.3488888888888885,
          "s_petal width (cm)": 0.011111111111111016,
          "s_sepal length (cm)": 0.004444444444444445,
          "s_sepal width (cm)": 0,
          "v_petal length (cm)": 1.4,
          "v_petal width (cm)": 0.2,
          "v_sepal length (cm)": 5,
          "v_sepal width (cm)": 3.6
         },
         {
          "class": "setosa",
          "s_petal length (cm)": -0.3488888888888885,
          "s_petal width (cm)": 0.011111111111111016,
          "s_sepal length (cm)": 0.004444444444444445,
          "s_sepal width (cm)": 0,
          "v_petal length (cm)": 1.7,
          "v_petal width (cm)": 0.4,
          "v_sepal length (cm)": 5.4,
          "v_sepal width (cm)": 3.9
         },
         {
          "class": "setosa",
          "s_petal length (cm)": -0.3488888888888885,
          "s_petal width (cm)": 0.011111111111111016,
          "s_sepal length (cm)": 0.004444444444444445,
          "s_sepal width (cm)": 0,
          "v_petal length (cm)": 1.4,
          "v_petal width (cm)": 0.3,
          "v_sepal length (cm)": 4.6,
          "v_sepal width (cm)": 3.4
         },
         {
          "class": "setosa",
          "s_petal length (cm)": -0.3488888888888885,
          "s_petal width (cm)": 0.011111111111111016,
          "s_sepal length (cm)": 0.004444444444444445,
          "s_sepal width (cm)": 0,
          "v_petal length (cm)": 1.5,
          "v_petal width (cm)": 0.2,
          "v_sepal length (cm)": 5,
          "v_sepal width (cm)": 3.4
         },
         {
          "class": "setosa",
          "s_petal length (cm)": -0.3488888888888885,
          "s_petal width (cm)": 0.011111111111111016,
          "s_sepal length (cm)": 0.004444444444444445,
          "s_sepal width (cm)": 0,
          "v_petal length (cm)": 1.4,
          "v_petal width (cm)": 0.2,
          "v_sepal length (cm)": 4.4,
          "v_sepal width (cm)": 2.9
         },
         {
          "class": "setosa",
          "s_petal length (cm)": -0.3488888888888885,
          "s_petal width (cm)": 0.011111111111111016,
          "s_sepal length (cm)": 0.004444444444444445,
          "s_sepal width (cm)": 0,
          "v_petal length (cm)": 1.5,
          "v_petal width (cm)": 0.1,
          "v_sepal length (cm)": 4.9,
          "v_sepal width (cm)": 3.1
         },
         {
          "class": "setosa",
          "s_petal length (cm)": -0.3488888888888885,
          "s_petal width (cm)": 0.011111111111111016,
          "s_sepal length (cm)": 0.004444444444444445,
          "s_sepal width (cm)": 0,
          "v_petal length (cm)": 1.5,
          "v_petal width (cm)": 0.2,
          "v_sepal length (cm)": 5.4,
          "v_sepal width (cm)": 3.7
         },
         {
          "class": "setosa",
          "s_petal length (cm)": -0.3488888888888885,
          "s_petal width (cm)": 0.011111111111111016,
          "s_sepal length (cm)": 0.004444444444444445,
          "s_sepal width (cm)": 0,
          "v_petal length (cm)": 1.6,
          "v_petal width (cm)": 0.2,
          "v_sepal length (cm)": 4.8,
          "v_sepal width (cm)": 3.4
         },
         {
          "class": "setosa",
          "s_petal length (cm)": -0.3488888888888885,
          "s_petal width (cm)": 0.011111111111111016,
          "s_sepal length (cm)": 0.004444444444444445,
          "s_sepal width (cm)": 0,
          "v_petal length (cm)": 1.4,
          "v_petal width (cm)": 0.1,
          "v_sepal length (cm)": 4.8,
          "v_sepal width (cm)": 3
         },
         {
          "class": "setosa",
          "s_petal length (cm)": -0.3488888888888885,
          "s_petal width (cm)": 0.011111111111111016,
          "s_sepal length (cm)": 0.004444444444444445,
          "s_sepal width (cm)": 0,
          "v_petal length (cm)": 1.1,
          "v_petal width (cm)": 0.1,
          "v_sepal length (cm)": 4.3,
          "v_sepal width (cm)": 3
         },
         {
          "class": "setosa",
          "s_petal length (cm)": -0.3488888888888885,
          "s_petal width (cm)": 0.011111111111111016,
          "s_sepal length (cm)": 0.004444444444444445,
          "s_sepal width (cm)": 0,
          "v_petal length (cm)": 1.2,
          "v_petal width (cm)": 0.2,
          "v_sepal length (cm)": 5.8,
          "v_sepal width (cm)": 4
         },
         {
          "class": "setosa",
          "s_petal length (cm)": -0.3488888888888885,
          "s_petal width (cm)": 0.011111111111111016,
          "s_sepal length (cm)": 0.004444444444444445,
          "s_sepal width (cm)": 0,
          "v_petal length (cm)": 1.5,
          "v_petal width (cm)": 0.4,
          "v_sepal length (cm)": 5.7,
          "v_sepal width (cm)": 4.4
         },
         {
          "class": "setosa",
          "s_petal length (cm)": -0.3488888888888885,
          "s_petal width (cm)": 0.011111111111111016,
          "s_sepal length (cm)": 0.004444444444444445,
          "s_sepal width (cm)": 0,
          "v_petal length (cm)": 1.3,
          "v_petal width (cm)": 0.4,
          "v_sepal length (cm)": 5.4,
          "v_sepal width (cm)": 3.9
         },
         {
          "class": "setosa",
          "s_petal length (cm)": -0.3488888888888885,
          "s_petal width (cm)": 0.011111111111111016,
          "s_sepal length (cm)": 0.004444444444444445,
          "s_sepal width (cm)": 0,
          "v_petal length (cm)": 1.4,
          "v_petal width (cm)": 0.3,
          "v_sepal length (cm)": 5.1,
          "v_sepal width (cm)": 3.5
         },
         {
          "class": "setosa",
          "s_petal length (cm)": -0.3488888888888885,
          "s_petal width (cm)": 0.011111111111111016,
          "s_sepal length (cm)": 0.004444444444444445,
          "s_sepal width (cm)": 0,
          "v_petal length (cm)": 1.7,
          "v_petal width (cm)": 0.3,
          "v_sepal length (cm)": 5.7,
          "v_sepal width (cm)": 3.8
         },
         {
          "class": "setosa",
          "s_petal length (cm)": -0.3488888888888885,
          "s_petal width (cm)": 0.011111111111111016,
          "s_sepal length (cm)": 0.004444444444444445,
          "s_sepal width (cm)": 0,
          "v_petal length (cm)": 1.5,
          "v_petal width (cm)": 0.3,
          "v_sepal length (cm)": 5.1,
          "v_sepal width (cm)": 3.8
         },
         {
          "class": "setosa",
          "s_petal length (cm)": -0.3488888888888885,
          "s_petal width (cm)": 0.011111111111111016,
          "s_sepal length (cm)": 0.004444444444444445,
          "s_sepal width (cm)": 0,
          "v_petal length (cm)": 1.7,
          "v_petal width (cm)": 0.2,
          "v_sepal length (cm)": 5.4,
          "v_sepal width (cm)": 3.4
         },
         {
          "class": "setosa",
          "s_petal length (cm)": -0.3488888888888885,
          "s_petal width (cm)": 0.011111111111111016,
          "s_sepal length (cm)": 0.004444444444444445,
          "s_sepal width (cm)": 0,
          "v_petal length (cm)": 1.5,
          "v_petal width (cm)": 0.4,
          "v_sepal length (cm)": 5.1,
          "v_sepal width (cm)": 3.7
         },
         {
          "class": "setosa",
          "s_petal length (cm)": -0.3488888888888885,
          "s_petal width (cm)": 0.011111111111111016,
          "s_sepal length (cm)": 0.004444444444444445,
          "s_sepal width (cm)": 0,
          "v_petal length (cm)": 1,
          "v_petal width (cm)": 0.2,
          "v_sepal length (cm)": 4.6,
          "v_sepal width (cm)": 3.6
         },
         {
          "class": "setosa",
          "s_petal length (cm)": -0.3488888888888885,
          "s_petal width (cm)": 0.011111111111111016,
          "s_sepal length (cm)": 0.004444444444444445,
          "s_sepal width (cm)": 0,
          "v_petal length (cm)": 1.7,
          "v_petal width (cm)": 0.5,
          "v_sepal length (cm)": 5.1,
          "v_sepal width (cm)": 3.3
         },
         {
          "class": "setosa",
          "s_petal length (cm)": -0.3488888888888885,
          "s_petal width (cm)": 0.011111111111111016,
          "s_sepal length (cm)": 0.004444444444444445,
          "s_sepal width (cm)": 0,
          "v_petal length (cm)": 1.9,
          "v_petal width (cm)": 0.2,
          "v_sepal length (cm)": 4.8,
          "v_sepal width (cm)": 3.4
         },
         {
          "class": "setosa",
          "s_petal length (cm)": -0.3488888888888885,
          "s_petal width (cm)": 0.011111111111111016,
          "s_sepal length (cm)": 0.004444444444444445,
          "s_sepal width (cm)": 0,
          "v_petal length (cm)": 1.6,
          "v_petal width (cm)": 0.2,
          "v_sepal length (cm)": 5,
          "v_sepal width (cm)": 3
         },
         {
          "class": "setosa",
          "s_petal length (cm)": -0.3488888888888885,
          "s_petal width (cm)": 0.011111111111111016,
          "s_sepal length (cm)": 0.004444444444444445,
          "s_sepal width (cm)": 0,
          "v_petal length (cm)": 1.6,
          "v_petal width (cm)": 0.4,
          "v_sepal length (cm)": 5,
          "v_sepal width (cm)": 3.4
         },
         {
          "class": "setosa",
          "s_petal length (cm)": -0.3488888888888885,
          "s_petal width (cm)": 0.011111111111111016,
          "s_sepal length (cm)": 0.004444444444444445,
          "s_sepal width (cm)": 0,
          "v_petal length (cm)": 1.5,
          "v_petal width (cm)": 0.2,
          "v_sepal length (cm)": 5.2,
          "v_sepal width (cm)": 3.5
         },
         {
          "class": "setosa",
          "s_petal length (cm)": -0.3488888888888885,
          "s_petal width (cm)": 0.011111111111111016,
          "s_sepal length (cm)": 0.004444444444444445,
          "s_sepal width (cm)": 0,
          "v_petal length (cm)": 1.4,
          "v_petal width (cm)": 0.2,
          "v_sepal length (cm)": 5.2,
          "v_sepal width (cm)": 3.4
         },
         {
          "class": "setosa",
          "s_petal length (cm)": -0.3488888888888885,
          "s_petal width (cm)": 0.011111111111111016,
          "s_sepal length (cm)": 0.004444444444444445,
          "s_sepal width (cm)": 0,
          "v_petal length (cm)": 1.6,
          "v_petal width (cm)": 0.2,
          "v_sepal length (cm)": 4.7,
          "v_sepal width (cm)": 3.2
         },
         {
          "class": "setosa",
          "s_petal length (cm)": -0.3488888888888885,
          "s_petal width (cm)": 0.011111111111111016,
          "s_sepal length (cm)": 0.004444444444444445,
          "s_sepal width (cm)": 0,
          "v_petal length (cm)": 1.6,
          "v_petal width (cm)": 0.2,
          "v_sepal length (cm)": 4.8,
          "v_sepal width (cm)": 3.1
         },
         {
          "class": "setosa",
          "s_petal length (cm)": -0.3488888888888885,
          "s_petal width (cm)": 0.011111111111111016,
          "s_sepal length (cm)": 0.004444444444444445,
          "s_sepal width (cm)": 0,
          "v_petal length (cm)": 1.5,
          "v_petal width (cm)": 0.4,
          "v_sepal length (cm)": 5.4,
          "v_sepal width (cm)": 3.4
         },
         {
          "class": "setosa",
          "s_petal length (cm)": -0.3488888888888885,
          "s_petal width (cm)": 0.011111111111111016,
          "s_sepal length (cm)": 0.004444444444444445,
          "s_sepal width (cm)": 0,
          "v_petal length (cm)": 1.5,
          "v_petal width (cm)": 0.1,
          "v_sepal length (cm)": 5.2,
          "v_sepal width (cm)": 4.1
         },
         {
          "class": "setosa",
          "s_petal length (cm)": -0.3488888888888885,
          "s_petal width (cm)": 0.011111111111111016,
          "s_sepal length (cm)": 0.004444444444444445,
          "s_sepal width (cm)": 0,
          "v_petal length (cm)": 1.4,
          "v_petal width (cm)": 0.2,
          "v_sepal length (cm)": 5.5,
          "v_sepal width (cm)": 4.2
         },
         {
          "class": "setosa",
          "s_petal length (cm)": -0.3488888888888885,
          "s_petal width (cm)": 0.011111111111111016,
          "s_sepal length (cm)": 0.004444444444444445,
          "s_sepal width (cm)": 0,
          "v_petal length (cm)": 1.5,
          "v_petal width (cm)": 0.2,
          "v_sepal length (cm)": 4.9,
          "v_sepal width (cm)": 3.1
         },
         {
          "class": "setosa",
          "s_petal length (cm)": -0.3488888888888885,
          "s_petal width (cm)": 0.011111111111111016,
          "s_sepal length (cm)": 0.004444444444444445,
          "s_sepal width (cm)": 0,
          "v_petal length (cm)": 1.2,
          "v_petal width (cm)": 0.2,
          "v_sepal length (cm)": 5,
          "v_sepal width (cm)": 3.2
         },
         {
          "class": "setosa",
          "s_petal length (cm)": -0.3488888888888885,
          "s_petal width (cm)": 0.011111111111111016,
          "s_sepal length (cm)": 0.004444444444444445,
          "s_sepal width (cm)": 0,
          "v_petal length (cm)": 1.3,
          "v_petal width (cm)": 0.2,
          "v_sepal length (cm)": 5.5,
          "v_sepal width (cm)": 3.5
         },
         {
          "class": "setosa",
          "s_petal length (cm)": -0.3488888888888885,
          "s_petal width (cm)": 0.011111111111111016,
          "s_sepal length (cm)": 0.004444444444444445,
          "s_sepal width (cm)": 0,
          "v_petal length (cm)": 1.4,
          "v_petal width (cm)": 0.1,
          "v_sepal length (cm)": 4.9,
          "v_sepal width (cm)": 3.6
         },
         {
          "class": "setosa",
          "s_petal length (cm)": -0.3488888888888885,
          "s_petal width (cm)": 0.011111111111111016,
          "s_sepal length (cm)": 0.004444444444444445,
          "s_sepal width (cm)": 0,
          "v_petal length (cm)": 1.3,
          "v_petal width (cm)": 0.2,
          "v_sepal length (cm)": 4.4,
          "v_sepal width (cm)": 3
         },
         {
          "class": "setosa",
          "s_petal length (cm)": -0.3488888888888885,
          "s_petal width (cm)": 0.011111111111111016,
          "s_sepal length (cm)": 0.004444444444444445,
          "s_sepal width (cm)": 0,
          "v_petal length (cm)": 1.5,
          "v_petal width (cm)": 0.2,
          "v_sepal length (cm)": 5.1,
          "v_sepal width (cm)": 3.4
         },
         {
          "class": "setosa",
          "s_petal length (cm)": -0.3488888888888885,
          "s_petal width (cm)": 0.011111111111111016,
          "s_sepal length (cm)": 0.004444444444444445,
          "s_sepal width (cm)": 0,
          "v_petal length (cm)": 1.3,
          "v_petal width (cm)": 0.3,
          "v_sepal length (cm)": 5,
          "v_sepal width (cm)": 3.5
         },
         {
          "class": "setosa",
          "s_petal length (cm)": -0.3488888888888885,
          "s_petal width (cm)": 0.011111111111111016,
          "s_sepal length (cm)": 0.004444444444444445,
          "s_sepal width (cm)": 0,
          "v_petal length (cm)": 1.3,
          "v_petal width (cm)": 0.3,
          "v_sepal length (cm)": 4.5,
          "v_sepal width (cm)": 2.3
         },
         {
          "class": "setosa",
          "s_petal length (cm)": -0.3488888888888885,
          "s_petal width (cm)": 0.011111111111111016,
          "s_sepal length (cm)": 0.004444444444444445,
          "s_sepal width (cm)": 0,
          "v_petal length (cm)": 1.3,
          "v_petal width (cm)": 0.2,
          "v_sepal length (cm)": 4.4,
          "v_sepal width (cm)": 3.2
         },
         {
          "class": "setosa",
          "s_petal length (cm)": -0.3488888888888885,
          "s_petal width (cm)": 0.011111111111111016,
          "s_sepal length (cm)": 0.004444444444444445,
          "s_sepal width (cm)": 0,
          "v_petal length (cm)": 1.6,
          "v_petal width (cm)": 0.6,
          "v_sepal length (cm)": 5,
          "v_sepal width (cm)": 3.5
         },
         {
          "class": "setosa",
          "s_petal length (cm)": -0.3488888888888885,
          "s_petal width (cm)": 0.011111111111111016,
          "s_sepal length (cm)": 0.004444444444444445,
          "s_sepal width (cm)": 0,
          "v_petal length (cm)": 1.9,
          "v_petal width (cm)": 0.4,
          "v_sepal length (cm)": 5.1,
          "v_sepal width (cm)": 3.8
         },
         {
          "class": "setosa",
          "s_petal length (cm)": -0.3488888888888885,
          "s_petal width (cm)": 0.011111111111111016,
          "s_sepal length (cm)": 0.004444444444444445,
          "s_sepal width (cm)": 0,
          "v_petal length (cm)": 1.4,
          "v_petal width (cm)": 0.3,
          "v_sepal length (cm)": 4.8,
          "v_sepal width (cm)": 3
         },
         {
          "class": "setosa",
          "s_petal length (cm)": -0.3488888888888885,
          "s_petal width (cm)": 0.011111111111111016,
          "s_sepal length (cm)": 0.004444444444444445,
          "s_sepal width (cm)": 0,
          "v_petal length (cm)": 1.6,
          "v_petal width (cm)": 0.2,
          "v_sepal length (cm)": 5.1,
          "v_sepal width (cm)": 3.8
         },
         {
          "class": "setosa",
          "s_petal length (cm)": -0.3488888888888885,
          "s_petal width (cm)": 0.011111111111111016,
          "s_sepal length (cm)": 0.004444444444444445,
          "s_sepal width (cm)": 0,
          "v_petal length (cm)": 1.4,
          "v_petal width (cm)": 0.2,
          "v_sepal length (cm)": 4.6,
          "v_sepal width (cm)": 3.2
         },
         {
          "class": "setosa",
          "s_petal length (cm)": -0.3488888888888885,
          "s_petal width (cm)": 0.011111111111111016,
          "s_sepal length (cm)": 0.004444444444444445,
          "s_sepal width (cm)": 0,
          "v_petal length (cm)": 1.5,
          "v_petal width (cm)": 0.2,
          "v_sepal length (cm)": 5.3,
          "v_sepal width (cm)": 3.7
         },
         {
          "class": "setosa",
          "s_petal length (cm)": -0.3488888888888885,
          "s_petal width (cm)": 0.011111111111111016,
          "s_sepal length (cm)": 0.004444444444444445,
          "s_sepal width (cm)": 0,
          "v_petal length (cm)": 1.4,
          "v_petal width (cm)": 0.2,
          "v_sepal length (cm)": 5,
          "v_sepal width (cm)": 3.3
         },
         {
          "class": "versicolor",
          "s_petal length (cm)": 0.5100000000000013,
          "s_petal width (cm)": 0.16666666666666702,
          "s_sepal length (cm)": -0.01000000000000073,
          "s_sepal width (cm)": 0,
          "v_petal length (cm)": 4.7,
          "v_petal width (cm)": 1.4,
          "v_sepal length (cm)": 7,
          "v_sepal width (cm)": 3.2
         },
         {
          "class": "versicolor",
          "s_petal length (cm)": 0.5100000000000013,
          "s_petal width (cm)": 0.16666666666666702,
          "s_sepal length (cm)": -0.01000000000000073,
          "s_sepal width (cm)": 0,
          "v_petal length (cm)": 4.5,
          "v_petal width (cm)": 1.5,
          "v_sepal length (cm)": 6.4,
          "v_sepal width (cm)": 3.2
         },
         {
          "class": "versicolor",
          "s_petal length (cm)": 0.49444444444444563,
          "s_petal width (cm)": 0.17444444444444485,
          "s_sepal length (cm)": -0.002222222222222875,
          "s_sepal width (cm)": 0,
          "v_petal length (cm)": 4.9,
          "v_petal width (cm)": 1.5,
          "v_sepal length (cm)": 6.9,
          "v_sepal width (cm)": 3.1
         },
         {
          "class": "versicolor",
          "s_petal length (cm)": 0.5577777777777796,
          "s_petal width (cm)": 0.06111111111111067,
          "s_sepal length (cm)": 0.04777777777777731,
          "s_sepal width (cm)": 0,
          "v_petal length (cm)": 4,
          "v_petal width (cm)": 1.3,
          "v_sepal length (cm)": 5.5,
          "v_sepal width (cm)": 2.3
         },
         {
          "class": "versicolor",
          "s_petal length (cm)": 0.5100000000000013,
          "s_petal width (cm)": 0.16666666666666702,
          "s_sepal length (cm)": -0.01000000000000073,
          "s_sepal width (cm)": 0,
          "v_petal length (cm)": 4.6,
          "v_petal width (cm)": 1.5,
          "v_sepal length (cm)": 6.5,
          "v_sepal width (cm)": 2.8
         },
         {
          "class": "versicolor",
          "s_petal length (cm)": 0.5577777777777796,
          "s_petal width (cm)": 0.06111111111111067,
          "s_sepal length (cm)": 0.04777777777777731,
          "s_sepal width (cm)": 0,
          "v_petal length (cm)": 4.5,
          "v_petal width (cm)": 1.3,
          "v_sepal length (cm)": 5.7,
          "v_sepal width (cm)": 2.8
         },
         {
          "class": "versicolor",
          "s_petal length (cm)": 0.4500000000000014,
          "s_petal width (cm)": 0.2266666666666669,
          "s_sepal length (cm)": -0.010000000000000703,
          "s_sepal width (cm)": 0,
          "v_petal length (cm)": 4.7,
          "v_petal width (cm)": 1.6,
          "v_sepal length (cm)": 6.3,
          "v_sepal width (cm)": 3.3
         },
         {
          "class": "versicolor",
          "s_petal length (cm)": 0.5577777777777796,
          "s_petal width (cm)": 0.06111111111111067,
          "s_sepal length (cm)": 0.04777777777777731,
          "s_sepal width (cm)": 0,
          "v_petal length (cm)": 3.3,
          "v_petal width (cm)": 1,
          "v_sepal length (cm)": 4.9,
          "v_sepal width (cm)": 2.4
         },
         {
          "class": "versicolor",
          "s_petal length (cm)": 0.5100000000000013,
          "s_petal width (cm)": 0.16666666666666702,
          "s_sepal length (cm)": -0.01000000000000073,
          "s_sepal width (cm)": 0,
          "v_petal length (cm)": 4.6,
          "v_petal width (cm)": 1.3,
          "v_sepal length (cm)": 6.6,
          "v_sepal width (cm)": 2.9
         },
         {
          "class": "versicolor",
          "s_petal length (cm)": 0.5577777777777796,
          "s_petal width (cm)": 0.06111111111111067,
          "s_sepal length (cm)": 0.04777777777777731,
          "s_sepal width (cm)": 0,
          "v_petal length (cm)": 3.9,
          "v_petal width (cm)": 1.4,
          "v_sepal length (cm)": 5.2,
          "v_sepal width (cm)": 2.7
         },
         {
          "class": "versicolor",
          "s_petal length (cm)": 0.5577777777777796,
          "s_petal width (cm)": 0.06111111111111067,
          "s_sepal length (cm)": 0.04777777777777731,
          "s_sepal width (cm)": 0,
          "v_petal length (cm)": 3.5,
          "v_petal width (cm)": 1,
          "v_sepal length (cm)": 5,
          "v_sepal width (cm)": 2
         },
         {
          "class": "versicolor",
          "s_petal length (cm)": 0.5577777777777796,
          "s_petal width (cm)": 0.06111111111111067,
          "s_sepal length (cm)": 0.04777777777777731,
          "s_sepal width (cm)": 0,
          "v_petal length (cm)": 4.2,
          "v_petal width (cm)": 1.5,
          "v_sepal length (cm)": 5.9,
          "v_sepal width (cm)": 3
         },
         {
          "class": "versicolor",
          "s_petal length (cm)": 0.5100000000000013,
          "s_petal width (cm)": 0.16666666666666702,
          "s_sepal length (cm)": -0.01000000000000073,
          "s_sepal width (cm)": 0,
          "v_petal length (cm)": 4,
          "v_petal width (cm)": 1,
          "v_sepal length (cm)": 6,
          "v_sepal width (cm)": 2.2
         },
         {
          "class": "versicolor",
          "s_petal length (cm)": 0.5100000000000013,
          "s_petal width (cm)": 0.16666666666666702,
          "s_sepal length (cm)": -0.01000000000000073,
          "s_sepal width (cm)": 0,
          "v_petal length (cm)": 4.7,
          "v_petal width (cm)": 1.4,
          "v_sepal length (cm)": 6.1,
          "v_sepal width (cm)": 2.9
         },
         {
          "class": "versicolor",
          "s_petal length (cm)": 0.5577777777777796,
          "s_petal width (cm)": 0.06111111111111067,
          "s_sepal length (cm)": 0.04777777777777731,
          "s_sepal width (cm)": 0,
          "v_petal length (cm)": 3.6,
          "v_petal width (cm)": 1.3,
          "v_sepal length (cm)": 5.6,
          "v_sepal width (cm)": 2.9
         },
         {
          "class": "versicolor",
          "s_petal length (cm)": 0.5100000000000013,
          "s_petal width (cm)": 0.16666666666666702,
          "s_sepal length (cm)": -0.01000000000000073,
          "s_sepal width (cm)": 0,
          "v_petal length (cm)": 4.4,
          "v_petal width (cm)": 1.4,
          "v_sepal length (cm)": 6.7,
          "v_sepal width (cm)": 3.1
         },
         {
          "class": "versicolor",
          "s_petal length (cm)": 0.5577777777777796,
          "s_petal width (cm)": 0.06111111111111067,
          "s_sepal length (cm)": 0.04777777777777731,
          "s_sepal width (cm)": 0,
          "v_petal length (cm)": 4.5,
          "v_petal width (cm)": 1.5,
          "v_sepal length (cm)": 5.6,
          "v_sepal width (cm)": 3
         },
         {
          "class": "versicolor",
          "s_petal length (cm)": 0.5577777777777796,
          "s_petal width (cm)": 0.06111111111111067,
          "s_sepal length (cm)": 0.04777777777777731,
          "s_sepal width (cm)": 0,
          "v_petal length (cm)": 4.1,
          "v_petal width (cm)": 1,
          "v_sepal length (cm)": 5.8,
          "v_sepal width (cm)": 2.7
         },
         {
          "class": "versicolor",
          "s_petal length (cm)": 0.5100000000000013,
          "s_petal width (cm)": 0.16666666666666702,
          "s_sepal length (cm)": -0.01000000000000073,
          "s_sepal width (cm)": 0,
          "v_petal length (cm)": 4.5,
          "v_petal width (cm)": 1.5,
          "v_sepal length (cm)": 6.2,
          "v_sepal width (cm)": 2.2
         },
         {
          "class": "versicolor",
          "s_petal length (cm)": 0.5577777777777796,
          "s_petal width (cm)": 0.06111111111111067,
          "s_sepal length (cm)": 0.04777777777777731,
          "s_sepal width (cm)": 0,
          "v_petal length (cm)": 3.9,
          "v_petal width (cm)": 1.1,
          "v_sepal length (cm)": 5.6,
          "v_sepal width (cm)": 2.5
         },
         {
          "class": "versicolor",
          "s_petal length (cm)": 0.5244444444444457,
          "s_petal width (cm)": -0.07888888888888956,
          "s_sepal length (cm)": 0.22111111111111148,
          "s_sepal width (cm)": 0,
          "v_petal length (cm)": 4.8,
          "v_petal width (cm)": 1.8,
          "v_sepal length (cm)": 5.9,
          "v_sepal width (cm)": 3.2
         },
         {
          "class": "versicolor",
          "s_petal length (cm)": 0.5100000000000013,
          "s_petal width (cm)": 0.16666666666666702,
          "s_sepal length (cm)": -0.01000000000000073,
          "s_sepal width (cm)": 0,
          "v_petal length (cm)": 4,
          "v_petal width (cm)": 1.3,
          "v_sepal length (cm)": 6.1,
          "v_sepal width (cm)": 2.8
         },
         {
          "class": "versicolor",
          "s_petal length (cm)": 0.49444444444444563,
          "s_petal width (cm)": 0.17444444444444485,
          "s_sepal length (cm)": -0.002222222222222875,
          "s_sepal width (cm)": 0,
          "v_petal length (cm)": 4.9,
          "v_petal width (cm)": 1.5,
          "v_sepal length (cm)": 6.3,
          "v_sepal width (cm)": 2.5
         },
         {
          "class": "versicolor",
          "s_petal length (cm)": 0.5100000000000013,
          "s_petal width (cm)": 0.16666666666666702,
          "s_sepal length (cm)": -0.01000000000000073,
          "s_sepal width (cm)": 0,
          "v_petal length (cm)": 4.7,
          "v_petal width (cm)": 1.2,
          "v_sepal length (cm)": 6.1,
          "v_sepal width (cm)": 2.8
         },
         {
          "class": "versicolor",
          "s_petal length (cm)": 0.5100000000000013,
          "s_petal width (cm)": 0.16666666666666702,
          "s_sepal length (cm)": -0.01000000000000073,
          "s_sepal width (cm)": 0,
          "v_petal length (cm)": 4.3,
          "v_petal width (cm)": 1.3,
          "v_sepal length (cm)": 6.4,
          "v_sepal width (cm)": 2.9
         },
         {
          "class": "versicolor",
          "s_petal length (cm)": 0.5100000000000013,
          "s_petal width (cm)": 0.16666666666666702,
          "s_sepal length (cm)": -0.01000000000000073,
          "s_sepal width (cm)": 0,
          "v_petal length (cm)": 4.4,
          "v_petal width (cm)": 1.4,
          "v_sepal length (cm)": 6.6,
          "v_sepal width (cm)": 3
         },
         {
          "class": "versicolor",
          "s_petal length (cm)": 0.5100000000000013,
          "s_petal width (cm)": 0.16666666666666702,
          "s_sepal length (cm)": -0.01000000000000073,
          "s_sepal width (cm)": 0,
          "v_petal length (cm)": 4.8,
          "v_petal width (cm)": 1.4,
          "v_sepal length (cm)": 6.8,
          "v_sepal width (cm)": 2.8
         },
         {
          "class": "versicolor",
          "s_petal length (cm)": 0.2944444444444452,
          "s_petal width (cm)": 0.37444444444444525,
          "s_sepal length (cm)": -0.0022222222222228194,
          "s_sepal width (cm)": 0,
          "v_petal length (cm)": 5,
          "v_petal width (cm)": 1.7,
          "v_sepal length (cm)": 6.7,
          "v_sepal width (cm)": 3
         },
         {
          "class": "versicolor",
          "s_petal length (cm)": 0.5100000000000013,
          "s_petal width (cm)": 0.16666666666666702,
          "s_sepal length (cm)": -0.01000000000000073,
          "s_sepal width (cm)": 0,
          "v_petal length (cm)": 4.5,
          "v_petal width (cm)": 1.5,
          "v_sepal length (cm)": 6,
          "v_sepal width (cm)": 2.9
         },
         {
          "class": "versicolor",
          "s_petal length (cm)": 0.5577777777777796,
          "s_petal width (cm)": 0.06111111111111067,
          "s_sepal length (cm)": 0.04777777777777731,
          "s_sepal width (cm)": 0,
          "v_petal length (cm)": 3.5,
          "v_petal width (cm)": 1,
          "v_sepal length (cm)": 5.7,
          "v_sepal width (cm)": 2.6
         },
         {
          "class": "versicolor",
          "s_petal length (cm)": 0.5577777777777796,
          "s_petal width (cm)": 0.06111111111111067,
          "s_sepal length (cm)": 0.04777777777777731,
          "s_sepal width (cm)": 0,
          "v_petal length (cm)": 3.8,
          "v_petal width (cm)": 1.1,
          "v_sepal length (cm)": 5.5,
          "v_sepal width (cm)": 2.4
         },
         {
          "class": "versicolor",
          "s_petal length (cm)": 0.5577777777777796,
          "s_petal width (cm)": 0.06111111111111067,
          "s_sepal length (cm)": 0.04777777777777731,
          "s_sepal width (cm)": 0,
          "v_petal length (cm)": 3.7,
          "v_petal width (cm)": 1,
          "v_sepal length (cm)": 5.5,
          "v_sepal width (cm)": 2.4
         },
         {
          "class": "versicolor",
          "s_petal length (cm)": 0.5577777777777796,
          "s_petal width (cm)": 0.06111111111111067,
          "s_sepal length (cm)": 0.04777777777777731,
          "s_sepal width (cm)": 0,
          "v_petal length (cm)": 3.9,
          "v_petal width (cm)": 1.2,
          "v_sepal length (cm)": 5.8,
          "v_sepal width (cm)": 2.7
         },
         {
          "class": "versicolor",
          "s_petal length (cm)": 0.11444444444444554,
          "s_petal width (cm)": 0.554444444444445,
          "s_sepal length (cm)": -0.002222222222222868,
          "s_sepal width (cm)": 0,
          "v_petal length (cm)": 5.1,
          "v_petal width (cm)": 1.6,
          "v_sepal length (cm)": 6,
          "v_sepal width (cm)": 2.7
         },
         {
          "class": "versicolor",
          "s_petal length (cm)": 0.5577777777777796,
          "s_petal width (cm)": 0.06111111111111067,
          "s_sepal length (cm)": 0.04777777777777731,
          "s_sepal width (cm)": 0,
          "v_petal length (cm)": 4.5,
          "v_petal width (cm)": 1.5,
          "v_sepal length (cm)": 5.4,
          "v_sepal width (cm)": 3
         },
         {
          "class": "versicolor",
          "s_petal length (cm)": 0.4500000000000014,
          "s_petal width (cm)": 0.2266666666666669,
          "s_sepal length (cm)": -0.010000000000000703,
          "s_sepal width (cm)": 0,
          "v_petal length (cm)": 4.5,
          "v_petal width (cm)": 1.6,
          "v_sepal length (cm)": 6,
          "v_sepal width (cm)": 3.4
         },
         {
          "class": "versicolor",
          "s_petal length (cm)": 0.5100000000000013,
          "s_petal width (cm)": 0.16666666666666702,
          "s_sepal length (cm)": -0.01000000000000073,
          "s_sepal width (cm)": 0,
          "v_petal length (cm)": 4.7,
          "v_petal width (cm)": 1.5,
          "v_sepal length (cm)": 6.7,
          "v_sepal width (cm)": 3.1
         },
         {
          "class": "versicolor",
          "s_petal length (cm)": 0.5100000000000013,
          "s_petal width (cm)": 0.16666666666666702,
          "s_sepal length (cm)": -0.01000000000000073,
          "s_sepal width (cm)": 0,
          "v_petal length (cm)": 4.4,
          "v_petal width (cm)": 1.3,
          "v_sepal length (cm)": 6.3,
          "v_sepal width (cm)": 2.3
         },
         {
          "class": "versicolor",
          "s_petal length (cm)": 0.5577777777777796,
          "s_petal width (cm)": 0.06111111111111067,
          "s_sepal length (cm)": 0.04777777777777731,
          "s_sepal width (cm)": 0,
          "v_petal length (cm)": 4.1,
          "v_petal width (cm)": 1.3,
          "v_sepal length (cm)": 5.6,
          "v_sepal width (cm)": 3
         },
         {
          "class": "versicolor",
          "s_petal length (cm)": 0.5577777777777796,
          "s_petal width (cm)": 0.06111111111111067,
          "s_sepal length (cm)": 0.04777777777777731,
          "s_sepal width (cm)": 0,
          "v_petal length (cm)": 4,
          "v_petal width (cm)": 1.3,
          "v_sepal length (cm)": 5.5,
          "v_sepal width (cm)": 2.5
         },
         {
          "class": "versicolor",
          "s_petal length (cm)": 0.5577777777777796,
          "s_petal width (cm)": 0.06111111111111067,
          "s_sepal length (cm)": 0.04777777777777731,
          "s_sepal width (cm)": 0,
          "v_petal length (cm)": 4.4,
          "v_petal width (cm)": 1.2,
          "v_sepal length (cm)": 5.5,
          "v_sepal width (cm)": 2.6
         },
         {
          "class": "versicolor",
          "s_petal length (cm)": 0.5100000000000013,
          "s_petal width (cm)": 0.16666666666666702,
          "s_sepal length (cm)": -0.01000000000000073,
          "s_sepal width (cm)": 0,
          "v_petal length (cm)": 4.6,
          "v_petal width (cm)": 1.4,
          "v_sepal length (cm)": 6.1,
          "v_sepal width (cm)": 3
         },
         {
          "class": "versicolor",
          "s_petal length (cm)": 0.5577777777777796,
          "s_petal width (cm)": 0.06111111111111067,
          "s_sepal length (cm)": 0.04777777777777731,
          "s_sepal width (cm)": 0,
          "v_petal length (cm)": 4,
          "v_petal width (cm)": 1.2,
          "v_sepal length (cm)": 5.8,
          "v_sepal width (cm)": 2.6
         },
         {
          "class": "versicolor",
          "s_petal length (cm)": 0.5577777777777796,
          "s_petal width (cm)": 0.06111111111111067,
          "s_sepal length (cm)": 0.04777777777777731,
          "s_sepal width (cm)": 0,
          "v_petal length (cm)": 3.3,
          "v_petal width (cm)": 1,
          "v_sepal length (cm)": 5,
          "v_sepal width (cm)": 2.3
         },
         {
          "class": "versicolor",
          "s_petal length (cm)": 0.5577777777777796,
          "s_petal width (cm)": 0.06111111111111067,
          "s_sepal length (cm)": 0.04777777777777731,
          "s_sepal width (cm)": 0,
          "v_petal length (cm)": 4.2,
          "v_petal width (cm)": 1.3,
          "v_sepal length (cm)": 5.6,
          "v_sepal width (cm)": 2.7
         },
         {
          "class": "versicolor",
          "s_petal length (cm)": 0.5577777777777796,
          "s_petal width (cm)": 0.06111111111111067,
          "s_sepal length (cm)": 0.04777777777777731,
          "s_sepal width (cm)": 0,
          "v_petal length (cm)": 4.2,
          "v_petal width (cm)": 1.2,
          "v_sepal length (cm)": 5.7,
          "v_sepal width (cm)": 3
         },
         {
          "class": "versicolor",
          "s_petal length (cm)": 0.5577777777777796,
          "s_petal width (cm)": 0.06111111111111067,
          "s_sepal length (cm)": 0.04777777777777731,
          "s_sepal width (cm)": 0,
          "v_petal length (cm)": 4.2,
          "v_petal width (cm)": 1.3,
          "v_sepal length (cm)": 5.7,
          "v_sepal width (cm)": 2.9
         },
         {
          "class": "versicolor",
          "s_petal length (cm)": 0.5100000000000013,
          "s_petal width (cm)": 0.16666666666666702,
          "s_sepal length (cm)": -0.01000000000000073,
          "s_sepal width (cm)": 0,
          "v_petal length (cm)": 4.3,
          "v_petal width (cm)": 1.3,
          "v_sepal length (cm)": 6.2,
          "v_sepal width (cm)": 2.9
         },
         {
          "class": "versicolor",
          "s_petal length (cm)": 0.5577777777777796,
          "s_petal width (cm)": 0.06111111111111067,
          "s_sepal length (cm)": 0.04777777777777731,
          "s_sepal width (cm)": 0,
          "v_petal length (cm)": 3,
          "v_petal width (cm)": 1.1,
          "v_sepal length (cm)": 5.1,
          "v_sepal width (cm)": 2.5
         },
         {
          "class": "versicolor",
          "s_petal length (cm)": 0.5577777777777796,
          "s_petal width (cm)": 0.06111111111111067,
          "s_sepal length (cm)": 0.04777777777777731,
          "s_sepal width (cm)": 0,
          "v_petal length (cm)": 4.1,
          "v_petal width (cm)": 1.3,
          "v_sepal length (cm)": 5.7,
          "v_sepal width (cm)": 2.8
         },
         {
          "class": "virginica",
          "s_petal length (cm)": -0.19555555555555537,
          "s_petal width (cm)": -0.10555555555555546,
          "s_sepal length (cm)": -0.032222222222222166,
          "s_sepal width (cm)": 0,
          "v_petal length (cm)": 6,
          "v_petal width (cm)": 2.5,
          "v_sepal length (cm)": 6.3,
          "v_sepal width (cm)": 3.3
         },
         {
          "class": "virginica",
          "s_petal length (cm)": -0.2877777777777775,
          "s_petal width (cm)": -0.07444444444444437,
          "s_sepal length (cm)": 0.02888888888888891,
          "s_sepal width (cm)": 0,
          "v_petal length (cm)": 5.1,
          "v_petal width (cm)": 1.9,
          "v_sepal length (cm)": 5.8,
          "v_sepal width (cm)": 2.7
         },
         {
          "class": "virginica",
          "s_petal length (cm)": -0.19555555555555537,
          "s_petal width (cm)": -0.10555555555555546,
          "s_sepal length (cm)": -0.032222222222222166,
          "s_sepal width (cm)": 0,
          "v_petal length (cm)": 5.9,
          "v_petal width (cm)": 2.1,
          "v_sepal length (cm)": 7.1,
          "v_sepal width (cm)": 3
         },
         {
          "class": "virginica",
          "s_petal length (cm)": -0.19555555555555537,
          "s_petal width (cm)": -0.10555555555555546,
          "s_sepal length (cm)": -0.032222222222222166,
          "s_sepal width (cm)": 0,
          "v_petal length (cm)": 5.6,
          "v_petal width (cm)": 1.8,
          "v_sepal length (cm)": 6.3,
          "v_sepal width (cm)": 2.9
         },
         {
          "class": "virginica",
          "s_petal length (cm)": -0.19555555555555537,
          "s_petal width (cm)": -0.10555555555555546,
          "s_sepal length (cm)": -0.032222222222222166,
          "s_sepal width (cm)": 0,
          "v_petal length (cm)": 5.8,
          "v_petal width (cm)": 2.2,
          "v_sepal length (cm)": 6.5,
          "v_sepal width (cm)": 3
         },
         {
          "class": "virginica",
          "s_petal length (cm)": -0.19555555555555537,
          "s_petal width (cm)": -0.10555555555555546,
          "s_sepal length (cm)": -0.032222222222222166,
          "s_sepal width (cm)": 0,
          "v_petal length (cm)": 6.6,
          "v_petal width (cm)": 2.1,
          "v_sepal length (cm)": 7.6,
          "v_sepal width (cm)": 3
         },
         {
          "class": "virginica",
          "s_petal length (cm)": 0.1777777777777787,
          "s_petal width (cm)": -0.5588888888888897,
          "s_sepal length (cm)": 0.04777777777777799,
          "s_sepal width (cm)": 0,
          "v_petal length (cm)": 4.5,
          "v_petal width (cm)": 1.7,
          "v_sepal length (cm)": 4.9,
          "v_sepal width (cm)": 2.5
         },
         {
          "class": "virginica",
          "s_petal length (cm)": -0.19555555555555537,
          "s_petal width (cm)": -0.10555555555555546,
          "s_sepal length (cm)": -0.032222222222222166,
          "s_sepal width (cm)": 0,
          "v_petal length (cm)": 6.3,
          "v_petal width (cm)": 1.8,
          "v_sepal length (cm)": 7.3,
          "v_sepal width (cm)": 2.9
         },
         {
          "class": "virginica",
          "s_petal length (cm)": -0.19555555555555537,
          "s_petal width (cm)": -0.10555555555555546,
          "s_sepal length (cm)": -0.032222222222222166,
          "s_sepal width (cm)": 0,
          "v_petal length (cm)": 5.8,
          "v_petal width (cm)": 1.8,
          "v_sepal length (cm)": 6.7,
          "v_sepal width (cm)": 2.5
         },
         {
          "class": "virginica",
          "s_petal length (cm)": -0.19555555555555537,
          "s_petal width (cm)": -0.10555555555555546,
          "s_sepal length (cm)": -0.032222222222222166,
          "s_sepal width (cm)": 0,
          "v_petal length (cm)": 6.1,
          "v_petal width (cm)": 2.5,
          "v_sepal length (cm)": 7.2,
          "v_sepal width (cm)": 3.6
         },
         {
          "class": "virginica",
          "s_petal length (cm)": -0.1755555555555554,
          "s_petal width (cm)": -0.12555555555555542,
          "s_sepal length (cm)": -0.03222222222222215,
          "s_sepal width (cm)": 0,
          "v_petal length (cm)": 5.1,
          "v_petal width (cm)": 2,
          "v_sepal length (cm)": 6.5,
          "v_sepal width (cm)": 3.2
         },
         {
          "class": "virginica",
          "s_petal length (cm)": -0.1755555555555554,
          "s_petal width (cm)": -0.12555555555555542,
          "s_sepal length (cm)": -0.03222222222222215,
          "s_sepal width (cm)": 0,
          "v_petal length (cm)": 5.3,
          "v_petal width (cm)": 1.9,
          "v_sepal length (cm)": 6.4,
          "v_sepal width (cm)": 2.7
         },
         {
          "class": "virginica",
          "s_petal length (cm)": -0.19555555555555537,
          "s_petal width (cm)": -0.10555555555555546,
          "s_sepal length (cm)": -0.032222222222222166,
          "s_sepal width (cm)": 0,
          "v_petal length (cm)": 5.5,
          "v_petal width (cm)": 2.1,
          "v_sepal length (cm)": 6.8,
          "v_sepal width (cm)": 3
         },
         {
          "class": "virginica",
          "s_petal length (cm)": -0.2877777777777775,
          "s_petal width (cm)": -0.07444444444444437,
          "s_sepal length (cm)": 0.02888888888888891,
          "s_sepal width (cm)": 0,
          "v_petal length (cm)": 5,
          "v_petal width (cm)": 2,
          "v_sepal length (cm)": 5.7,
          "v_sepal width (cm)": 2.5
         },
         {
          "class": "virginica",
          "s_petal length (cm)": -0.2877777777777775,
          "s_petal width (cm)": -0.07444444444444437,
          "s_sepal length (cm)": 0.02888888888888891,
          "s_sepal width (cm)": 0,
          "v_petal length (cm)": 5.1,
          "v_petal width (cm)": 2.4,
          "v_sepal length (cm)": 5.8,
          "v_sepal width (cm)": 2.8
         },
         {
          "class": "virginica",
          "s_petal length (cm)": -0.1755555555555554,
          "s_petal width (cm)": -0.12555555555555542,
          "s_sepal length (cm)": -0.03222222222222215,
          "s_sepal width (cm)": 0,
          "v_petal length (cm)": 5.3,
          "v_petal width (cm)": 2.3,
          "v_sepal length (cm)": 6.4,
          "v_sepal width (cm)": 3.2
         },
         {
          "class": "virginica",
          "s_petal length (cm)": -0.19555555555555537,
          "s_petal width (cm)": -0.10555555555555546,
          "s_sepal length (cm)": -0.032222222222222166,
          "s_sepal width (cm)": 0,
          "v_petal length (cm)": 5.5,
          "v_petal width (cm)": 1.8,
          "v_sepal length (cm)": 6.5,
          "v_sepal width (cm)": 3
         },
         {
          "class": "virginica",
          "s_petal length (cm)": -0.19555555555555537,
          "s_petal width (cm)": -0.10555555555555546,
          "s_sepal length (cm)": -0.032222222222222166,
          "s_sepal width (cm)": 0,
          "v_petal length (cm)": 6.7,
          "v_petal width (cm)": 2.2,
          "v_sepal length (cm)": 7.7,
          "v_sepal width (cm)": 3.8
         },
         {
          "class": "virginica",
          "s_petal length (cm)": -0.19555555555555537,
          "s_petal width (cm)": -0.10555555555555546,
          "s_sepal length (cm)": -0.032222222222222166,
          "s_sepal width (cm)": 0,
          "v_petal length (cm)": 6.9,
          "v_petal width (cm)": 2.3,
          "v_sepal length (cm)": 7.7,
          "v_sepal width (cm)": 2.6
         },
         {
          "class": "virginica",
          "s_petal length (cm)": -0.3255555555555552,
          "s_petal width (cm)": -0.005555555555555647,
          "s_sepal length (cm)": -0.0022222222222221533,
          "s_sepal width (cm)": 0,
          "v_petal length (cm)": 5,
          "v_petal width (cm)": 1.5,
          "v_sepal length (cm)": 6,
          "v_sepal width (cm)": 2.2
         },
         {
          "class": "virginica",
          "s_petal length (cm)": -0.19555555555555537,
          "s_petal width (cm)": -0.10555555555555546,
          "s_sepal length (cm)": -0.032222222222222166,
          "s_sepal width (cm)": 0,
          "v_petal length (cm)": 5.7,
          "v_petal width (cm)": 2.3,
          "v_sepal length (cm)": 6.9,
          "v_sepal width (cm)": 3.2
         },
         {
          "class": "virginica",
          "s_petal length (cm)": 0.03222222222222279,
          "s_petal width (cm)": -0.3944444444444446,
          "s_sepal length (cm)": 0.02888888888888883,
          "s_sepal width (cm)": 0,
          "v_petal length (cm)": 4.9,
          "v_petal width (cm)": 2,
          "v_sepal length (cm)": 5.6,
          "v_sepal width (cm)": 2.8
         },
         {
          "class": "virginica",
          "s_petal length (cm)": -0.19555555555555537,
          "s_petal width (cm)": -0.10555555555555546,
          "s_sepal length (cm)": -0.032222222222222166,
          "s_sepal width (cm)": 0,
          "v_petal length (cm)": 6.7,
          "v_petal width (cm)": 2,
          "v_sepal length (cm)": 7.7,
          "v_sepal width (cm)": 2.8
         },
         {
          "class": "virginica",
          "s_petal length (cm)": 0.1444444444444449,
          "s_petal width (cm)": -0.44555555555555565,
          "s_sepal length (cm)": -0.03222222222222222,
          "s_sepal width (cm)": 0,
          "v_petal length (cm)": 4.9,
          "v_petal width (cm)": 1.8,
          "v_sepal length (cm)": 6.3,
          "v_sepal width (cm)": 2.7
         },
         {
          "class": "virginica",
          "s_petal length (cm)": -0.19555555555555537,
          "s_petal width (cm)": -0.10555555555555546,
          "s_sepal length (cm)": -0.032222222222222166,
          "s_sepal width (cm)": 0,
          "v_petal length (cm)": 5.7,
          "v_petal width (cm)": 2.1,
          "v_sepal length (cm)": 6.7,
          "v_sepal width (cm)": 3.3
         },
         {
          "class": "virginica",
          "s_petal length (cm)": -0.19555555555555537,
          "s_petal width (cm)": -0.10555555555555546,
          "s_sepal length (cm)": -0.032222222222222166,
          "s_sepal width (cm)": 0,
          "v_petal length (cm)": 6,
          "v_petal width (cm)": 1.8,
          "v_sepal length (cm)": 7.2,
          "v_sepal width (cm)": 3.2
         },
         {
          "class": "virginica",
          "s_petal length (cm)": 0.2522222222222227,
          "s_petal width (cm)": -0.3611111111111113,
          "s_sepal length (cm)": -0.22444444444444434,
          "s_sepal width (cm)": 0,
          "v_petal length (cm)": 4.8,
          "v_petal width (cm)": 1.8,
          "v_sepal length (cm)": 6.2,
          "v_sepal width (cm)": 2.8
         },
         {
          "class": "virginica",
          "s_petal length (cm)": 0.1444444444444449,
          "s_petal width (cm)": -0.44555555555555565,
          "s_sepal length (cm)": -0.03222222222222222,
          "s_sepal width (cm)": 0,
          "v_petal length (cm)": 4.9,
          "v_petal width (cm)": 1.8,
          "v_sepal length (cm)": 6.1,
          "v_sepal width (cm)": 3
         },
         {
          "class": "virginica",
          "s_petal length (cm)": -0.19555555555555537,
          "s_petal width (cm)": -0.10555555555555546,
          "s_sepal length (cm)": -0.032222222222222166,
          "s_sepal width (cm)": 0,
          "v_petal length (cm)": 5.6,
          "v_petal width (cm)": 2.1,
          "v_sepal length (cm)": 6.4,
          "v_sepal width (cm)": 2.8
         },
         {
          "class": "virginica",
          "s_petal length (cm)": -0.4055555555555551,
          "s_petal width (cm)": 0.07444444444444426,
          "s_sepal length (cm)": -0.0022222222222221533,
          "s_sepal width (cm)": 0,
          "v_petal length (cm)": 5.8,
          "v_petal width (cm)": 1.6,
          "v_sepal length (cm)": 7.2,
          "v_sepal width (cm)": 3
         },
         {
          "class": "virginica",
          "s_petal length (cm)": -0.19555555555555537,
          "s_petal width (cm)": -0.10555555555555546,
          "s_sepal length (cm)": -0.032222222222222166,
          "s_sepal width (cm)": 0,
          "v_petal length (cm)": 6.1,
          "v_petal width (cm)": 1.9,
          "v_sepal length (cm)": 7.4,
          "v_sepal width (cm)": 2.8
         },
         {
          "class": "virginica",
          "s_petal length (cm)": -0.19555555555555537,
          "s_petal width (cm)": -0.10555555555555546,
          "s_sepal length (cm)": -0.032222222222222166,
          "s_sepal width (cm)": 0,
          "v_petal length (cm)": 6.4,
          "v_petal width (cm)": 2,
          "v_sepal length (cm)": 7.9,
          "v_sepal width (cm)": 3.8
         },
         {
          "class": "virginica",
          "s_petal length (cm)": -0.19555555555555537,
          "s_petal width (cm)": -0.10555555555555546,
          "s_sepal length (cm)": -0.032222222222222166,
          "s_sepal width (cm)": 0,
          "v_petal length (cm)": 5.6,
          "v_petal width (cm)": 2.2,
          "v_sepal length (cm)": 6.4,
          "v_sepal width (cm)": 2.8
         },
         {
          "class": "virginica",
          "s_petal length (cm)": -0.3255555555555552,
          "s_petal width (cm)": -0.005555555555555647,
          "s_sepal length (cm)": -0.0022222222222221533,
          "s_sepal width (cm)": 0,
          "v_petal length (cm)": 5.1,
          "v_petal width (cm)": 1.5,
          "v_sepal length (cm)": 6.3,
          "v_sepal width (cm)": 2.8
         },
         {
          "class": "virginica",
          "s_petal length (cm)": -0.34555555555555517,
          "s_petal width (cm)": 0.014444444444444371,
          "s_sepal length (cm)": -0.0022222222222222365,
          "s_sepal width (cm)": 0,
          "v_petal length (cm)": 5.6,
          "v_petal width (cm)": 1.4,
          "v_sepal length (cm)": 6.1,
          "v_sepal width (cm)": 2.6
         },
         {
          "class": "virginica",
          "s_petal length (cm)": -0.19555555555555537,
          "s_petal width (cm)": -0.10555555555555546,
          "s_sepal length (cm)": -0.032222222222222166,
          "s_sepal width (cm)": 0,
          "v_petal length (cm)": 6.1,
          "v_petal width (cm)": 2.3,
          "v_sepal length (cm)": 7.7,
          "v_sepal width (cm)": 3
         },
         {
          "class": "virginica",
          "s_petal length (cm)": -0.19555555555555537,
          "s_petal width (cm)": -0.10555555555555546,
          "s_sepal length (cm)": -0.032222222222222166,
          "s_sepal width (cm)": 0,
          "v_petal length (cm)": 5.6,
          "v_petal width (cm)": 2.4,
          "v_sepal length (cm)": 6.3,
          "v_sepal width (cm)": 3.4
         },
         {
          "class": "virginica",
          "s_petal length (cm)": -0.19555555555555537,
          "s_petal width (cm)": -0.10555555555555546,
          "s_sepal length (cm)": -0.032222222222222166,
          "s_sepal width (cm)": 0,
          "v_petal length (cm)": 5.5,
          "v_petal width (cm)": 1.8,
          "v_sepal length (cm)": 6.4,
          "v_sepal width (cm)": 3.1
         },
         {
          "class": "virginica",
          "s_petal length (cm)": 0.2522222222222227,
          "s_petal width (cm)": -0.3611111111111113,
          "s_sepal length (cm)": -0.22444444444444434,
          "s_sepal width (cm)": 0,
          "v_petal length (cm)": 4.8,
          "v_petal width (cm)": 1.8,
          "v_sepal length (cm)": 6,
          "v_sepal width (cm)": 3
         },
         {
          "class": "virginica",
          "s_petal length (cm)": -0.1755555555555554,
          "s_petal width (cm)": -0.12555555555555542,
          "s_sepal length (cm)": -0.03222222222222215,
          "s_sepal width (cm)": 0,
          "v_petal length (cm)": 5.4,
          "v_petal width (cm)": 2.1,
          "v_sepal length (cm)": 6.9,
          "v_sepal width (cm)": 3.1
         },
         {
          "class": "virginica",
          "s_petal length (cm)": -0.19555555555555537,
          "s_petal width (cm)": -0.10555555555555546,
          "s_sepal length (cm)": -0.032222222222222166,
          "s_sepal width (cm)": 0,
          "v_petal length (cm)": 5.6,
          "v_petal width (cm)": 2.4,
          "v_sepal length (cm)": 6.7,
          "v_sepal width (cm)": 3.1
         },
         {
          "class": "virginica",
          "s_petal length (cm)": -0.1755555555555554,
          "s_petal width (cm)": -0.12555555555555542,
          "s_sepal length (cm)": -0.03222222222222215,
          "s_sepal width (cm)": 0,
          "v_petal length (cm)": 5.1,
          "v_petal width (cm)": 2.3,
          "v_sepal length (cm)": 6.9,
          "v_sepal width (cm)": 3.1
         },
         {
          "class": "virginica",
          "s_petal length (cm)": -0.2877777777777775,
          "s_petal width (cm)": -0.07444444444444437,
          "s_sepal length (cm)": 0.02888888888888891,
          "s_sepal width (cm)": 0,
          "v_petal length (cm)": 5.1,
          "v_petal width (cm)": 1.9,
          "v_sepal length (cm)": 5.8,
          "v_sepal width (cm)": 2.7
         },
         {
          "class": "virginica",
          "s_petal length (cm)": -0.19555555555555537,
          "s_petal width (cm)": -0.10555555555555546,
          "s_sepal length (cm)": -0.032222222222222166,
          "s_sepal width (cm)": 0,
          "v_petal length (cm)": 5.9,
          "v_petal width (cm)": 2.3,
          "v_sepal length (cm)": 6.8,
          "v_sepal width (cm)": 3.2
         },
         {
          "class": "virginica",
          "s_petal length (cm)": -0.19555555555555537,
          "s_petal width (cm)": -0.10555555555555546,
          "s_sepal length (cm)": -0.032222222222222166,
          "s_sepal width (cm)": 0,
          "v_petal length (cm)": 5.7,
          "v_petal width (cm)": 2.5,
          "v_sepal length (cm)": 6.7,
          "v_sepal width (cm)": 3.3
         },
         {
          "class": "virginica",
          "s_petal length (cm)": -0.1755555555555554,
          "s_petal width (cm)": -0.12555555555555542,
          "s_sepal length (cm)": -0.03222222222222215,
          "s_sepal width (cm)": 0,
          "v_petal length (cm)": 5.2,
          "v_petal width (cm)": 2.3,
          "v_sepal length (cm)": 6.7,
          "v_sepal width (cm)": 3
         },
         {
          "class": "virginica",
          "s_petal length (cm)": -0.1755555555555554,
          "s_petal width (cm)": -0.12555555555555542,
          "s_sepal length (cm)": -0.03222222222222215,
          "s_sepal width (cm)": 0,
          "v_petal length (cm)": 5,
          "v_petal width (cm)": 1.9,
          "v_sepal length (cm)": 6.3,
          "v_sepal width (cm)": 2.5
         },
         {
          "class": "virginica",
          "s_petal length (cm)": -0.1755555555555554,
          "s_petal width (cm)": -0.12555555555555542,
          "s_sepal length (cm)": -0.03222222222222215,
          "s_sepal width (cm)": 0,
          "v_petal length (cm)": 5.2,
          "v_petal width (cm)": 2,
          "v_sepal length (cm)": 6.5,
          "v_sepal width (cm)": 3
         },
         {
          "class": "virginica",
          "s_petal length (cm)": -0.1755555555555554,
          "s_petal width (cm)": -0.12555555555555542,
          "s_sepal length (cm)": -0.03222222222222215,
          "s_sepal width (cm)": 0,
          "v_petal length (cm)": 5.4,
          "v_petal width (cm)": 2.3,
          "v_sepal length (cm)": 6.2,
          "v_sepal width (cm)": 3.4
         },
         {
          "class": "virginica",
          "s_petal length (cm)": -0.2877777777777775,
          "s_petal width (cm)": -0.07444444444444437,
          "s_sepal length (cm)": 0.02888888888888891,
          "s_sepal width (cm)": 0,
          "v_petal length (cm)": 5.1,
          "v_petal width (cm)": 1.8,
          "v_sepal length (cm)": 5.9,
          "v_sepal width (cm)": 3
         }
        ]
       },
       "encoding": {
        "color": {
         "field": "class",
         "type": "nominal"
        },
        "x": {
         "field": "v_petal length (cm)",
         "type": "quantitative"
        },
        "y": {
         "field": "s_petal length (cm)",
         "type": "quantitative"
        }
       },
       "mark": {
        "size": 60,
        "type": "circle"
       },
       "selection": {
        "selector002": {
         "bind": "scales",
         "encodings": [
          "x",
          "y"
         ],
         "type": "interval"
        }
       }
      },
      "image/png": "[encoded data removed]",
      "text/plain": [
       "<VegaLite 3 object>\n",
       "\n",
       "If you see this message, it means the renderer has not been properly enabled\n",
       "for the frontend that you are using. For more information, see\n",
       "https://altair-viz.github.io/user_guide/troubleshooting.html\n"
      ]
     },
     "execution_count": 23,
     "metadata": {},
     "output_type": "execute_result"
    }
   ],
   "source": [
    "alt.Chart(b_x3).mark_circle(size=60).encode(\n",
    "    x='v_petal length (cm)',\n",
    "    y='s_petal length (cm)',\n",
    "        color='class'\n",
    ").interactive()"
   ]
  },
  {
   "cell_type": "markdown",
   "metadata": {},
   "source": [
    "## Example of two predictions.\n"
   ]
  },
  {
   "cell_type": "code",
   "execution_count": 24,
   "metadata": {},
   "outputs": [],
   "source": [
    "examples = [4,50]"
   ]
  },
  {
   "cell_type": "code",
   "execution_count": 25,
   "metadata": {},
   "outputs": [
    {
     "data": {
      "text/html": [
       "<div>\n",
       "<style scoped>\n",
       "    .dataframe tbody tr th:only-of-type {\n",
       "        vertical-align: middle;\n",
       "    }\n",
       "\n",
       "    .dataframe tbody tr th {\n",
       "        vertical-align: top;\n",
       "    }\n",
       "\n",
       "    .dataframe thead th {\n",
       "        text-align: right;\n",
       "    }\n",
       "</style>\n",
       "<table border=\"1\" class=\"dataframe\">\n",
       "  <thead>\n",
       "    <tr style=\"text-align: right;\">\n",
       "      <th></th>\n",
       "      <th>sepal length (cm)</th>\n",
       "      <th>sepal width (cm)</th>\n",
       "      <th>petal length (cm)</th>\n",
       "      <th>petal width (cm)</th>\n",
       "      <th>class</th>\n",
       "    </tr>\n",
       "  </thead>\n",
       "  <tbody>\n",
       "    <tr>\n",
       "      <th>4</th>\n",
       "      <td>5.0</td>\n",
       "      <td>3.6</td>\n",
       "      <td>1.4</td>\n",
       "      <td>0.2</td>\n",
       "      <td>setosa</td>\n",
       "    </tr>\n",
       "    <tr>\n",
       "      <th>50</th>\n",
       "      <td>7.0</td>\n",
       "      <td>3.2</td>\n",
       "      <td>4.7</td>\n",
       "      <td>1.4</td>\n",
       "      <td>versicolor</td>\n",
       "    </tr>\n",
       "  </tbody>\n",
       "</table>\n",
       "</div>"
      ],
      "text/plain": [
       "    sepal length (cm)  sepal width (cm)  petal length (cm)  petal width (cm)  \\\n",
       "4                 5.0               3.6                1.4               0.2   \n",
       "50                7.0               3.2                4.7               1.4   \n",
       "\n",
       "         class  \n",
       "4       setosa  \n",
       "50  versicolor  "
      ]
     },
     "execution_count": 25,
     "metadata": {},
     "output_type": "execute_result"
    }
   ],
   "source": [
    "b.loc[examples]"
   ]
  },
  {
   "cell_type": "code",
   "execution_count": 26,
   "metadata": {},
   "outputs": [
    {
     "data": {
      "text/html": [
       "<div>\n",
       "<style scoped>\n",
       "    .dataframe tbody tr th:only-of-type {\n",
       "        vertical-align: middle;\n",
       "    }\n",
       "\n",
       "    .dataframe tbody tr th {\n",
       "        vertical-align: top;\n",
       "    }\n",
       "\n",
       "    .dataframe thead th {\n",
       "        text-align: right;\n",
       "    }\n",
       "</style>\n",
       "<table border=\"1\" class=\"dataframe\">\n",
       "  <thead>\n",
       "    <tr style=\"text-align: right;\">\n",
       "      <th></th>\n",
       "      <th>sepal length (cm)</th>\n",
       "      <th>sepal width (cm)</th>\n",
       "      <th>petal length (cm)</th>\n",
       "      <th>petal width (cm)</th>\n",
       "    </tr>\n",
       "  </thead>\n",
       "  <tbody>\n",
       "    <tr>\n",
       "      <th>4</th>\n",
       "      <td>5.0</td>\n",
       "      <td>3.6</td>\n",
       "      <td>1.4</td>\n",
       "      <td>0.2</td>\n",
       "    </tr>\n",
       "    <tr>\n",
       "      <th>50</th>\n",
       "      <td>7.0</td>\n",
       "      <td>3.2</td>\n",
       "      <td>4.7</td>\n",
       "      <td>1.4</td>\n",
       "    </tr>\n",
       "  </tbody>\n",
       "</table>\n",
       "</div>"
      ],
      "text/plain": [
       "    sepal length (cm)  sepal width (cm)  petal length (cm)  petal width (cm)\n",
       "4                 5.0               3.6                1.4               0.2\n",
       "50                7.0               3.2                4.7               1.4"
      ]
     },
     "execution_count": 26,
     "metadata": {},
     "output_type": "execute_result"
    }
   ],
   "source": [
    "b_x.loc[examples]"
   ]
  },
  {
   "cell_type": "code",
   "execution_count": 27,
   "metadata": {},
   "outputs": [
    {
     "data": {
      "text/html": [
       "<div>\n",
       "<style scoped>\n",
       "    .dataframe tbody tr th:only-of-type {\n",
       "        vertical-align: middle;\n",
       "    }\n",
       "\n",
       "    .dataframe tbody tr th {\n",
       "        vertical-align: top;\n",
       "    }\n",
       "\n",
       "    .dataframe thead th {\n",
       "        text-align: right;\n",
       "    }\n",
       "</style>\n",
       "<table border=\"1\" class=\"dataframe\">\n",
       "  <thead>\n",
       "    <tr style=\"text-align: right;\">\n",
       "      <th></th>\n",
       "      <th>sepal length (cm)</th>\n",
       "      <th>sepal width (cm)</th>\n",
       "      <th>petal length (cm)</th>\n",
       "      <th>petal width (cm)</th>\n",
       "    </tr>\n",
       "  </thead>\n",
       "  <tbody>\n",
       "    <tr>\n",
       "      <th>4</th>\n",
       "      <td>0.0</td>\n",
       "      <td>0.0</td>\n",
       "      <td>0.666667</td>\n",
       "      <td>0.0</td>\n",
       "    </tr>\n",
       "    <tr>\n",
       "      <th>50</th>\n",
       "      <td>0.0</td>\n",
       "      <td>0.0</td>\n",
       "      <td>-0.333333</td>\n",
       "      <td>0.0</td>\n",
       "    </tr>\n",
       "  </tbody>\n",
       "</table>\n",
       "</div>"
      ],
      "text/plain": [
       "    sepal length (cm)  sepal width (cm)  petal length (cm)  petal width (cm)\n",
       "4                 0.0               0.0           0.666667               0.0\n",
       "50                0.0               0.0          -0.333333               0.0"
      ]
     },
     "execution_count": 27,
     "metadata": {},
     "output_type": "execute_result"
    }
   ],
   "source": [
    "shaps[0].loc[examples]"
   ]
  },
  {
   "cell_type": "code",
   "execution_count": 28,
   "metadata": {},
   "outputs": [
    {
     "data": {
      "text/html": [
       "<div>\n",
       "<style scoped>\n",
       "    .dataframe tbody tr th:only-of-type {\n",
       "        vertical-align: middle;\n",
       "    }\n",
       "\n",
       "    .dataframe tbody tr th {\n",
       "        vertical-align: top;\n",
       "    }\n",
       "\n",
       "    .dataframe thead th {\n",
       "        text-align: right;\n",
       "    }\n",
       "</style>\n",
       "<table border=\"1\" class=\"dataframe\">\n",
       "  <thead>\n",
       "    <tr style=\"text-align: right;\">\n",
       "      <th></th>\n",
       "      <th>sepal length (cm)</th>\n",
       "      <th>sepal width (cm)</th>\n",
       "      <th>petal length (cm)</th>\n",
       "      <th>petal width (cm)</th>\n",
       "    </tr>\n",
       "  </thead>\n",
       "  <tbody>\n",
       "    <tr>\n",
       "      <th>4</th>\n",
       "      <td>0.004444</td>\n",
       "      <td>0.0</td>\n",
       "      <td>-0.348889</td>\n",
       "      <td>0.011111</td>\n",
       "    </tr>\n",
       "    <tr>\n",
       "      <th>50</th>\n",
       "      <td>-0.010000</td>\n",
       "      <td>0.0</td>\n",
       "      <td>0.510000</td>\n",
       "      <td>0.166667</td>\n",
       "    </tr>\n",
       "  </tbody>\n",
       "</table>\n",
       "</div>"
      ],
      "text/plain": [
       "    sepal length (cm)  sepal width (cm)  petal length (cm)  petal width (cm)\n",
       "4            0.004444               0.0          -0.348889          0.011111\n",
       "50          -0.010000               0.0           0.510000          0.166667"
      ]
     },
     "execution_count": 28,
     "metadata": {},
     "output_type": "execute_result"
    }
   ],
   "source": [
    "shaps[1].loc[examples]"
   ]
  },
  {
   "cell_type": "code",
   "execution_count": 29,
   "metadata": {},
   "outputs": [
    {
     "data": {
      "text/plain": [
       "array([0.33333333, 0.33333333, 0.33333333])"
      ]
     },
     "execution_count": 29,
     "metadata": {},
     "output_type": "execute_result"
    }
   ],
   "source": [
    "explainer.expected_value"
   ]
  },
  {
   "cell_type": "code",
   "execution_count": 30,
   "metadata": {},
   "outputs": [
    {
     "data": {
      "text/plain": [
       "array([0, 1])"
      ]
     },
     "execution_count": 30,
     "metadata": {},
     "output_type": "execute_result"
    }
   ],
   "source": [
    "dec.predict(b_x.loc[examples])"
   ]
  },
  {
   "cell_type": "code",
   "execution_count": 31,
   "metadata": {},
   "outputs": [
    {
     "data": {
      "text/html": [
       "<div>\n",
       "<style scoped>\n",
       "    .dataframe tbody tr th:only-of-type {\n",
       "        vertical-align: middle;\n",
       "    }\n",
       "\n",
       "    .dataframe tbody tr th {\n",
       "        vertical-align: top;\n",
       "    }\n",
       "\n",
       "    .dataframe thead th {\n",
       "        text-align: right;\n",
       "    }\n",
       "</style>\n",
       "<table border=\"1\" class=\"dataframe\">\n",
       "  <thead>\n",
       "    <tr style=\"text-align: right;\">\n",
       "      <th></th>\n",
       "      <th>0</th>\n",
       "      <th>1</th>\n",
       "      <th>2</th>\n",
       "      <th>3</th>\n",
       "    </tr>\n",
       "  </thead>\n",
       "  <tbody>\n",
       "    <tr>\n",
       "      <th>0</th>\n",
       "      <td>0.000000</td>\n",
       "      <td>0.0</td>\n",
       "      <td>0.666667</td>\n",
       "      <td>0.000000</td>\n",
       "    </tr>\n",
       "    <tr>\n",
       "      <th>1</th>\n",
       "      <td>0.004444</td>\n",
       "      <td>0.0</td>\n",
       "      <td>-0.348889</td>\n",
       "      <td>0.011111</td>\n",
       "    </tr>\n",
       "    <tr>\n",
       "      <th>2</th>\n",
       "      <td>-0.004444</td>\n",
       "      <td>0.0</td>\n",
       "      <td>-0.317778</td>\n",
       "      <td>-0.011111</td>\n",
       "    </tr>\n",
       "  </tbody>\n",
       "</table>\n",
       "</div>"
      ],
      "text/plain": [
       "          0    1         2         3\n",
       "0  0.000000  0.0  0.666667  0.000000\n",
       "1  0.004444  0.0 -0.348889  0.011111\n",
       "2 -0.004444  0.0 -0.317778 -0.011111"
      ]
     },
     "execution_count": 31,
     "metadata": {},
     "output_type": "execute_result"
    }
   ],
   "source": [
    "explanations = explainer.explain(b_x.loc[examples].values).T\n",
    "s = explanations[0].shape\n",
    "pd.DataFrame(explanations)"
   ]
  },
  {
   "cell_type": "code",
   "execution_count": 32,
   "metadata": {},
   "outputs": [
    {
     "data": {
      "text/html": [
       "[4, 50]"
      ],
      "text/plain": [
       "[4, 50]"
      ]
     },
     "execution_count": 32,
     "metadata": {},
     "output_type": "execute_result"
    }
   ],
   "source": [
    "examples"
   ]
  },
  {
   "cell_type": "code",
   "execution_count": 33,
   "metadata": {},
   "outputs": [
    {
     "data": {
      "text/plain": [
       "array([[ 0.        ,  0.        ,  0.66666667,  0.        ],\n",
       "       [ 0.00444444,  0.        , -0.34888889,  0.01111111],\n",
       "       [-0.00444444,  0.        , -0.31777778, -0.01111111]])"
      ]
     },
     "execution_count": 33,
     "metadata": {},
     "output_type": "execute_result"
    }
   ],
   "source": [
    "explanations"
   ]
  },
  {
   "cell_type": "markdown",
   "metadata": {},
   "source": [
    "# Let's make some SHAP values by hand. "
   ]
  },
  {
   "cell_type": "code",
   "execution_count": 34,
   "metadata": {},
   "outputs": [],
   "source": [
    "data = b_x.loc[0:1, :]"
   ]
  },
  {
   "cell_type": "code",
   "execution_count": 35,
   "metadata": {},
   "outputs": [
    {
     "data": {
      "text/html": [
       "<div>\n",
       "<style scoped>\n",
       "    .dataframe tbody tr th:only-of-type {\n",
       "        vertical-align: middle;\n",
       "    }\n",
       "\n",
       "    .dataframe tbody tr th {\n",
       "        vertical-align: top;\n",
       "    }\n",
       "\n",
       "    .dataframe thead th {\n",
       "        text-align: right;\n",
       "    }\n",
       "</style>\n",
       "<table border=\"1\" class=\"dataframe\">\n",
       "  <thead>\n",
       "    <tr style=\"text-align: right;\">\n",
       "      <th></th>\n",
       "      <th>sepal length (cm)</th>\n",
       "      <th>sepal width (cm)</th>\n",
       "      <th>petal length (cm)</th>\n",
       "      <th>petal width (cm)</th>\n",
       "    </tr>\n",
       "  </thead>\n",
       "  <tbody>\n",
       "    <tr>\n",
       "      <th>0</th>\n",
       "      <td>5.1</td>\n",
       "      <td>3.5</td>\n",
       "      <td>1.4</td>\n",
       "      <td>0.2</td>\n",
       "    </tr>\n",
       "    <tr>\n",
       "      <th>1</th>\n",
       "      <td>4.9</td>\n",
       "      <td>3.0</td>\n",
       "      <td>1.4</td>\n",
       "      <td>0.2</td>\n",
       "    </tr>\n",
       "  </tbody>\n",
       "</table>\n",
       "</div>"
      ],
      "text/plain": [
       "   sepal length (cm)  sepal width (cm)  petal length (cm)  petal width (cm)\n",
       "0                5.1               3.5                1.4               0.2\n",
       "1                4.9               3.0                1.4               0.2"
      ]
     },
     "execution_count": 35,
     "metadata": {},
     "output_type": "execute_result"
    }
   ],
   "source": [
    "data"
   ]
  },
  {
   "cell_type": "markdown",
   "metadata": {},
   "source": [
    "The First step is to work out the amount over / under the mean for each value in the dataset. "
   ]
  },
  {
   "cell_type": "code",
   "execution_count": 36,
   "metadata": {},
   "outputs": [
    {
     "data": {
      "text/html": [
       "<div>\n",
       "<style scoped>\n",
       "    .dataframe tbody tr th:only-of-type {\n",
       "        vertical-align: middle;\n",
       "    }\n",
       "\n",
       "    .dataframe tbody tr th {\n",
       "        vertical-align: top;\n",
       "    }\n",
       "\n",
       "    .dataframe thead th {\n",
       "        text-align: right;\n",
       "    }\n",
       "</style>\n",
       "<table border=\"1\" class=\"dataframe\">\n",
       "  <thead>\n",
       "    <tr style=\"text-align: right;\">\n",
       "      <th></th>\n",
       "      <th>sepal length (cm)</th>\n",
       "      <th>sepal width (cm)</th>\n",
       "      <th>petal length (cm)</th>\n",
       "      <th>petal width (cm)</th>\n",
       "      <th>class</th>\n",
       "    </tr>\n",
       "  </thead>\n",
       "  <tbody>\n",
       "    <tr>\n",
       "      <th>0</th>\n",
       "      <td>5.1</td>\n",
       "      <td>3.5</td>\n",
       "      <td>1.4</td>\n",
       "      <td>0.2</td>\n",
       "      <td>1</td>\n",
       "    </tr>\n",
       "    <tr>\n",
       "      <th>1</th>\n",
       "      <td>4.9</td>\n",
       "      <td>3.0</td>\n",
       "      <td>1.4</td>\n",
       "      <td>0.2</td>\n",
       "      <td>1</td>\n",
       "    </tr>\n",
       "    <tr>\n",
       "      <th>2</th>\n",
       "      <td>4.7</td>\n",
       "      <td>3.2</td>\n",
       "      <td>1.3</td>\n",
       "      <td>0.2</td>\n",
       "      <td>1</td>\n",
       "    </tr>\n",
       "    <tr>\n",
       "      <th>3</th>\n",
       "      <td>4.6</td>\n",
       "      <td>3.1</td>\n",
       "      <td>1.5</td>\n",
       "      <td>0.2</td>\n",
       "      <td>1</td>\n",
       "    </tr>\n",
       "    <tr>\n",
       "      <th>4</th>\n",
       "      <td>5.0</td>\n",
       "      <td>3.6</td>\n",
       "      <td>1.4</td>\n",
       "      <td>0.2</td>\n",
       "      <td>1</td>\n",
       "    </tr>\n",
       "  </tbody>\n",
       "</table>\n",
       "</div>"
      ],
      "text/plain": [
       "   sepal length (cm)  sepal width (cm)  petal length (cm)  petal width (cm)  \\\n",
       "0                5.1               3.5                1.4               0.2   \n",
       "1                4.9               3.0                1.4               0.2   \n",
       "2                4.7               3.2                1.3               0.2   \n",
       "3                4.6               3.1                1.5               0.2   \n",
       "4                5.0               3.6                1.4               0.2   \n",
       "\n",
       "   class  \n",
       "0      1  \n",
       "1      1  \n",
       "2      1  \n",
       "3      1  \n",
       "4      1  "
      ]
     },
     "execution_count": 36,
     "metadata": {},
     "output_type": "execute_result"
    }
   ],
   "source": [
    "b_x1.head()"
   ]
  },
  {
   "cell_type": "code",
   "execution_count": 37,
   "metadata": {},
   "outputs": [],
   "source": [
    "x = b_x1[iris['feature_names']]\n",
    "y = b_x1['class']"
   ]
  },
  {
   "cell_type": "markdown",
   "metadata": {},
   "source": [
    "[Estimated coefficients](https://scikit-learn.org/stable/modules/generated/sklearn.linear_model.LinearRegression.html)\n",
    "for the linear regression problem."
   ]
  },
  {
   "cell_type": "code",
   "execution_count": 38,
   "metadata": {},
   "outputs": [
    {
     "data": {
      "text/html": [
       "<div>\n",
       "<style scoped>\n",
       "    .dataframe tbody tr th:only-of-type {\n",
       "        vertical-align: middle;\n",
       "    }\n",
       "\n",
       "    .dataframe tbody tr th {\n",
       "        vertical-align: top;\n",
       "    }\n",
       "\n",
       "    .dataframe thead th {\n",
       "        text-align: right;\n",
       "    }\n",
       "</style>\n",
       "<table border=\"1\" class=\"dataframe\">\n",
       "  <thead>\n",
       "    <tr style=\"text-align: right;\">\n",
       "      <th></th>\n",
       "      <th>sepal length (cm)</th>\n",
       "      <th>sepal width (cm)</th>\n",
       "      <th>petal length (cm)</th>\n",
       "      <th>petal width (cm)</th>\n",
       "    </tr>\n",
       "    <tr>\n",
       "      <th>class</th>\n",
       "      <th></th>\n",
       "      <th></th>\n",
       "      <th></th>\n",
       "      <th></th>\n",
       "    </tr>\n",
       "  </thead>\n",
       "  <tbody>\n",
       "    <tr>\n",
       "      <th>0</th>\n",
       "      <td>6.262</td>\n",
       "      <td>2.872</td>\n",
       "      <td>4.906</td>\n",
       "      <td>1.676</td>\n",
       "    </tr>\n",
       "    <tr>\n",
       "      <th>1</th>\n",
       "      <td>5.006</td>\n",
       "      <td>3.428</td>\n",
       "      <td>1.462</td>\n",
       "      <td>0.246</td>\n",
       "    </tr>\n",
       "  </tbody>\n",
       "</table>\n",
       "</div>"
      ],
      "text/plain": [
       "       sepal length (cm)  sepal width (cm)  petal length (cm)  \\\n",
       "class                                                           \n",
       "0                  6.262             2.872              4.906   \n",
       "1                  5.006             3.428              1.462   \n",
       "\n",
       "       petal width (cm)  \n",
       "class                    \n",
       "0                 1.676  \n",
       "1                 0.246  "
      ]
     },
     "execution_count": 38,
     "metadata": {},
     "output_type": "execute_result"
    }
   ],
   "source": [
    "b_x1.groupby('class').mean()"
   ]
  },
  {
   "cell_type": "code",
   "execution_count": 39,
   "metadata": {},
   "outputs": [
    {
     "data": {
      "text/plain": [
       "sepal length (cm)    5.843333\n",
       "sepal width (cm)     3.057333\n",
       "petal length (cm)    3.758000\n",
       "petal width (cm)     1.199333\n",
       "dtype: float64"
      ]
     },
     "execution_count": 39,
     "metadata": {},
     "output_type": "execute_result"
    }
   ],
   "source": [
    "x.mean()"
   ]
  },
  {
   "cell_type": "code",
   "execution_count": 40,
   "metadata": {},
   "outputs": [
    {
     "data": {
      "text/html": [
       "<div>\n",
       "<style scoped>\n",
       "    .dataframe tbody tr th:only-of-type {\n",
       "        vertical-align: middle;\n",
       "    }\n",
       "\n",
       "    .dataframe tbody tr th {\n",
       "        vertical-align: top;\n",
       "    }\n",
       "\n",
       "    .dataframe thead th {\n",
       "        text-align: right;\n",
       "    }\n",
       "</style>\n",
       "<table border=\"1\" class=\"dataframe\">\n",
       "  <thead>\n",
       "    <tr style=\"text-align: right;\">\n",
       "      <th></th>\n",
       "      <th>sepal length (cm)</th>\n",
       "      <th>sepal width (cm)</th>\n",
       "      <th>petal length (cm)</th>\n",
       "      <th>petal width (cm)</th>\n",
       "    </tr>\n",
       "  </thead>\n",
       "  <tbody>\n",
       "    <tr>\n",
       "      <th>0</th>\n",
       "      <td>-0.743333</td>\n",
       "      <td>0.442667</td>\n",
       "      <td>-2.358</td>\n",
       "      <td>-0.999333</td>\n",
       "    </tr>\n",
       "    <tr>\n",
       "      <th>1</th>\n",
       "      <td>-0.943333</td>\n",
       "      <td>-0.057333</td>\n",
       "      <td>-2.358</td>\n",
       "      <td>-0.999333</td>\n",
       "    </tr>\n",
       "    <tr>\n",
       "      <th>2</th>\n",
       "      <td>-1.143333</td>\n",
       "      <td>0.142667</td>\n",
       "      <td>-2.458</td>\n",
       "      <td>-0.999333</td>\n",
       "    </tr>\n",
       "    <tr>\n",
       "      <th>3</th>\n",
       "      <td>-1.243333</td>\n",
       "      <td>0.042667</td>\n",
       "      <td>-2.258</td>\n",
       "      <td>-0.999333</td>\n",
       "    </tr>\n",
       "    <tr>\n",
       "      <th>4</th>\n",
       "      <td>-0.843333</td>\n",
       "      <td>0.542667</td>\n",
       "      <td>-2.358</td>\n",
       "      <td>-0.999333</td>\n",
       "    </tr>\n",
       "  </tbody>\n",
       "</table>\n",
       "</div>"
      ],
      "text/plain": [
       "   sepal length (cm)  sepal width (cm)  petal length (cm)  petal width (cm)\n",
       "0          -0.743333          0.442667             -2.358         -0.999333\n",
       "1          -0.943333         -0.057333             -2.358         -0.999333\n",
       "2          -1.143333          0.142667             -2.458         -0.999333\n",
       "3          -1.243333          0.042667             -2.258         -0.999333\n",
       "4          -0.843333          0.542667             -2.358         -0.999333"
      ]
     },
     "execution_count": 40,
     "metadata": {},
     "output_type": "execute_result"
    }
   ],
   "source": [
    "(x - x.mean()).head()"
   ]
  },
  {
   "cell_type": "code",
   "execution_count": 41,
   "metadata": {},
   "outputs": [
    {
     "name": "stdout",
     "output_type": "stream",
     "text": [
      "the coefficient of determination R^2 of the prediction:  0.9079951375776257\n"
     ]
    }
   ],
   "source": [
    "reg = LinearRegression().fit(x, y)\n",
    "print(\"the coefficient of determination R^2 of the prediction: \",reg.score(x, y))"
   ]
  },
  {
   "cell_type": "code",
   "execution_count": 42,
   "metadata": {},
   "outputs": [
    {
     "data": {
      "text/html": [
       "<div>\n",
       "<style scoped>\n",
       "    .dataframe tbody tr th:only-of-type {\n",
       "        vertical-align: middle;\n",
       "    }\n",
       "\n",
       "    .dataframe tbody tr th {\n",
       "        vertical-align: top;\n",
       "    }\n",
       "\n",
       "    .dataframe thead th {\n",
       "        text-align: right;\n",
       "    }\n",
       "</style>\n",
       "<table border=\"1\" class=\"dataframe\">\n",
       "  <thead>\n",
       "    <tr style=\"text-align: right;\">\n",
       "      <th></th>\n",
       "      <th>0</th>\n",
       "    </tr>\n",
       "  </thead>\n",
       "  <tbody>\n",
       "    <tr>\n",
       "      <th>sepal length (cm)</th>\n",
       "      <td>0.066030</td>\n",
       "    </tr>\n",
       "    <tr>\n",
       "      <th>sepal width (cm)</th>\n",
       "      <td>0.242848</td>\n",
       "    </tr>\n",
       "    <tr>\n",
       "      <th>petal length (cm)</th>\n",
       "      <td>-0.224657</td>\n",
       "    </tr>\n",
       "    <tr>\n",
       "      <th>petal width (cm)</th>\n",
       "      <td>-0.057473</td>\n",
       "    </tr>\n",
       "  </tbody>\n",
       "</table>\n",
       "</div>"
      ],
      "text/plain": [
       "                          0\n",
       "sepal length (cm)  0.066030\n",
       "sepal width (cm)   0.242848\n",
       "petal length (cm) -0.224657\n",
       "petal width (cm)  -0.057473"
      ]
     },
     "execution_count": 42,
     "metadata": {},
     "output_type": "execute_result"
    }
   ],
   "source": [
    "pd.DataFrame(reg.coef_,index=x.columns)"
   ]
  },
  {
   "cell_type": "markdown",
   "metadata": {},
   "source": [
    "Actual shap scores go through a **LOT** of conditional transformations before they are releases. I'm oversimplifying for sure. However as you can see the resulting table is a close proximity to the table produced by SHAP.  "
   ]
  },
  {
   "cell_type": "code",
   "execution_count": 43,
   "metadata": {},
   "outputs": [
    {
     "data": {
      "text/html": [
       "<div>\n",
       "<style scoped>\n",
       "    .dataframe tbody tr th:only-of-type {\n",
       "        vertical-align: middle;\n",
       "    }\n",
       "\n",
       "    .dataframe tbody tr th {\n",
       "        vertical-align: top;\n",
       "    }\n",
       "\n",
       "    .dataframe thead th {\n",
       "        text-align: right;\n",
       "    }\n",
       "</style>\n",
       "<table border=\"1\" class=\"dataframe\">\n",
       "  <thead>\n",
       "    <tr style=\"text-align: right;\">\n",
       "      <th></th>\n",
       "      <th>sepal length (cm)</th>\n",
       "      <th>sepal width (cm)</th>\n",
       "      <th>petal length (cm)</th>\n",
       "      <th>petal width (cm)</th>\n",
       "    </tr>\n",
       "  </thead>\n",
       "  <tbody>\n",
       "    <tr>\n",
       "      <th>0</th>\n",
       "      <td>-0.049082</td>\n",
       "      <td>0.107501</td>\n",
       "      <td>0.529741</td>\n",
       "      <td>0.057434</td>\n",
       "    </tr>\n",
       "    <tr>\n",
       "      <th>1</th>\n",
       "      <td>-0.062288</td>\n",
       "      <td>-0.013923</td>\n",
       "      <td>0.529741</td>\n",
       "      <td>0.057434</td>\n",
       "    </tr>\n",
       "    <tr>\n",
       "      <th>2</th>\n",
       "      <td>-0.075494</td>\n",
       "      <td>0.034646</td>\n",
       "      <td>0.552207</td>\n",
       "      <td>0.057434</td>\n",
       "    </tr>\n",
       "    <tr>\n",
       "      <th>3</th>\n",
       "      <td>-0.082097</td>\n",
       "      <td>0.010362</td>\n",
       "      <td>0.507276</td>\n",
       "      <td>0.057434</td>\n",
       "    </tr>\n",
       "    <tr>\n",
       "      <th>4</th>\n",
       "      <td>-0.055685</td>\n",
       "      <td>0.131785</td>\n",
       "      <td>0.529741</td>\n",
       "      <td>0.057434</td>\n",
       "    </tr>\n",
       "  </tbody>\n",
       "</table>\n",
       "</div>"
      ],
      "text/plain": [
       "   sepal length (cm)  sepal width (cm)  petal length (cm)  petal width (cm)\n",
       "0          -0.049082          0.107501           0.529741          0.057434\n",
       "1          -0.062288         -0.013923           0.529741          0.057434\n",
       "2          -0.075494          0.034646           0.552207          0.057434\n",
       "3          -0.082097          0.010362           0.507276          0.057434\n",
       "4          -0.055685          0.131785           0.529741          0.057434"
      ]
     },
     "execution_count": 43,
     "metadata": {},
     "output_type": "execute_result"
    }
   ],
   "source": [
    "((b_x - b_x.mean()) * reg.coef_).head()"
   ]
  },
  {
   "cell_type": "code",
   "execution_count": 44,
   "metadata": {},
   "outputs": [
    {
     "data": {
      "text/html": [
       "<div>\n",
       "<style scoped>\n",
       "    .dataframe tbody tr th:only-of-type {\n",
       "        vertical-align: middle;\n",
       "    }\n",
       "\n",
       "    .dataframe tbody tr th {\n",
       "        vertical-align: top;\n",
       "    }\n",
       "\n",
       "    .dataframe thead th {\n",
       "        text-align: right;\n",
       "    }\n",
       "</style>\n",
       "<table border=\"1\" class=\"dataframe\">\n",
       "  <thead>\n",
       "    <tr style=\"text-align: right;\">\n",
       "      <th></th>\n",
       "      <th>sepal length (cm)</th>\n",
       "      <th>sepal width (cm)</th>\n",
       "      <th>petal length (cm)</th>\n",
       "      <th>petal width (cm)</th>\n",
       "    </tr>\n",
       "  </thead>\n",
       "  <tbody>\n",
       "    <tr>\n",
       "      <th>0</th>\n",
       "      <td>0.0</td>\n",
       "      <td>0.0</td>\n",
       "      <td>0.666667</td>\n",
       "      <td>0.0</td>\n",
       "    </tr>\n",
       "    <tr>\n",
       "      <th>1</th>\n",
       "      <td>0.0</td>\n",
       "      <td>0.0</td>\n",
       "      <td>0.666667</td>\n",
       "      <td>0.0</td>\n",
       "    </tr>\n",
       "    <tr>\n",
       "      <th>2</th>\n",
       "      <td>0.0</td>\n",
       "      <td>0.0</td>\n",
       "      <td>0.666667</td>\n",
       "      <td>0.0</td>\n",
       "    </tr>\n",
       "    <tr>\n",
       "      <th>3</th>\n",
       "      <td>0.0</td>\n",
       "      <td>0.0</td>\n",
       "      <td>0.666667</td>\n",
       "      <td>0.0</td>\n",
       "    </tr>\n",
       "    <tr>\n",
       "      <th>4</th>\n",
       "      <td>0.0</td>\n",
       "      <td>0.0</td>\n",
       "      <td>0.666667</td>\n",
       "      <td>0.0</td>\n",
       "    </tr>\n",
       "  </tbody>\n",
       "</table>\n",
       "</div>"
      ],
      "text/plain": [
       "   sepal length (cm)  sepal width (cm)  petal length (cm)  petal width (cm)\n",
       "0                0.0               0.0           0.666667               0.0\n",
       "1                0.0               0.0           0.666667               0.0\n",
       "2                0.0               0.0           0.666667               0.0\n",
       "3                0.0               0.0           0.666667               0.0\n",
       "4                0.0               0.0           0.666667               0.0"
      ]
     },
     "execution_count": 44,
     "metadata": {},
     "output_type": "execute_result"
    }
   ],
   "source": [
    "shaps[0].head()"
   ]
  },
  {
   "cell_type": "markdown",
   "metadata": {},
   "source": [
    "For more input on the the [kerynelExplainer in the source code](https://github.com/slundberg/shap/blob/5b2b749afbcde74e50eba0c8cc1983c35b331e53/shap/explainers/kernel.py)"
   ]
  },
  {
   "cell_type": "code",
   "execution_count": null,
   "metadata": {},
   "outputs": [],
   "source": []
  }
 ],
 "metadata": {
  "kernelspec": {
   "display_name": "Python 3",
   "language": "python",
   "name": "python3"
  },
  "language_info": {
   "codemirror_mode": {
    "name": "ipython",
    "version": 3
   },
   "file_extension": ".py",
   "mimetype": "text/x-python",
   "name": "python",
   "nbconvert_exporter": "python",
   "pygments_lexer": "ipython3",
   "version": "3.7.3"
  }
 },
 "nbformat": 4,
 "nbformat_minor": 4
}
