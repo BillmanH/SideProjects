{
 "metadata": {
  "name": "",
  "signature": "sha256:f9e67ddd65290c5bf5dc47ff2d5624fc86909db2734568963bef341bcee43d62"
 },
 "nbformat": 3,
 "nbformat_minor": 0,
 "worksheets": [
  {
   "cells": [
    {
     "cell_type": "markdown",
     "metadata": {},
     "source": [
      "1. Classification vs Regression\n",
      "Your goal is to identify students who might need early intervention - which type of supervised machine learning problem is this, classification or regression? Why?\n"
     ]
    },
    {
     "cell_type": "code",
     "collapsed": false,
     "input": [
      "# Import libraries\n",
      "import numpy as np\n",
      "import pandas as pd\n",
      "import matplotlib.pyplot as plt\n",
      "import time\n",
      "%matplotlib inline\n",
      "from __future__ import division\n",
      "import sklearn as sk\n",
      "from sklearn import grid_search\n",
      "from sklearn.metrics import f1_score"
     ],
     "language": "python",
     "metadata": {},
     "outputs": [],
     "prompt_number": 1
    },
    {
     "cell_type": "markdown",
     "metadata": {},
     "source": [
      "Answer: As the goal of this model is to divide categories into categories, this a classification model. The model should be able to identify "
     ]
    },
    {
     "cell_type": "code",
     "collapsed": false,
     "input": [
      "#loading student data from local file.\n",
      "student_data = pd.read_csv(r\"C:\\Users\\Bill\\Documents\\Statistics\\Course\\P2_Student_Intervention_System\\student_intervention\\student-data.csv\")"
     ],
     "language": "python",
     "metadata": {},
     "outputs": [],
     "prompt_number": 2
    },
    {
     "cell_type": "code",
     "collapsed": false,
     "input": [
      "n_students = len(student_data)  #assuming that all rows are students\n",
      "n_features = len(student_data.columns[student_data.columns!=\"passed\"]) #passed is the target, so it isn't counted as a feature\n",
      "n_passed = len(student_data[student_data['passed']=='yes'])\n",
      "n_failed = len(student_data[student_data['passed']!='yes']) #arbitrarily calling students who are (passed!=\"yes\") as 'failed'\n",
      "grad_rate = n_passed/len(student_data)\n",
      "print \"Total number of students: {}\".format(n_students)\n",
      "print \"Number of students who passed: {}\".format(n_passed)\n",
      "print \"Number of students who failed: {}\".format(n_failed)\n",
      "print \"Number of features: {}\".format(n_features)\n",
      "print \"Graduation rate of the class: {:.2f}%\".format(grad_rate*100)"
     ],
     "language": "python",
     "metadata": {},
     "outputs": [
      {
       "output_type": "stream",
       "stream": "stdout",
       "text": [
        "Total number of students: 395\n",
        "Number of students who passed: 265\n",
        "Number of students who failed: 130\n",
        "Number of features: 30\n",
        "Graduation rate of the class: 67.09%\n"
       ]
      }
     ],
     "prompt_number": 3
    },
    {
     "cell_type": "code",
     "collapsed": false,
     "input": [
      "# Extract feature (X) and target (y) columns\n",
      "feature_cols = list(student_data.columns[:-1])  # all columns but last are features\n",
      "target_col = student_data.columns[-1]  # last column is the target/label\n",
      "print \"Feature column(s):-\\n{}\".format(feature_cols)\n",
      "print \"Target column: {}\".format(target_col)\n",
      "\n",
      "X_all = student_data[feature_cols]  # feature values for all students\n",
      "y_all = student_data[target_col]  # corresponding targets/labels"
     ],
     "language": "python",
     "metadata": {},
     "outputs": [
      {
       "output_type": "stream",
       "stream": "stdout",
       "text": [
        "Feature column(s):-\n",
        "['school', 'sex', 'age', 'address', 'famsize', 'Pstatus', 'Medu', 'Fedu', 'Mjob', 'Fjob', 'reason', 'guardian', 'traveltime', 'studytime', 'failures', 'schoolsup', 'famsup', 'paid', 'activities', 'nursery', 'higher', 'internet', 'romantic', 'famrel', 'freetime', 'goout', 'Dalc', 'Walc', 'health', 'absences']\n",
        "Target column: passed\n"
       ]
      }
     ],
     "prompt_number": 4
    },
    {
     "cell_type": "code",
     "collapsed": false,
     "input": [
      "# Preprocess feature columns\n",
      "def preprocess_features(X):\n",
      "    outX = pd.DataFrame(index=X.index)  # output dataframe, initially empty\n",
      "\n",
      "    # Check each column\n",
      "    for col, col_data in X.iteritems():\n",
      "        # If data type is non-numeric, try to replace all yes/no values with 1/0\n",
      "        if col_data.dtype == object:\n",
      "            col_data = col_data.replace(['yes', 'no'], [1, 0])\n",
      "        # Note: This should change the data type for yes/no columns to int\n",
      "\n",
      "        # If still non-numeric, convert to one or more dummy variables\n",
      "        if col_data.dtype == object:\n",
      "            col_data = pd.get_dummies(col_data, prefix=col)  # e.g. 'school' => 'school_GP', 'school_MS'\n",
      "\n",
      "        outX = outX.join(col_data)  # collect column(s) in output dataframe\n",
      "\n",
      "    return outX\n",
      "\n",
      "X_all = preprocess_features(X_all)\n",
      "print \"Processed feature columns ({}):-\\n{}\".format(len(X_all.columns), list(X_all.columns))"
     ],
     "language": "python",
     "metadata": {},
     "outputs": [
      {
       "output_type": "stream",
       "stream": "stdout",
       "text": [
        "Processed feature columns (48):-\n",
        "['school_GP', 'school_MS', 'sex_F', 'sex_M', 'age', 'address_R', 'address_U', 'famsize_GT3', 'famsize_LE3', 'Pstatus_A', 'Pstatus_T', 'Medu', 'Fedu', 'Mjob_at_home', 'Mjob_health', 'Mjob_other', 'Mjob_services', 'Mjob_teacher', 'Fjob_at_home', 'Fjob_health', 'Fjob_other', 'Fjob_services', 'Fjob_teacher', 'reason_course', 'reason_home', 'reason_other', 'reason_reputation', 'guardian_father', 'guardian_mother', 'guardian_other', 'traveltime', 'studytime', 'failures', 'schoolsup', 'famsup', 'paid', 'activities', 'nursery', 'higher', 'internet', 'romantic', 'famrel', 'freetime', 'goout', 'Dalc', 'Walc', 'health', 'absences']\n"
       ]
      }
     ],
     "prompt_number": 5
    },
    {
     "cell_type": "code",
     "collapsed": false,
     "input": [
      "# First, decide how many training vs test samples you want\n",
      "num_all = student_data.shape[0]  # same as len(student_data)\n",
      "num_train = 300  # about 75% of the data\n",
      "num_test = num_all - num_train"
     ],
     "language": "python",
     "metadata": {},
     "outputs": [],
     "prompt_number": 6
    },
    {
     "cell_type": "code",
     "collapsed": false,
     "input": [
      "# TODO: Then, select features (X) and corresponding labels (y) for the training and test sets\n",
      "# Note: Shuffle the data or randomly select samples to avoid any bias due to ordering in the dataset\n",
      "#X_train = X_all[:num_train]\n",
      "#y_train = y_all[:num_train]\n",
      "#X_test = X_all[num_train:]\n",
      "#y_test = y_all[num_train:]\n",
      "X_train, X_test, y_train, y_test = sk.cross_validation.train_test_split(X_all, y_all, train_size=300, random_state=42)\n",
      "print \"Training set: {} samples\".format(X_train.shape[0])\n",
      "print \"Test set: {} samples\".format(X_test.shape[0])\n",
      "print X_train.index"
     ],
     "language": "python",
     "metadata": {},
     "outputs": [
      {
       "output_type": "stream",
       "stream": "stdout",
       "text": [
        "Training set: 300 samples\n",
        "Test set: 95 samples\n",
        "Int64Index([210, 75, 104, 374, 16, 66, 211, 7, 19, 301, 350, 365, 118, 321, 296, 381, 373, 60, 79, 281, 245, 250, 218, 109, 17, 165, 24, 126, 346, 176, 275, 246, 239, 153, 261, 262, 172, 119, 389, 198, 139, 148, 322, 36, 287, 152, 349, 382, 59, 111, 325, 249, 6, 284, 271, 150, 10, 192, 103, 81, 290, 366, 202, 345, 163, 297, 89, 203, 147, 222, 92, 69, 123, 96, 143, 299, 97, 232, 68, 23, 37, 144, 122, 67, 180, 208, 282, 369, 280, 125, 146, 229, 86, 332, 219, 333, 195, 274, 298, 183, ...], dtype='int64')\n"
       ]
      }
     ],
     "prompt_number": 7
    },
    {
     "cell_type": "code",
     "collapsed": false,
     "input": [
      "# TODO: Choose a model, import it and instantiate an object\n",
      "# here are the tarining and scoring functions that I used. "
     ],
     "language": "python",
     "metadata": {},
     "outputs": [],
     "prompt_number": 8
    },
    {
     "cell_type": "code",
     "collapsed": false,
     "input": [
      "def train_classifier(clf, X_train, y_train):\n",
      "    print \"Training {}...\".format(clf.__class__.__name__)\n",
      "    start = time.time()\n",
      "    clf.fit(X_train, y_train)\n",
      "    end = time.time()\n",
      "    print \"Done!\\nTraining time (secs): {:.3f}\".format(end - start)\n",
      "    \n",
      "def predict_labels(clf, features, target):\n",
      "    print \"Predicting labels using {}...\".format(clf.__class__.__name__)\n",
      "    start = time.time()\n",
      "    y_pred = clf.predict(features)\n",
      "    end = time.time()\n",
      "    print \"Done!\\nPrediction time (secs): {:.3f}\".format(end - start)\n",
      "    return f1_score(target.values, y_pred, pos_label='yes')\n",
      "\n",
      "# Train and predict using different training set sizes\n",
      "def train_predict(clf, X_train, y_train, X_test, y_test):\n",
      "    print \"------------------------------------------\"\n",
      "    print \"Training set size: {}\".format(len(X_train))\n",
      "    train_classifier(clf, X_train, y_train)\n",
      "    print \"F1 score for training set: {}\".format(predict_labels(clf, X_train, y_train))\n",
      "    print \"F1 score for test set: {}\".format(predict_labels(clf, X_test, y_test))\n",
      "\n",
      "#I made my own function to pull out the table for the report. \n",
      "def train_predict_many(clf, X_train, y_train, X_test, y_test,results):\n",
      "\t#tweaked to return a dataframe of results for graphing.\n",
      "\t#\n",
      "\ttrain_start = time.time()\n",
      "\ttrain_classifier(clf, X_train, y_train)\n",
      "\ttrain_end = time.time()\n",
      "\t#\n",
      "\tpredict_start = time.time()\n",
      "\tprediction = predict_labels(clf, X_test, y_test)\n",
      "\tpredict_end = time.time()\n",
      "\t#\n",
      "\tindex_n = len(results)\n",
      "\tresults.loc[index_n,\"train_f1\"] = predict_labels(clf, X_train, y_train)\n",
      "\tresults.loc[index_n,\"test_f1\"] = prediction\n",
      "\tresults.loc[index_n,\"train_size\"] = len(X_train)\n",
      "\tresults.loc[index_n,\"train_time\"] = train_end - train_start\n",
      "\tresults.loc[index_n,\"prediction_time\"] = predict_end - predict_start\n",
      "\n",
      "\n",
      "def test_my_model(clf, X_all,y_all,training_sizes):\n",
      "\tresults = pd.DataFrame()\n",
      "\tfor size in training_sizes:\n",
      "\t\t#removed test so that model will differ to the global X_test and y_test variables. \n",
      "\t\tX_train, X_test_not_used, y_train, y_test_not_used = sk.cross_validation.train_test_split(X_all, y_all, train_size=size, random_state=42)\n",
      "\t\ttrain_predict_many(clf, X_train, y_train, X_test, y_test, results)\t\t\n",
      "\t\tresults.index = results['train_size']\n",
      "\treturn results"
     ],
     "language": "python",
     "metadata": {},
     "outputs": [],
     "prompt_number": 17
    },
    {
     "cell_type": "code",
     "collapsed": false,
     "input": [
      "#using the same training sizes for each model:\n",
      "training_sizes = [100, 200, 300]\n",
      "\n",
      "#running each Model separatley:\n",
      "from sklearn.ensemble import RandomForestClassifier\n",
      "from sklearn.tree import DecisionTreeClassifier\n",
      "from sklearn.neighbors import KNeighborsClassifier\n",
      "\n",
      "\n",
      "#DecisionTreeClassifier\n",
      "clf = DecisionTreeClassifier(random_state=0)\n",
      "DecisionTree_results = test_my_model(clf, X_all,y_all,training_sizes)\n",
      "\n",
      "#RandomForestClassifier\n",
      "clf = RandomForestClassifier(random_state=0)\n",
      "RandomForest_results = test_my_model(clf, X_all,y_all,training_sizes)\n",
      "\n",
      "#KNeighborsClassifier\n",
      "clf = KNeighborsClassifier()\n",
      "KNeighbors_results = test_my_model(clf, X_all,y_all,training_sizes)\n"
     ],
     "language": "python",
     "metadata": {},
     "outputs": [
      {
       "output_type": "stream",
       "stream": "stdout",
       "text": [
        "Training DecisionTreeClassifier...\n",
        "Done!\n",
        "Training time (secs): 0.006\n",
        "Predicting labels using DecisionTreeClassifier...\n",
        "Done!\n",
        "Prediction time (secs): 0.001\n",
        "Predicting labels using DecisionTreeClassifier...\n",
        "Done!\n",
        "Prediction time (secs): 0.000\n",
        "Training DecisionTreeClassifier...\n",
        "Done!\n",
        "Training time (secs): 0.002\n",
        "Predicting labels using DecisionTreeClassifier...\n",
        "Done!\n",
        "Prediction time (secs): 0.000\n",
        "Predicting labels using DecisionTreeClassifier...\n",
        "Done!\n",
        "Prediction time (secs): 0.000\n",
        "Training DecisionTreeClassifier...\n",
        "Done!\n",
        "Training time (secs): 0.003\n",
        "Predicting labels using DecisionTreeClassifier...\n",
        "Done!\n",
        "Prediction time (secs): 0.001"
       ]
      },
      {
       "output_type": "stream",
       "stream": "stdout",
       "text": [
        "\n",
        "Predicting labels using DecisionTreeClassifier...\n",
        "Done!\n",
        "Prediction time (secs): 0.001\n",
        "Training RandomForestClassifier...\n",
        "Done!\n",
        "Training time (secs): 0.050"
       ]
      },
      {
       "output_type": "stream",
       "stream": "stdout",
       "text": [
        "\n",
        "Predicting labels using RandomForestClassifier...\n",
        "Done!\n",
        "Prediction time (secs): 0.005\n",
        "Predicting labels using RandomForestClassifier...\n",
        "Done!\n",
        "Prediction time (secs): 0.002\n",
        "Training RandomForestClassifier...\n",
        "Done!\n",
        "Training time (secs): 0.037"
       ]
      },
      {
       "output_type": "stream",
       "stream": "stdout",
       "text": [
        "\n",
        "Predicting labels using RandomForestClassifier...\n",
        "Done!\n",
        "Prediction time (secs): 0.001\n",
        "Predicting labels using RandomForestClassifier...\n",
        "Done!\n",
        "Prediction time (secs): 0.001\n",
        "Training RandomForestClassifier...\n",
        "Done!\n",
        "Training time (secs): 0.034\n",
        "Predicting labels using RandomForestClassifier...\n",
        "Done!\n",
        "Prediction time (secs): 0.002\n",
        "Predicting labels using RandomForestClassifier...\n",
        "Done!\n",
        "Prediction time (secs): 0.001\n",
        "Training KNeighborsClassifier..."
       ]
      },
      {
       "output_type": "stream",
       "stream": "stdout",
       "text": [
        "\n",
        "Done!\n",
        "Training time (secs): 0.001\n",
        "Predicting labels using KNeighborsClassifier...\n",
        "Done!\n",
        "Prediction time (secs): 0.002\n",
        "Predicting labels using KNeighborsClassifier...\n",
        "Done!\n",
        "Prediction time (secs): 0.004\n",
        "Training KNeighborsClassifier...\n",
        "Done!\n",
        "Training time (secs): 0.001\n",
        "Predicting labels using KNeighborsClassifier...\n",
        "Done!\n",
        "Prediction time (secs): 0.003\n",
        "Predicting labels using KNeighborsClassifier...\n",
        "Done!\n",
        "Prediction time (secs): 0.006\n",
        "Training KNeighborsClassifier...\n",
        "Done!\n",
        "Training time (secs): 0.005\n",
        "Predicting labels using KNeighborsClassifier...\n",
        "Done!\n",
        "Prediction time (secs): 0.005\n",
        "Predicting labels using KNeighborsClassifier...\n",
        "Done!\n",
        "Prediction time (secs): 0.010\n"
       ]
      }
     ],
     "prompt_number": 18
    },
    {
     "cell_type": "markdown",
     "metadata": {},
     "source": [
      "I probably should have just removed the print statements but I wanted to leave the example code as it was as much as possible. "
     ]
    },
    {
     "cell_type": "code",
     "collapsed": false,
     "input": [
      "#graphing the different models to look at which one is more reliable.\n",
      "plt.plot(KNeighbors_results['train_size'].tolist(),KNeighbors_results['test_f1'].tolist(),label='KNeighbors')\n",
      "plt.plot(RandomForest_results['train_size'].tolist(),RandomForest_results['test_f1'].tolist(),label='RandomForest')\n",
      "plt.plot(DecisionTree_results['train_size'].tolist(),DecisionTree_results['test_f1'].tolist(),label='DecisionTree')\n",
      "plt.legend(loc='upper center', bbox_to_anchor=(0.5,-0.1))\n",
      "plt.xlabel('Training Size')\n",
      "plt.ylabel('F1 score')\n",
      "plt.show()"
     ],
     "language": "python",
     "metadata": {},
     "outputs": [
      {
       "metadata": {},
       "output_type": "display_data",
       "png": "[encoded data removed]",
       "text": [
        "<matplotlib.figure.Figure at 0x1f4d6ac8>"
       ]
      }
     ],
     "prompt_number": 19
    },
    {
     "cell_type": "code",
     "collapsed": false,
     "input": [
      "DecisionTree_results"
     ],
     "language": "python",
     "metadata": {},
     "outputs": [
      {
       "html": [
        "<div style=\"max-height:1000px;max-width:1500px;overflow:auto;\">\n",
        "<table border=\"1\" class=\"dataframe\">\n",
        "  <thead>\n",
        "    <tr style=\"text-align: right;\">\n",
        "      <th></th>\n",
        "      <th>train_f1</th>\n",
        "      <th>test_f1</th>\n",
        "      <th>train_size</th>\n",
        "      <th>train_time</th>\n",
        "      <th>prediction_time</th>\n",
        "    </tr>\n",
        "    <tr>\n",
        "      <th>train_size</th>\n",
        "      <th></th>\n",
        "      <th></th>\n",
        "      <th></th>\n",
        "      <th></th>\n",
        "      <th></th>\n",
        "    </tr>\n",
        "  </thead>\n",
        "  <tbody>\n",
        "    <tr>\n",
        "      <th>100</th>\n",
        "      <td> 1</td>\n",
        "      <td> 0.672131</td>\n",
        "      <td> 100</td>\n",
        "      <td> 0.006</td>\n",
        "      <td> 0.004</td>\n",
        "    </tr>\n",
        "    <tr>\n",
        "      <th>200</th>\n",
        "      <td> 1</td>\n",
        "      <td> 0.751880</td>\n",
        "      <td> 200</td>\n",
        "      <td> 0.002</td>\n",
        "      <td> 0.001</td>\n",
        "    </tr>\n",
        "    <tr>\n",
        "      <th>300</th>\n",
        "      <td> 1</td>\n",
        "      <td> 0.610169</td>\n",
        "      <td> 300</td>\n",
        "      <td> 0.003</td>\n",
        "      <td> 0.005</td>\n",
        "    </tr>\n",
        "  </tbody>\n",
        "</table>\n",
        "</div>"
       ],
       "metadata": {},
       "output_type": "pyout",
       "prompt_number": 20,
       "text": [
        "            train_f1   test_f1  train_size  train_time  prediction_time\n",
        "train_size                                                             \n",
        "100                1  0.672131         100       0.006            0.004\n",
        "200                1  0.751880         200       0.002            0.001\n",
        "300                1  0.610169         300       0.003            0.005"
       ]
      }
     ],
     "prompt_number": 20
    },
    {
     "cell_type": "code",
     "collapsed": false,
     "input": [
      "RandomForest_results"
     ],
     "language": "python",
     "metadata": {},
     "outputs": [
      {
       "html": [
        "<div style=\"max-height:1000px;max-width:1500px;overflow:auto;\">\n",
        "<table border=\"1\" class=\"dataframe\">\n",
        "  <thead>\n",
        "    <tr style=\"text-align: right;\">\n",
        "      <th></th>\n",
        "      <th>train_f1</th>\n",
        "      <th>test_f1</th>\n",
        "      <th>train_size</th>\n",
        "      <th>train_time</th>\n",
        "      <th>prediction_time</th>\n",
        "    </tr>\n",
        "    <tr>\n",
        "      <th>train_size</th>\n",
        "      <th></th>\n",
        "      <th></th>\n",
        "      <th></th>\n",
        "      <th></th>\n",
        "      <th></th>\n",
        "    </tr>\n",
        "  </thead>\n",
        "  <tbody>\n",
        "    <tr>\n",
        "      <th>100</th>\n",
        "      <td> 0.992593</td>\n",
        "      <td> 0.715447</td>\n",
        "      <td> 100</td>\n",
        "      <td> 0.051</td>\n",
        "      <td> 0.008</td>\n",
        "    </tr>\n",
        "    <tr>\n",
        "      <th>200</th>\n",
        "      <td> 0.996441</td>\n",
        "      <td> 0.712121</td>\n",
        "      <td> 200</td>\n",
        "      <td> 0.037</td>\n",
        "      <td> 0.002</td>\n",
        "    </tr>\n",
        "    <tr>\n",
        "      <th>300</th>\n",
        "      <td> 0.992701</td>\n",
        "      <td> 0.740741</td>\n",
        "      <td> 300</td>\n",
        "      <td> 0.034</td>\n",
        "      <td> 0.003</td>\n",
        "    </tr>\n",
        "  </tbody>\n",
        "</table>\n",
        "</div>"
       ],
       "metadata": {},
       "output_type": "pyout",
       "prompt_number": 21,
       "text": [
        "            train_f1   test_f1  train_size  train_time  prediction_time\n",
        "train_size                                                             \n",
        "100         0.992593  0.715447         100       0.051            0.008\n",
        "200         0.996441  0.712121         200       0.037            0.002\n",
        "300         0.992701  0.740741         300       0.034            0.003"
       ]
      }
     ],
     "prompt_number": 21
    },
    {
     "cell_type": "code",
     "collapsed": false,
     "input": [
      "KNeighbors_results"
     ],
     "language": "python",
     "metadata": {},
     "outputs": [
      {
       "html": [
        "<div style=\"max-height:1000px;max-width:1500px;overflow:auto;\">\n",
        "<table border=\"1\" class=\"dataframe\">\n",
        "  <thead>\n",
        "    <tr style=\"text-align: right;\">\n",
        "      <th></th>\n",
        "      <th>train_f1</th>\n",
        "      <th>test_f1</th>\n",
        "      <th>train_size</th>\n",
        "      <th>train_time</th>\n",
        "      <th>prediction_time</th>\n",
        "    </tr>\n",
        "    <tr>\n",
        "      <th>train_size</th>\n",
        "      <th></th>\n",
        "      <th></th>\n",
        "      <th></th>\n",
        "      <th></th>\n",
        "      <th></th>\n",
        "    </tr>\n",
        "  </thead>\n",
        "  <tbody>\n",
        "    <tr>\n",
        "      <th>100</th>\n",
        "      <td> 0.832215</td>\n",
        "      <td> 0.773723</td>\n",
        "      <td> 100</td>\n",
        "      <td> 0.002</td>\n",
        "      <td> 0.003</td>\n",
        "    </tr>\n",
        "    <tr>\n",
        "      <th>200</th>\n",
        "      <td> 0.888158</td>\n",
        "      <td> 0.762590</td>\n",
        "      <td> 200</td>\n",
        "      <td> 0.001</td>\n",
        "      <td> 0.003</td>\n",
        "    </tr>\n",
        "    <tr>\n",
        "      <th>300</th>\n",
        "      <td> 0.880899</td>\n",
        "      <td> 0.780142</td>\n",
        "      <td> 300</td>\n",
        "      <td> 0.005</td>\n",
        "      <td> 0.007</td>\n",
        "    </tr>\n",
        "  </tbody>\n",
        "</table>\n",
        "</div>"
       ],
       "metadata": {},
       "output_type": "pyout",
       "prompt_number": 22,
       "text": [
        "            train_f1   test_f1  train_size  train_time  prediction_time\n",
        "train_size                                                             \n",
        "100         0.832215  0.773723         100       0.002            0.003\n",
        "200         0.888158  0.762590         200       0.001            0.003\n",
        "300         0.880899  0.780142         300       0.005            0.007"
       ]
      }
     ],
     "prompt_number": 22
    },
    {
     "cell_type": "code",
     "collapsed": false,
     "input": [
      "\n",
      "from sklearn import grid_search\n",
      "from sklearn.metrics import make_scorer\n",
      "from sklearn import preprocessing\n",
      "\n",
      "X_train, X_test, y_train, y_test = sk.cross_validation.train_test_split(X_all, y_all, train_size=300, random_state=42)\n",
      "\n",
      "lb = preprocessing.LabelBinarizer()\n",
      "lb.fit(y_train)\n",
      "y_bin_train = np.array([number[0] for number in lb.fit_transform(y_train)])\n",
      "\n",
      "lb_test = preprocessing.LabelBinarizer()\n",
      "lb_test.fit(y_test)\n",
      "y_test_bin = np.array([number[0] for number in lb_test.fit_transform(y_test)])\n",
      "\n",
      "myScorer = make_scorer(f1_score, greater_is_better=True)\n",
      "parameters = {'n_neighbors':range(5,50)}\n",
      "\n",
      "reg = grid_search.GridSearchCV(KNeighborsClassifier(),parameters,\n",
      "\t\t\t\t\t\t\t\tscoring=myScorer)\n",
      "\t\t\t\t\t\t\t\t\n",
      "\n",
      "\n",
      "reg.fit(X_train, y_bin_train)\n",
      "\n",
      "print \"Best model parameter:  \" + str( reg.best_params_)\n",
      "print \"Best model score:  \" + str( reg.best_score_)"
     ],
     "language": "python",
     "metadata": {},
     "outputs": [
      {
       "output_type": "stream",
       "stream": "stdout",
       "text": [
        "Best model parameter:  {'n_neighbors': 34}\n",
        "Best model score:  0.818624562895\n"
       ]
      }
     ],
     "prompt_number": 23
    },
    {
     "cell_type": "code",
     "collapsed": false,
     "input": [
      "#F1 score on the test set compared to the untuned model where X_train had 300 points.\n",
      "clf = KNeighborsClassifier(n_neighbors=34)\n",
      "clf.fit(X_train, y_train)\n",
      "y_pred = clf.predict(X_test)\n",
      "print \"Best model score:  \" + str(f1_score(y_test, y_pred, pos_label='yes'))"
     ],
     "language": "python",
     "metadata": {},
     "outputs": [
      {
       "output_type": "stream",
       "stream": "stdout",
       "text": [
        "Best model score:  0.78431372549\n"
       ]
      }
     ],
     "prompt_number": 28
    },
    {
     "cell_type": "code",
     "collapsed": false,
     "input": [],
     "language": "python",
     "metadata": {},
     "outputs": []
    }
   ],
   "metadata": {}
  }
 ]
}