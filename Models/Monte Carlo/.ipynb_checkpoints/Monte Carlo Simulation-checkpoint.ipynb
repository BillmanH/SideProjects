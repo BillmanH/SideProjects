{
 "cells": [
  {
   "cell_type": "code",
   "execution_count": 4,
   "metadata": {},
   "outputs": [],
   "source": [
    "import pandas as pd\n",
    "import numpy as np\n",
    "import altair as alt\n",
    "\n",
    "%load_ext lab_black"
   ]
  },
  {
   "cell_type": "markdown",
   "metadata": {},
   "source": [
    "# What is a Monte Carlo model?\n",
    "The term is so commonly used in analytics that it's use has become ambiguous. In this case I'm speaking about the \"multiple probability simulation\". My way of defining the simulation is: given that a scenario has a multitude of choices and outcomes, can we speak to the overal profitability of each choice within that scenario. \n"
   ]
  },
  {
   "cell_type": "markdown",
   "metadata": {},
   "source": [
    "## First step: Define the decision points and the outcomes. \n",
    "\n",
    "Let's say that we have $100k in cash. We would like to invest that in a way that makes the most return over time. "
   ]
  },
  {
   "cell_type": "code",
   "execution_count": 50,
   "metadata": {},
   "outputs": [],
   "source": [
    "initial_investment = 100000"
   ]
  },
  {
   "cell_type": "markdown",
   "metadata": {},
   "source": [
    "Now I'm going to define an outcome. This is just a way of tracking the information about the potential results. "
   ]
  },
  {
   "cell_type": "code",
   "execution_count": 51,
   "metadata": {},
   "outputs": [],
   "source": [
    "class Outcome:\n",
    "    def __init__(self, name, outcomes):\n",
    "        self.outcomes = outcomes\n",
    "        self.name = name\n",
    "\n",
    "    def __repr__(self):\n",
    "        return str(self.name) + \" : \" + str(self.outcomes)"
   ]
  },
  {
   "cell_type": "markdown",
   "metadata": {},
   "source": [
    "Let's also say that I have one option which is to invest that money in the us in a savings account. I'll get a very small amount of interest, but that interest is garunteed. Here I'm expressing this decision as an `outcome` which has only one possible outcome, which is a return of `.01%`."
   ]
  },
  {
   "cell_type": "code",
   "execution_count": 43,
   "metadata": {},
   "outputs": [],
   "source": [
    "# NOTE that it is a list of probable outcomes, with the probability and the return of each.\n",
    "steady_interest = [{\"return\": 0.0001, \"prob\": 1}]\n",
    "\n",
    "invest_in_savings = Outcome(\"put it in a bank\", steady_interest)"
   ]
  },
  {
   "cell_type": "code",
   "execution_count": 46,
   "metadata": {},
   "outputs": [
    {
     "name": "stdout",
     "output_type": "stream",
     "text": [
      "put it in a bank : [{'return': 0.0001, 'prob': 1}]\n"
     ]
    }
   ],
   "source": [
    "print(invest_in_savings)"
   ]
  },
  {
   "cell_type": "markdown",
   "metadata": {},
   "source": [
    "Now let's consider a second option. You have a choice to invest that money in a shady offshore fund, which will have a much higher return, however a small probablity that you will lose everything. "
   ]
  },
  {
   "cell_type": "code",
   "execution_count": 48,
   "metadata": {},
   "outputs": [],
   "source": [
    "very_profitable = {\"return\": 0.07, \"prob\": 0.95}\n",
    "# Loss is a percent of the origional value\n",
    "total_loss = {\"loss\": 1, \"prob\": 0.05}"
   ]
  },
  {
   "cell_type": "markdown",
   "metadata": {},
   "source": [
    "Note that the two options add up to one. This is **required**. "
   ]
  },
  {
   "cell_type": "code",
   "execution_count": 53,
   "metadata": {},
   "outputs": [
    {
     "data": {
      "text/plain": [
       "put it in a shady fund : [[{'return': 0.07, 'prob': 0.95}], [{'loss': 1, 'prob': 0.05}]]"
      ]
     },
     "execution_count": 53,
     "metadata": {},
     "output_type": "execute_result"
    }
   ],
   "source": [
    "invest_in_shady_fund = Outcome(\"put it in a shady fund\", [very_profitable, total_loss])\n",
    "invest_in_shady_fund"
   ]
  },
  {
   "cell_type": "code",
   "execution_count": 52,
   "metadata": {},
   "outputs": [
    {
     "data": {
      "text/plain": [
       "put it in a shady fund : [[{'return': 0.07, 'prob': 0.95}], [{'loss': 1, 'prob': 0.05}]]"
      ]
     },
     "execution_count": 52,
     "metadata": {},
     "output_type": "execute_result"
    }
   ],
   "source": [
    "invest_in_shady_fund"
   ]
  },
  {
   "cell_type": "code",
   "execution_count": null,
   "metadata": {},
   "outputs": [],
   "source": []
  }
 ],
 "metadata": {
  "kernelspec": {
   "display_name": "Python (azure ml)",
   "language": "python",
   "name": "aml"
  },
  "language_info": {
   "codemirror_mode": {
    "name": "ipython",
    "version": 3
   },
   "file_extension": ".py",
   "mimetype": "text/x-python",
   "name": "python",
   "nbconvert_exporter": "python",
   "pygments_lexer": "ipython3",
   "version": "3.7.10"
  }
 },
 "nbformat": 4,
 "nbformat_minor": 4
}
