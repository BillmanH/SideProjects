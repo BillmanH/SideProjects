{
 "cells": [
  {
   "cell_type": "code",
   "execution_count": 1,
   "source": [
    "import pandas as pd\r\n",
    "import numpy as np\r\n",
    "import altair as alt\r\n",
    "\r\n",
    "%load_ext lab_black"
   ],
   "outputs": [],
   "metadata": {}
  },
  {
   "cell_type": "markdown",
   "source": [
    "# What is a Monte Carlo model?\n",
    "The term is so commonly used in analytics that it's use has become ambiguous. In this case I'm speaking about the \"multiple probability simulation\". My way of defining the simulation is: given that a scenario has a multitude of choices and outcomes, can we speak to the overal profitability of each choice within that scenario. \n"
   ],
   "metadata": {}
  },
  {
   "cell_type": "markdown",
   "source": [
    "## First step: Define the decision points and the outcomes. \n",
    "\n",
    "Let's say that we have $100k in cash. We would like to invest that in a way that makes the most return over time. "
   ],
   "metadata": {}
  },
  {
   "cell_type": "code",
   "execution_count": 2,
   "source": [
    "initial_investment = 100000"
   ],
   "outputs": [],
   "metadata": {}
  },
  {
   "cell_type": "markdown",
   "source": [
    "## What is a Return?\r\n",
    "Let's take a look at returns. The return object implies that an action has been taken which results in some kind of return. This takes the form of an `array` where each item is a return in that period. \r\n",
    "\r\n",
    "ROI=[(1+ROI)^(1/n)−1]×100%"
   ],
   "metadata": {}
  },
  {
   "cell_type": "code",
   "execution_count": 40,
   "source": [
    "class Return:\r\n",
    "    def __init__(self, periods):\r\n",
    "        self.periods = periods\r\n",
    "\r\n",
    "    def roi(self, initial_investment):\r\n",
    "        r = sum(self.periods) / initial_investment\r\n",
    "        return r\r\n",
    "    def aroi(self,periods, initial_investment):\r\n",
    "        pass"
   ],
   "outputs": [],
   "metadata": {}
  },
  {
   "cell_type": "code",
   "execution_count": 46,
   "source": [
    "r = Return([i * 100 for i in np.ones(10)])\r\n",
    "r.roi(2000)"
   ],
   "outputs": [
    {
     "output_type": "execute_result",
     "data": {
      "text/plain": [
       "0.5"
      ]
     },
     "metadata": {},
     "execution_count": 46
    }
   ],
   "metadata": {}
  },
  {
   "cell_type": "markdown",
   "source": [
    "Now I'm going to define an outcome. This is just a way of tracking the information about the potential results. I'll walk you through all of the methods as we continue. "
   ],
   "metadata": {}
  },
  {
   "cell_type": "code",
   "execution_count": 31,
   "source": [
    "class Outcome:\r\n",
    "    def __init__(self, name, outcomes):\r\n",
    "        self.outcomes = outcomes\r\n",
    "        self.name = name\r\n",
    "\r\n",
    "    def decide_outcome(self):\r\n",
    "        choice = np.random.choice(\r\n",
    "            self.outcomes, 1, p=[i[\"prob\"] for i in self.outcomes]\r\n",
    "        )\r\n",
    "        return choice[0]\r\n",
    "\r\n",
    "    def __repr__(self):\r\n",
    "        return str(self.name) + \" : \" + str(self.outcomes)"
   ],
   "outputs": [],
   "metadata": {}
  },
  {
   "cell_type": "markdown",
   "source": [
    "Let's also say that I have one option which is to invest that money in the us in a savings account. I'll get a very small amount of interest, but that interest is garunteed. Here I'm expressing this decision as an `outcome` which has only one possible outcome, which is a return of `.01%`."
   ],
   "metadata": {}
  },
  {
   "cell_type": "code",
   "execution_count": 26,
   "source": [
    "# NOTE that it is a list of probable outcomes, with the probability and the return of each.\r\n",
    "steady_interest = [{\"return\": 0.0001, \"prob\": 1}]\r\n",
    "\r\n",
    "invest_in_savings = Outcome(\"put it in a bank\", steady_interest)"
   ],
   "outputs": [],
   "metadata": {}
  },
  {
   "cell_type": "code",
   "execution_count": 27,
   "source": [
    "print(invest_in_savings)"
   ],
   "outputs": [
    {
     "output_type": "stream",
     "name": "stdout",
     "text": [
      "put it in a bank : [{'return': 0.0001, 'prob': 1}]\n"
     ]
    }
   ],
   "metadata": {}
  },
  {
   "cell_type": "markdown",
   "source": [
    "Now we can simulate how that would play out over a thousand different instances. Imagine a thousand "
   ],
   "metadata": {}
  },
  {
   "cell_type": "markdown",
   "source": [
    "Now let's consider a second option. You have a choice to invest that money in a shady offshore fund, which will have a much higher return, however a small probablity that you will lose everything. "
   ],
   "metadata": {}
  },
  {
   "cell_type": "code",
   "execution_count": 28,
   "source": [
    "very_profitable = {\"return\": 0.07, \"prob\": 0.95}\r\n",
    "# Loss is a percent of the origional value\r\n",
    "total_loss = {\"loss\": 1, \"prob\": 0.05}"
   ],
   "outputs": [],
   "metadata": {}
  },
  {
   "cell_type": "markdown",
   "source": [
    "Note that the two options add up to one. This is **required**. "
   ],
   "metadata": {}
  },
  {
   "cell_type": "code",
   "execution_count": 29,
   "source": [
    "invest_in_shady_fund = Outcome(\"put it in a shady fund\", [very_profitable, total_loss])\r\n",
    "invest_in_shady_fund"
   ],
   "outputs": [
    {
     "output_type": "execute_result",
     "data": {
      "text/plain": [
       "put it in a shady fund : [{'return': 0.07, 'prob': 0.95}, {'loss': 1, 'prob': 0.05}]"
      ]
     },
     "metadata": {},
     "execution_count": 29
    }
   ],
   "metadata": {}
  },
  {
   "cell_type": "code",
   "execution_count": 30,
   "source": [
    "invest_in_shady_fund.decide_outcome()"
   ],
   "outputs": [
    {
     "output_type": "execute_result",
     "data": {
      "text/plain": [
       "{'return': 0.07, 'prob': 0.95}"
      ]
     },
     "metadata": {},
     "execution_count": 30
    }
   ],
   "metadata": {}
  },
  {
   "cell_type": "markdown",
   "source": [
    "Now to create a data frame with those choices. "
   ],
   "metadata": {}
  },
  {
   "cell_type": "code",
   "execution_count": 18,
   "source": [],
   "outputs": [
    {
     "output_type": "execute_result",
     "data": {
      "text/plain": [
       "[0.95, 0.05]"
      ]
     },
     "metadata": {},
     "execution_count": 18
    }
   ],
   "metadata": {}
  },
  {
   "cell_type": "code",
   "execution_count": null,
   "source": [],
   "outputs": [],
   "metadata": {}
  }
 ],
 "metadata": {
  "kernelspec": {
   "name": "python3",
   "display_name": "Python 3.6.12 64-bit ('dsclass': conda)"
  },
  "language_info": {
   "codemirror_mode": {
    "name": "ipython",
    "version": 3
   },
   "file_extension": ".py",
   "mimetype": "text/x-python",
   "name": "python",
   "nbconvert_exporter": "python",
   "pygments_lexer": "ipython3",
   "version": "3.6.12"
  },
  "interpreter": {
   "hash": "90333f0ef3330941b8d5ecb17b8e07684b0d85587ecafb496ae5fbc3cc3e3053"
  }
 },
 "nbformat": 4,
 "nbformat_minor": 4
}