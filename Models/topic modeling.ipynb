{
 "cells": [
  {
   "cell_type": "markdown",
   "metadata": {},
   "source": [
    "# Quick Topic Modeling\n",
    "\n",
    "\n",
    "* Just one column of text\n",
    "* normal english stopwords\n"
   ]
  },
  {
   "cell_type": "code",
   "execution_count": 8,
   "metadata": {},
   "outputs": [],
   "source": [
    "import pandas as pd\n",
    "import numpy as np\n",
    "\n",
    "from sklearn.decomposition import NMF, LatentDirichletAllocation\n",
    "from sklearn.feature_extraction.text import TfidfVectorizer, CountVectorizer\n",
    "\n",
    "from bs4 import BeautifulSoup"
   ]
  },
  {
   "cell_type": "markdown",
   "metadata": {},
   "source": [
    "I found a great list of startup ideas on HackerNews. Really short, interetsing, easy to read. The vocabulary here would be perfect for a topic model.  [Here is the origional link](https://unawaz.github.io/stochastic-hill-climbing/tasks/).\n",
    "\n",
    "This list is such an interesting read I might go through the rest of it in the future. \n",
    "for example:\n",
    "**_Assist in setting up or optimizing analytics tools for tracking visitors' behaviors._**"
   ]
  },
  {
   "cell_type": "code",
   "execution_count": 26,
   "metadata": {},
   "outputs": [],
   "source": [
    "soup = BeautifulSoup(open('data/businessIdeas.html'), 'html.parser')\n",
    "documents = [l.text for l in soup.ol.find_all('li')]"
   ]
  },
  {
   "cell_type": "code",
   "execution_count": 20,
   "metadata": {},
   "outputs": [],
   "source": [
    "tfidf_vectorizer = TfidfVectorizer(max_df=0.95, min_df=2, stop_words='english')\n",
    "tfidf = tfidf_vectorizer.fit_transform(documents)\n",
    "feature_names = tfidf_vectorizer.get_feature_names()\n",
    "\n",
    "# LDA can only use raw term counts for LDA because it is a probabilistic graphical model\n",
    "tf_vectorizer = CountVectorizer(max_df=0.95, min_df=2, stop_words='english')\n",
    "tf = tf_vectorizer.fit_transform(documents)\n",
    "tf_feature_names = tf_vectorizer.get_feature_names()\n",
    "    \n",
    "n_topics = 20\n",
    "\n",
    "# Run NMF\n",
    "nmf = NMF(n_components=n_topics, random_state=1, alpha=.1, l1_ratio=.5, init='nndsvd').fit(tfidf)\n",
    "\n",
    "# Run LDA\n",
    "lda = LatentDirichletAllocation(n_components=n_topics, max_iter=5, learning_method='online', learning_offset=50.,random_state=0).fit(tf)"
   ]
  },
  {
   "cell_type": "code",
   "execution_count": 25,
   "metadata": {},
   "outputs": [
    {
     "name": "stdout",
     "output_type": "stream",
     "text": [
      "Topic : 0\n",
      "design software computer engineering aided hardware specifications create cad use\n",
      "Topic : 1\n",
      "using tools hand power instruments install assemble measuring cut remove\n",
      "Topic : 2\n",
      "equipment test clean machinery use maintain operate operation repairs repair\n",
      "Topic : 3\n",
      "maintain records prepare reports required documentation inventory review production files\n",
      "Topic : 4\n",
      "work areas clean orders schedules performed assignments assign completed schedule\n",
      "Topic : 5\n",
      "activities supervise staff direct coordinate train workers personnel members plan\n",
      "Topic : 6\n",
      "ensure monitor compliance regulations standards safety inspect specifications conformance quality\n",
      "Topic : 7\n",
      "information provide customers services technical assistance obtain support regarding clients\n",
      "Topic : 8\n",
      "materials products select finished used production weigh processing raw measure\n",
      "Topic : 9\n",
      "systems electrical control test components energy install water electronic mechanical\n",
      "Topic : 10\n",
      "develop programs plans implement new strategies plan methods training management\n",
      "Topic : 11\n",
      "data record analyze test results collect compile production analysis reports\n",
      "Topic : 12\n",
      "determine requirements specifications read orders needs blueprints evaluate required analyze\n",
      "Topic : 13\n",
      "patients medical care health treatment histories patient physical refer professionals\n",
      "Topic : 14\n",
      "procedures policies explain safety operating standard establish testing implement rules\n",
      "Topic : 15\n",
      "perform maintenance duties repairs routine minor tasks cleaning administrative tests\n",
      "Topic : 16\n",
      "research conduct findings projects environmental tests studies new field scientific\n",
      "Topic : 17\n",
      "supplies order inventory requisition purchase stock food needed items necessary\n",
      "Topic : 18\n",
      "parts repair replace defective worn damaged machine components replacement disassemble\n",
      "Topic : 19\n",
      "machines operate set adjust machine controls start cutting workpieces specified\n",
      "Topic : 0\n",
      "materials new equipment install supplies order flow inventory material stock\n",
      "Topic : 1\n",
      "using position place parts events metal holes fit traffic secure\n",
      "Topic : 2\n",
      "emergency deliver students topics store prepare areas various materials sort\n",
      "Topic : 3\n",
      "systems repair technical equipment problems project maintenance replace operating establish\n",
      "Topic : 4\n",
      "activities direct patients medical staff related supervise conduct coordinate collect\n",
      "Topic : 5\n",
      "computer record use process data vehicles maintain check using apply\n",
      "Topic : 6\n",
      "provide examine items food observe assistance detect verify ensure groups\n",
      "Topic : 7\n",
      "using equipment tools hand machines operate clean parts adjust remove\n",
      "Topic : 8\n",
      "security patterns preparation budgets goals serve prepare compute request return\n",
      "Topic : 9\n",
      "perform work determine inspect equipment necessary test orders required specific\n",
      "Topic : 10\n",
      "ensure safety regulations customers operations service compliance standards information monitor\n",
      "Topic : 11\n",
      "financial changes recommend surfaces clients current consult status professional conferences\n",
      "Topic : 12\n",
      "production procedures control develop quality monitor implement evaluate processes used\n",
      "Topic : 13\n",
      "obtain property building teach interview personal patrons modify direction growth\n",
      "Topic : 14\n",
      "support mail properties delivery cash market handling office post final\n",
      "Topic : 15\n",
      "workers engineering assess supervisors plants confer contracts connect notify negotiate\n",
      "Topic : 16\n",
      "products programs develop services environmental plans health care needs use\n",
      "Topic : 17\n",
      "prepare maintain reports records identify data review write problems animals\n",
      "Topic : 18\n",
      "design specifications requirements software materials using select determine products processing\n",
      "Topic : 19\n",
      "areas information determine analyze facilities documents public proper interpret potential\n"
     ]
    }
   ],
   "source": [
    "def display_topics(model, feature_names, no_top_words):\n",
    "    for topic_idx, topic in enumerate(model.components_):\n",
    "        [t for t]\n",
    "        print(\" \".join([feature_names[i]\n",
    "                        for i in topic.argsort()[:-no_top_words - 1:-1]]))\n",
    "\n",
    "no_top_words = 10\n",
    "display_topics(nmf, feature_names, no_top_words)\n",
    "display_topics(lda, tf_feature_names, no_top_words)"
   ]
  },
  {
   "cell_type": "code",
   "execution_count": null,
   "metadata": {},
   "outputs": [],
   "source": []
  }
 ],
 "metadata": {
  "kernelspec": {
   "display_name": "Python 3",
   "language": "python",
   "name": "python3"
  },
  "language_info": {
   "codemirror_mode": {
    "name": "ipython",
    "version": 3
   },
   "file_extension": ".py",
   "mimetype": "text/x-python",
   "name": "python",
   "nbconvert_exporter": "python",
   "pygments_lexer": "ipython3",
   "version": "3.6.9"
  }
 },
 "nbformat": 4,
 "nbformat_minor": 2
}
